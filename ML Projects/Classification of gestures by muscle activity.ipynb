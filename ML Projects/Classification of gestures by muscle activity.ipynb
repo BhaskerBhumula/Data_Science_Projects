{
 "cells": [
  {
   "cell_type": "markdown",
   "id": "524a5289",
   "metadata": {},
   "source": [
    "### Importing Libraries"
   ]
  },
  {
   "cell_type": "code",
   "execution_count": 1,
   "id": "218fa021",
   "metadata": {},
   "outputs": [],
   "source": [
    "import numpy as np\n",
    "import pandas as pd\n",
    "import matplotlib.pyplot as plt\n",
    "import seaborn as sns\n",
    "import sklearn"
   ]
  },
  {
   "cell_type": "markdown",
   "id": "d6f2e538",
   "metadata": {},
   "source": [
    "### Loading the dataset"
   ]
  },
  {
   "cell_type": "code",
   "execution_count": 2,
   "id": "fbffce14",
   "metadata": {},
   "outputs": [],
   "source": [
    "col_names = ['sensor_01', 'sensor_02', 'sensor_03', 'sensor_04', 'sensor_05', 'sensor_06', 'sensor_07', 'sensor_08', 'sensor_09', 'sensor_10', 'sensor_11', 'sensor_12', 'sensor_13', 'sensor_14', 'sensor_15', 'sensor_16', 'sensor_17', 'sensor_18', 'sensor_19', 'sensor_20', 'sensor_21', 'sensor_22', 'sensor_23', 'sensor_24', 'sensor_25', 'sensor_26', 'sensor_27', 'sensor_28', 'sensor_29', 'sensor_30', 'sensor_31', 'sensor_32', 'sensor_33', 'sensor_34', 'sensor_35', 'sensor_36', 'sensor_37', 'sensor_38', 'sensor_39', 'sensor_40', 'sensor_41', 'sensor_42', 'sensor_43', 'sensor_44', 'sensor_45', 'sensor_46', 'sensor_47', 'sensor_48', 'sensor_49', 'sensor_50', 'sensor_51', 'sensor_52', 'sensor_53', 'sensor_54', 'sensor_55', 'sensor_56', 'sensor_57', 'sensor_58', 'sensor_59', 'sensor_60', 'sensor_61', 'sensor_62', 'sensor_63', 'sensor_64', 'class']"
   ]
  },
  {
   "cell_type": "code",
   "execution_count": 3,
   "id": "1dcb7f7c",
   "metadata": {},
   "outputs": [],
   "source": [
    "df0 = pd.read_csv(r\"C:\\Users\\bhumu\\Downloads\\Classification_of_gestures\\0.csv\",header = None, names=col_names)\n",
    "df1 = pd.read_csv(r\"C:\\Users\\bhumu\\Downloads\\Classification_of_gestures\\1.csv\",header = None, names=col_names)\n",
    "df2 = pd.read_csv(r\"C:\\Users\\bhumu\\Downloads\\Classification_of_gestures\\2.csv\",header = None, names=col_names)\n",
    "df3 = pd.read_csv(r\"C:\\Users\\bhumu\\Downloads\\Classification_of_gestures\\3.csv\",header = None, names=col_names)"
   ]
  },
  {
   "cell_type": "code",
   "execution_count": 4,
   "id": "22cd7c17",
   "metadata": {},
   "outputs": [
    {
     "data": {
      "text/html": [
       "<div>\n",
       "<style scoped>\n",
       "    .dataframe tbody tr th:only-of-type {\n",
       "        vertical-align: middle;\n",
       "    }\n",
       "\n",
       "    .dataframe tbody tr th {\n",
       "        vertical-align: top;\n",
       "    }\n",
       "\n",
       "    .dataframe thead th {\n",
       "        text-align: right;\n",
       "    }\n",
       "</style>\n",
       "<table border=\"1\" class=\"dataframe\">\n",
       "  <thead>\n",
       "    <tr style=\"text-align: right;\">\n",
       "      <th></th>\n",
       "      <th>sensor_01</th>\n",
       "      <th>sensor_02</th>\n",
       "      <th>sensor_03</th>\n",
       "      <th>sensor_04</th>\n",
       "      <th>sensor_05</th>\n",
       "      <th>sensor_06</th>\n",
       "      <th>sensor_07</th>\n",
       "      <th>sensor_08</th>\n",
       "      <th>sensor_09</th>\n",
       "      <th>sensor_10</th>\n",
       "      <th>...</th>\n",
       "      <th>sensor_56</th>\n",
       "      <th>sensor_57</th>\n",
       "      <th>sensor_58</th>\n",
       "      <th>sensor_59</th>\n",
       "      <th>sensor_60</th>\n",
       "      <th>sensor_61</th>\n",
       "      <th>sensor_62</th>\n",
       "      <th>sensor_63</th>\n",
       "      <th>sensor_64</th>\n",
       "      <th>class</th>\n",
       "    </tr>\n",
       "  </thead>\n",
       "  <tbody>\n",
       "    <tr>\n",
       "      <th>0</th>\n",
       "      <td>26.0</td>\n",
       "      <td>4.0</td>\n",
       "      <td>5.0</td>\n",
       "      <td>8.0</td>\n",
       "      <td>-1.0</td>\n",
       "      <td>-13.0</td>\n",
       "      <td>-109.0</td>\n",
       "      <td>-66.0</td>\n",
       "      <td>-9.0</td>\n",
       "      <td>2.0</td>\n",
       "      <td>...</td>\n",
       "      <td>-28.0</td>\n",
       "      <td>61.0</td>\n",
       "      <td>4.0</td>\n",
       "      <td>8.0</td>\n",
       "      <td>5.0</td>\n",
       "      <td>4.0</td>\n",
       "      <td>-7.0</td>\n",
       "      <td>-59.0</td>\n",
       "      <td>16.0</td>\n",
       "      <td>0</td>\n",
       "    </tr>\n",
       "    <tr>\n",
       "      <th>1</th>\n",
       "      <td>-47.0</td>\n",
       "      <td>-6.0</td>\n",
       "      <td>-5.0</td>\n",
       "      <td>-7.0</td>\n",
       "      <td>13.0</td>\n",
       "      <td>-1.0</td>\n",
       "      <td>35.0</td>\n",
       "      <td>-10.0</td>\n",
       "      <td>10.0</td>\n",
       "      <td>-4.0</td>\n",
       "      <td>...</td>\n",
       "      <td>-25.0</td>\n",
       "      <td>47.0</td>\n",
       "      <td>6.0</td>\n",
       "      <td>6.0</td>\n",
       "      <td>5.0</td>\n",
       "      <td>13.0</td>\n",
       "      <td>21.0</td>\n",
       "      <td>111.0</td>\n",
       "      <td>15.0</td>\n",
       "      <td>0</td>\n",
       "    </tr>\n",
       "    <tr>\n",
       "      <th>2</th>\n",
       "      <td>-19.0</td>\n",
       "      <td>-8.0</td>\n",
       "      <td>-8.0</td>\n",
       "      <td>-8.0</td>\n",
       "      <td>-21.0</td>\n",
       "      <td>-6.0</td>\n",
       "      <td>-79.0</td>\n",
       "      <td>12.0</td>\n",
       "      <td>0.0</td>\n",
       "      <td>5.0</td>\n",
       "      <td>...</td>\n",
       "      <td>-83.0</td>\n",
       "      <td>7.0</td>\n",
       "      <td>7.0</td>\n",
       "      <td>1.0</td>\n",
       "      <td>-8.0</td>\n",
       "      <td>7.0</td>\n",
       "      <td>21.0</td>\n",
       "      <td>114.0</td>\n",
       "      <td>48.0</td>\n",
       "      <td>0</td>\n",
       "    </tr>\n",
       "    <tr>\n",
       "      <th>3</th>\n",
       "      <td>2.0</td>\n",
       "      <td>3.0</td>\n",
       "      <td>0.0</td>\n",
       "      <td>2.0</td>\n",
       "      <td>0.0</td>\n",
       "      <td>22.0</td>\n",
       "      <td>106.0</td>\n",
       "      <td>-14.0</td>\n",
       "      <td>-16.0</td>\n",
       "      <td>-2.0</td>\n",
       "      <td>...</td>\n",
       "      <td>-38.0</td>\n",
       "      <td>-11.0</td>\n",
       "      <td>4.0</td>\n",
       "      <td>7.0</td>\n",
       "      <td>11.0</td>\n",
       "      <td>33.0</td>\n",
       "      <td>39.0</td>\n",
       "      <td>119.0</td>\n",
       "      <td>43.0</td>\n",
       "      <td>0</td>\n",
       "    </tr>\n",
       "    <tr>\n",
       "      <th>4</th>\n",
       "      <td>6.0</td>\n",
       "      <td>0.0</td>\n",
       "      <td>0.0</td>\n",
       "      <td>-2.0</td>\n",
       "      <td>-14.0</td>\n",
       "      <td>10.0</td>\n",
       "      <td>-51.0</td>\n",
       "      <td>5.0</td>\n",
       "      <td>7.0</td>\n",
       "      <td>0.0</td>\n",
       "      <td>...</td>\n",
       "      <td>38.0</td>\n",
       "      <td>-35.0</td>\n",
       "      <td>-8.0</td>\n",
       "      <td>2.0</td>\n",
       "      <td>6.0</td>\n",
       "      <td>-13.0</td>\n",
       "      <td>-24.0</td>\n",
       "      <td>-112.0</td>\n",
       "      <td>-69.0</td>\n",
       "      <td>0</td>\n",
       "    </tr>\n",
       "    <tr>\n",
       "      <th>...</th>\n",
       "      <td>...</td>\n",
       "      <td>...</td>\n",
       "      <td>...</td>\n",
       "      <td>...</td>\n",
       "      <td>...</td>\n",
       "      <td>...</td>\n",
       "      <td>...</td>\n",
       "      <td>...</td>\n",
       "      <td>...</td>\n",
       "      <td>...</td>\n",
       "      <td>...</td>\n",
       "      <td>...</td>\n",
       "      <td>...</td>\n",
       "      <td>...</td>\n",
       "      <td>...</td>\n",
       "      <td>...</td>\n",
       "      <td>...</td>\n",
       "      <td>...</td>\n",
       "      <td>...</td>\n",
       "      <td>...</td>\n",
       "      <td>...</td>\n",
       "    </tr>\n",
       "    <tr>\n",
       "      <th>2905</th>\n",
       "      <td>-12.0</td>\n",
       "      <td>0.0</td>\n",
       "      <td>0.0</td>\n",
       "      <td>-7.0</td>\n",
       "      <td>-4.0</td>\n",
       "      <td>-3.0</td>\n",
       "      <td>-1.0</td>\n",
       "      <td>-5.0</td>\n",
       "      <td>4.0</td>\n",
       "      <td>-1.0</td>\n",
       "      <td>...</td>\n",
       "      <td>12.0</td>\n",
       "      <td>-3.0</td>\n",
       "      <td>0.0</td>\n",
       "      <td>2.0</td>\n",
       "      <td>-1.0</td>\n",
       "      <td>-1.0</td>\n",
       "      <td>4.0</td>\n",
       "      <td>-30.0</td>\n",
       "      <td>-20.0</td>\n",
       "      <td>0</td>\n",
       "    </tr>\n",
       "    <tr>\n",
       "      <th>2906</th>\n",
       "      <td>-9.0</td>\n",
       "      <td>-1.0</td>\n",
       "      <td>-2.0</td>\n",
       "      <td>1.0</td>\n",
       "      <td>-13.0</td>\n",
       "      <td>-14.0</td>\n",
       "      <td>-59.0</td>\n",
       "      <td>-4.0</td>\n",
       "      <td>-9.0</td>\n",
       "      <td>0.0</td>\n",
       "      <td>...</td>\n",
       "      <td>20.0</td>\n",
       "      <td>-4.0</td>\n",
       "      <td>0.0</td>\n",
       "      <td>0.0</td>\n",
       "      <td>0.0</td>\n",
       "      <td>-21.0</td>\n",
       "      <td>-10.0</td>\n",
       "      <td>-14.0</td>\n",
       "      <td>-29.0</td>\n",
       "      <td>0</td>\n",
       "    </tr>\n",
       "    <tr>\n",
       "      <th>2907</th>\n",
       "      <td>3.0</td>\n",
       "      <td>-2.0</td>\n",
       "      <td>-2.0</td>\n",
       "      <td>4.0</td>\n",
       "      <td>18.0</td>\n",
       "      <td>-5.0</td>\n",
       "      <td>-31.0</td>\n",
       "      <td>7.0</td>\n",
       "      <td>-3.0</td>\n",
       "      <td>-3.0</td>\n",
       "      <td>...</td>\n",
       "      <td>34.0</td>\n",
       "      <td>-7.0</td>\n",
       "      <td>4.0</td>\n",
       "      <td>4.0</td>\n",
       "      <td>2.0</td>\n",
       "      <td>1.0</td>\n",
       "      <td>4.0</td>\n",
       "      <td>-55.0</td>\n",
       "      <td>-4.0</td>\n",
       "      <td>0</td>\n",
       "    </tr>\n",
       "    <tr>\n",
       "      <th>2908</th>\n",
       "      <td>-2.0</td>\n",
       "      <td>-2.0</td>\n",
       "      <td>-2.0</td>\n",
       "      <td>1.0</td>\n",
       "      <td>-3.0</td>\n",
       "      <td>-17.0</td>\n",
       "      <td>-33.0</td>\n",
       "      <td>-13.0</td>\n",
       "      <td>3.0</td>\n",
       "      <td>2.0</td>\n",
       "      <td>...</td>\n",
       "      <td>-4.0</td>\n",
       "      <td>0.0</td>\n",
       "      <td>3.0</td>\n",
       "      <td>0.0</td>\n",
       "      <td>5.0</td>\n",
       "      <td>9.0</td>\n",
       "      <td>8.0</td>\n",
       "      <td>-13.0</td>\n",
       "      <td>11.0</td>\n",
       "      <td>0</td>\n",
       "    </tr>\n",
       "    <tr>\n",
       "      <th>2909</th>\n",
       "      <td>0.0</td>\n",
       "      <td>-2.0</td>\n",
       "      <td>-3.0</td>\n",
       "      <td>-2.0</td>\n",
       "      <td>2.0</td>\n",
       "      <td>5.0</td>\n",
       "      <td>18.0</td>\n",
       "      <td>-1.0</td>\n",
       "      <td>-5.0</td>\n",
       "      <td>-2.0</td>\n",
       "      <td>...</td>\n",
       "      <td>-2.0</td>\n",
       "      <td>-4.0</td>\n",
       "      <td>6.0</td>\n",
       "      <td>1.0</td>\n",
       "      <td>-8.0</td>\n",
       "      <td>-15.0</td>\n",
       "      <td>3.0</td>\n",
       "      <td>5.0</td>\n",
       "      <td>10.0</td>\n",
       "      <td>0</td>\n",
       "    </tr>\n",
       "  </tbody>\n",
       "</table>\n",
       "<p>2910 rows × 65 columns</p>\n",
       "</div>"
      ],
      "text/plain": [
       "      sensor_01  sensor_02  sensor_03  sensor_04  sensor_05  sensor_06  \\\n",
       "0          26.0        4.0        5.0        8.0       -1.0      -13.0   \n",
       "1         -47.0       -6.0       -5.0       -7.0       13.0       -1.0   \n",
       "2         -19.0       -8.0       -8.0       -8.0      -21.0       -6.0   \n",
       "3           2.0        3.0        0.0        2.0        0.0       22.0   \n",
       "4           6.0        0.0        0.0       -2.0      -14.0       10.0   \n",
       "...         ...        ...        ...        ...        ...        ...   \n",
       "2905      -12.0        0.0        0.0       -7.0       -4.0       -3.0   \n",
       "2906       -9.0       -1.0       -2.0        1.0      -13.0      -14.0   \n",
       "2907        3.0       -2.0       -2.0        4.0       18.0       -5.0   \n",
       "2908       -2.0       -2.0       -2.0        1.0       -3.0      -17.0   \n",
       "2909        0.0       -2.0       -3.0       -2.0        2.0        5.0   \n",
       "\n",
       "      sensor_07  sensor_08  sensor_09  sensor_10  ...  sensor_56  sensor_57  \\\n",
       "0        -109.0      -66.0       -9.0        2.0  ...      -28.0       61.0   \n",
       "1          35.0      -10.0       10.0       -4.0  ...      -25.0       47.0   \n",
       "2         -79.0       12.0        0.0        5.0  ...      -83.0        7.0   \n",
       "3         106.0      -14.0      -16.0       -2.0  ...      -38.0      -11.0   \n",
       "4         -51.0        5.0        7.0        0.0  ...       38.0      -35.0   \n",
       "...         ...        ...        ...        ...  ...        ...        ...   \n",
       "2905       -1.0       -5.0        4.0       -1.0  ...       12.0       -3.0   \n",
       "2906      -59.0       -4.0       -9.0        0.0  ...       20.0       -4.0   \n",
       "2907      -31.0        7.0       -3.0       -3.0  ...       34.0       -7.0   \n",
       "2908      -33.0      -13.0        3.0        2.0  ...       -4.0        0.0   \n",
       "2909       18.0       -1.0       -5.0       -2.0  ...       -2.0       -4.0   \n",
       "\n",
       "      sensor_58  sensor_59  sensor_60  sensor_61  sensor_62  sensor_63  \\\n",
       "0           4.0        8.0        5.0        4.0       -7.0      -59.0   \n",
       "1           6.0        6.0        5.0       13.0       21.0      111.0   \n",
       "2           7.0        1.0       -8.0        7.0       21.0      114.0   \n",
       "3           4.0        7.0       11.0       33.0       39.0      119.0   \n",
       "4          -8.0        2.0        6.0      -13.0      -24.0     -112.0   \n",
       "...         ...        ...        ...        ...        ...        ...   \n",
       "2905        0.0        2.0       -1.0       -1.0        4.0      -30.0   \n",
       "2906        0.0        0.0        0.0      -21.0      -10.0      -14.0   \n",
       "2907        4.0        4.0        2.0        1.0        4.0      -55.0   \n",
       "2908        3.0        0.0        5.0        9.0        8.0      -13.0   \n",
       "2909        6.0        1.0       -8.0      -15.0        3.0        5.0   \n",
       "\n",
       "      sensor_64  class  \n",
       "0          16.0      0  \n",
       "1          15.0      0  \n",
       "2          48.0      0  \n",
       "3          43.0      0  \n",
       "4         -69.0      0  \n",
       "...         ...    ...  \n",
       "2905      -20.0      0  \n",
       "2906      -29.0      0  \n",
       "2907       -4.0      0  \n",
       "2908       11.0      0  \n",
       "2909       10.0      0  \n",
       "\n",
       "[2910 rows x 65 columns]"
      ]
     },
     "execution_count": 4,
     "metadata": {},
     "output_type": "execute_result"
    }
   ],
   "source": [
    "df0"
   ]
  },
  {
   "cell_type": "code",
   "execution_count": 5,
   "id": "035ce71a",
   "metadata": {},
   "outputs": [
    {
     "data": {
      "text/html": [
       "<div>\n",
       "<style scoped>\n",
       "    .dataframe tbody tr th:only-of-type {\n",
       "        vertical-align: middle;\n",
       "    }\n",
       "\n",
       "    .dataframe tbody tr th {\n",
       "        vertical-align: top;\n",
       "    }\n",
       "\n",
       "    .dataframe thead th {\n",
       "        text-align: right;\n",
       "    }\n",
       "</style>\n",
       "<table border=\"1\" class=\"dataframe\">\n",
       "  <thead>\n",
       "    <tr style=\"text-align: right;\">\n",
       "      <th></th>\n",
       "      <th>sensor_01</th>\n",
       "      <th>sensor_02</th>\n",
       "      <th>sensor_03</th>\n",
       "      <th>sensor_04</th>\n",
       "      <th>sensor_05</th>\n",
       "      <th>sensor_06</th>\n",
       "      <th>sensor_07</th>\n",
       "      <th>sensor_08</th>\n",
       "      <th>sensor_09</th>\n",
       "      <th>sensor_10</th>\n",
       "      <th>...</th>\n",
       "      <th>sensor_56</th>\n",
       "      <th>sensor_57</th>\n",
       "      <th>sensor_58</th>\n",
       "      <th>sensor_59</th>\n",
       "      <th>sensor_60</th>\n",
       "      <th>sensor_61</th>\n",
       "      <th>sensor_62</th>\n",
       "      <th>sensor_63</th>\n",
       "      <th>sensor_64</th>\n",
       "      <th>class</th>\n",
       "    </tr>\n",
       "  </thead>\n",
       "  <tbody>\n",
       "    <tr>\n",
       "      <th>0</th>\n",
       "      <td>-7.0</td>\n",
       "      <td>-1.0</td>\n",
       "      <td>-1.0</td>\n",
       "      <td>0.0</td>\n",
       "      <td>-10.0</td>\n",
       "      <td>-10.0</td>\n",
       "      <td>-1.0</td>\n",
       "      <td>1.0</td>\n",
       "      <td>-5.0</td>\n",
       "      <td>-5.0</td>\n",
       "      <td>...</td>\n",
       "      <td>6.0</td>\n",
       "      <td>-4.0</td>\n",
       "      <td>-3.0</td>\n",
       "      <td>-5.0</td>\n",
       "      <td>-3.0</td>\n",
       "      <td>15.0</td>\n",
       "      <td>11.0</td>\n",
       "      <td>-4.0</td>\n",
       "      <td>-5.0</td>\n",
       "      <td>1</td>\n",
       "    </tr>\n",
       "    <tr>\n",
       "      <th>1</th>\n",
       "      <td>-6.0</td>\n",
       "      <td>-2.0</td>\n",
       "      <td>-5.0</td>\n",
       "      <td>-2.0</td>\n",
       "      <td>27.0</td>\n",
       "      <td>42.0</td>\n",
       "      <td>3.0</td>\n",
       "      <td>5.0</td>\n",
       "      <td>11.0</td>\n",
       "      <td>1.0</td>\n",
       "      <td>...</td>\n",
       "      <td>2.0</td>\n",
       "      <td>-17.0</td>\n",
       "      <td>-5.0</td>\n",
       "      <td>-7.0</td>\n",
       "      <td>-2.0</td>\n",
       "      <td>15.0</td>\n",
       "      <td>12.0</td>\n",
       "      <td>0.0</td>\n",
       "      <td>-7.0</td>\n",
       "      <td>1</td>\n",
       "    </tr>\n",
       "    <tr>\n",
       "      <th>2</th>\n",
       "      <td>5.0</td>\n",
       "      <td>0.0</td>\n",
       "      <td>-1.0</td>\n",
       "      <td>-2.0</td>\n",
       "      <td>2.0</td>\n",
       "      <td>-9.0</td>\n",
       "      <td>1.0</td>\n",
       "      <td>5.0</td>\n",
       "      <td>1.0</td>\n",
       "      <td>-3.0</td>\n",
       "      <td>...</td>\n",
       "      <td>-11.0</td>\n",
       "      <td>-23.0</td>\n",
       "      <td>1.0</td>\n",
       "      <td>-1.0</td>\n",
       "      <td>-1.0</td>\n",
       "      <td>-23.0</td>\n",
       "      <td>-25.0</td>\n",
       "      <td>2.0</td>\n",
       "      <td>-1.0</td>\n",
       "      <td>1</td>\n",
       "    </tr>\n",
       "    <tr>\n",
       "      <th>3</th>\n",
       "      <td>31.0</td>\n",
       "      <td>4.0</td>\n",
       "      <td>2.0</td>\n",
       "      <td>-2.0</td>\n",
       "      <td>38.0</td>\n",
       "      <td>14.0</td>\n",
       "      <td>2.0</td>\n",
       "      <td>7.0</td>\n",
       "      <td>-2.0</td>\n",
       "      <td>4.0</td>\n",
       "      <td>...</td>\n",
       "      <td>-4.0</td>\n",
       "      <td>13.0</td>\n",
       "      <td>2.0</td>\n",
       "      <td>-1.0</td>\n",
       "      <td>-3.0</td>\n",
       "      <td>-7.0</td>\n",
       "      <td>0.0</td>\n",
       "      <td>-3.0</td>\n",
       "      <td>-2.0</td>\n",
       "      <td>1</td>\n",
       "    </tr>\n",
       "    <tr>\n",
       "      <th>4</th>\n",
       "      <td>-4.0</td>\n",
       "      <td>-4.0</td>\n",
       "      <td>3.0</td>\n",
       "      <td>3.0</td>\n",
       "      <td>-25.0</td>\n",
       "      <td>-46.0</td>\n",
       "      <td>-1.0</td>\n",
       "      <td>3.0</td>\n",
       "      <td>-7.0</td>\n",
       "      <td>-6.0</td>\n",
       "      <td>...</td>\n",
       "      <td>15.0</td>\n",
       "      <td>4.0</td>\n",
       "      <td>-4.0</td>\n",
       "      <td>-1.0</td>\n",
       "      <td>-1.0</td>\n",
       "      <td>7.0</td>\n",
       "      <td>26.0</td>\n",
       "      <td>3.0</td>\n",
       "      <td>-7.0</td>\n",
       "      <td>1</td>\n",
       "    </tr>\n",
       "    <tr>\n",
       "      <th>...</th>\n",
       "      <td>...</td>\n",
       "      <td>...</td>\n",
       "      <td>...</td>\n",
       "      <td>...</td>\n",
       "      <td>...</td>\n",
       "      <td>...</td>\n",
       "      <td>...</td>\n",
       "      <td>...</td>\n",
       "      <td>...</td>\n",
       "      <td>...</td>\n",
       "      <td>...</td>\n",
       "      <td>...</td>\n",
       "      <td>...</td>\n",
       "      <td>...</td>\n",
       "      <td>...</td>\n",
       "      <td>...</td>\n",
       "      <td>...</td>\n",
       "      <td>...</td>\n",
       "      <td>...</td>\n",
       "      <td>...</td>\n",
       "      <td>...</td>\n",
       "    </tr>\n",
       "    <tr>\n",
       "      <th>2898</th>\n",
       "      <td>0.0</td>\n",
       "      <td>1.0</td>\n",
       "      <td>-2.0</td>\n",
       "      <td>-2.0</td>\n",
       "      <td>-11.0</td>\n",
       "      <td>-12.0</td>\n",
       "      <td>-2.0</td>\n",
       "      <td>-9.0</td>\n",
       "      <td>-7.0</td>\n",
       "      <td>-3.0</td>\n",
       "      <td>...</td>\n",
       "      <td>-7.0</td>\n",
       "      <td>-6.0</td>\n",
       "      <td>-1.0</td>\n",
       "      <td>0.0</td>\n",
       "      <td>1.0</td>\n",
       "      <td>38.0</td>\n",
       "      <td>-8.0</td>\n",
       "      <td>0.0</td>\n",
       "      <td>4.0</td>\n",
       "      <td>1</td>\n",
       "    </tr>\n",
       "    <tr>\n",
       "      <th>2899</th>\n",
       "      <td>-4.0</td>\n",
       "      <td>-4.0</td>\n",
       "      <td>1.0</td>\n",
       "      <td>-1.0</td>\n",
       "      <td>-52.0</td>\n",
       "      <td>-4.0</td>\n",
       "      <td>-1.0</td>\n",
       "      <td>-2.0</td>\n",
       "      <td>9.0</td>\n",
       "      <td>-1.0</td>\n",
       "      <td>...</td>\n",
       "      <td>0.0</td>\n",
       "      <td>-4.0</td>\n",
       "      <td>3.0</td>\n",
       "      <td>1.0</td>\n",
       "      <td>8.0</td>\n",
       "      <td>17.0</td>\n",
       "      <td>0.0</td>\n",
       "      <td>0.0</td>\n",
       "      <td>-7.0</td>\n",
       "      <td>1</td>\n",
       "    </tr>\n",
       "    <tr>\n",
       "      <th>2900</th>\n",
       "      <td>26.0</td>\n",
       "      <td>2.0</td>\n",
       "      <td>0.0</td>\n",
       "      <td>-1.0</td>\n",
       "      <td>20.0</td>\n",
       "      <td>-1.0</td>\n",
       "      <td>1.0</td>\n",
       "      <td>-4.0</td>\n",
       "      <td>18.0</td>\n",
       "      <td>-1.0</td>\n",
       "      <td>...</td>\n",
       "      <td>-7.0</td>\n",
       "      <td>10.0</td>\n",
       "      <td>0.0</td>\n",
       "      <td>-3.0</td>\n",
       "      <td>2.0</td>\n",
       "      <td>34.0</td>\n",
       "      <td>42.0</td>\n",
       "      <td>3.0</td>\n",
       "      <td>6.0</td>\n",
       "      <td>1</td>\n",
       "    </tr>\n",
       "    <tr>\n",
       "      <th>2901</th>\n",
       "      <td>-3.0</td>\n",
       "      <td>4.0</td>\n",
       "      <td>7.0</td>\n",
       "      <td>4.0</td>\n",
       "      <td>-26.0</td>\n",
       "      <td>-32.0</td>\n",
       "      <td>-3.0</td>\n",
       "      <td>-2.0</td>\n",
       "      <td>5.0</td>\n",
       "      <td>1.0</td>\n",
       "      <td>...</td>\n",
       "      <td>1.0</td>\n",
       "      <td>-1.0</td>\n",
       "      <td>0.0</td>\n",
       "      <td>1.0</td>\n",
       "      <td>-1.0</td>\n",
       "      <td>4.0</td>\n",
       "      <td>1.0</td>\n",
       "      <td>0.0</td>\n",
       "      <td>-5.0</td>\n",
       "      <td>1</td>\n",
       "    </tr>\n",
       "    <tr>\n",
       "      <th>2902</th>\n",
       "      <td>-16.0</td>\n",
       "      <td>-3.0</td>\n",
       "      <td>-8.0</td>\n",
       "      <td>-10.0</td>\n",
       "      <td>-24.0</td>\n",
       "      <td>-10.0</td>\n",
       "      <td>-4.0</td>\n",
       "      <td>-9.0</td>\n",
       "      <td>24.0</td>\n",
       "      <td>3.0</td>\n",
       "      <td>...</td>\n",
       "      <td>-3.0</td>\n",
       "      <td>-4.0</td>\n",
       "      <td>1.0</td>\n",
       "      <td>-1.0</td>\n",
       "      <td>-6.0</td>\n",
       "      <td>-21.0</td>\n",
       "      <td>-38.0</td>\n",
       "      <td>-4.0</td>\n",
       "      <td>8.0</td>\n",
       "      <td>1</td>\n",
       "    </tr>\n",
       "  </tbody>\n",
       "</table>\n",
       "<p>2903 rows × 65 columns</p>\n",
       "</div>"
      ],
      "text/plain": [
       "      sensor_01  sensor_02  sensor_03  sensor_04  sensor_05  sensor_06  \\\n",
       "0          -7.0       -1.0       -1.0        0.0      -10.0      -10.0   \n",
       "1          -6.0       -2.0       -5.0       -2.0       27.0       42.0   \n",
       "2           5.0        0.0       -1.0       -2.0        2.0       -9.0   \n",
       "3          31.0        4.0        2.0       -2.0       38.0       14.0   \n",
       "4          -4.0       -4.0        3.0        3.0      -25.0      -46.0   \n",
       "...         ...        ...        ...        ...        ...        ...   \n",
       "2898        0.0        1.0       -2.0       -2.0      -11.0      -12.0   \n",
       "2899       -4.0       -4.0        1.0       -1.0      -52.0       -4.0   \n",
       "2900       26.0        2.0        0.0       -1.0       20.0       -1.0   \n",
       "2901       -3.0        4.0        7.0        4.0      -26.0      -32.0   \n",
       "2902      -16.0       -3.0       -8.0      -10.0      -24.0      -10.0   \n",
       "\n",
       "      sensor_07  sensor_08  sensor_09  sensor_10  ...  sensor_56  sensor_57  \\\n",
       "0          -1.0        1.0       -5.0       -5.0  ...        6.0       -4.0   \n",
       "1           3.0        5.0       11.0        1.0  ...        2.0      -17.0   \n",
       "2           1.0        5.0        1.0       -3.0  ...      -11.0      -23.0   \n",
       "3           2.0        7.0       -2.0        4.0  ...       -4.0       13.0   \n",
       "4          -1.0        3.0       -7.0       -6.0  ...       15.0        4.0   \n",
       "...         ...        ...        ...        ...  ...        ...        ...   \n",
       "2898       -2.0       -9.0       -7.0       -3.0  ...       -7.0       -6.0   \n",
       "2899       -1.0       -2.0        9.0       -1.0  ...        0.0       -4.0   \n",
       "2900        1.0       -4.0       18.0       -1.0  ...       -7.0       10.0   \n",
       "2901       -3.0       -2.0        5.0        1.0  ...        1.0       -1.0   \n",
       "2902       -4.0       -9.0       24.0        3.0  ...       -3.0       -4.0   \n",
       "\n",
       "      sensor_58  sensor_59  sensor_60  sensor_61  sensor_62  sensor_63  \\\n",
       "0          -3.0       -5.0       -3.0       15.0       11.0       -4.0   \n",
       "1          -5.0       -7.0       -2.0       15.0       12.0        0.0   \n",
       "2           1.0       -1.0       -1.0      -23.0      -25.0        2.0   \n",
       "3           2.0       -1.0       -3.0       -7.0        0.0       -3.0   \n",
       "4          -4.0       -1.0       -1.0        7.0       26.0        3.0   \n",
       "...         ...        ...        ...        ...        ...        ...   \n",
       "2898       -1.0        0.0        1.0       38.0       -8.0        0.0   \n",
       "2899        3.0        1.0        8.0       17.0        0.0        0.0   \n",
       "2900        0.0       -3.0        2.0       34.0       42.0        3.0   \n",
       "2901        0.0        1.0       -1.0        4.0        1.0        0.0   \n",
       "2902        1.0       -1.0       -6.0      -21.0      -38.0       -4.0   \n",
       "\n",
       "      sensor_64  class  \n",
       "0          -5.0      1  \n",
       "1          -7.0      1  \n",
       "2          -1.0      1  \n",
       "3          -2.0      1  \n",
       "4          -7.0      1  \n",
       "...         ...    ...  \n",
       "2898        4.0      1  \n",
       "2899       -7.0      1  \n",
       "2900        6.0      1  \n",
       "2901       -5.0      1  \n",
       "2902        8.0      1  \n",
       "\n",
       "[2903 rows x 65 columns]"
      ]
     },
     "execution_count": 5,
     "metadata": {},
     "output_type": "execute_result"
    }
   ],
   "source": [
    "df1"
   ]
  },
  {
   "cell_type": "code",
   "execution_count": 6,
   "id": "e3bc1104",
   "metadata": {},
   "outputs": [
    {
     "data": {
      "text/html": [
       "<div>\n",
       "<style scoped>\n",
       "    .dataframe tbody tr th:only-of-type {\n",
       "        vertical-align: middle;\n",
       "    }\n",
       "\n",
       "    .dataframe tbody tr th {\n",
       "        vertical-align: top;\n",
       "    }\n",
       "\n",
       "    .dataframe thead th {\n",
       "        text-align: right;\n",
       "    }\n",
       "</style>\n",
       "<table border=\"1\" class=\"dataframe\">\n",
       "  <thead>\n",
       "    <tr style=\"text-align: right;\">\n",
       "      <th></th>\n",
       "      <th>sensor_01</th>\n",
       "      <th>sensor_02</th>\n",
       "      <th>sensor_03</th>\n",
       "      <th>sensor_04</th>\n",
       "      <th>sensor_05</th>\n",
       "      <th>sensor_06</th>\n",
       "      <th>sensor_07</th>\n",
       "      <th>sensor_08</th>\n",
       "      <th>sensor_09</th>\n",
       "      <th>sensor_10</th>\n",
       "      <th>...</th>\n",
       "      <th>sensor_56</th>\n",
       "      <th>sensor_57</th>\n",
       "      <th>sensor_58</th>\n",
       "      <th>sensor_59</th>\n",
       "      <th>sensor_60</th>\n",
       "      <th>sensor_61</th>\n",
       "      <th>sensor_62</th>\n",
       "      <th>sensor_63</th>\n",
       "      <th>sensor_64</th>\n",
       "      <th>class</th>\n",
       "    </tr>\n",
       "  </thead>\n",
       "  <tbody>\n",
       "    <tr>\n",
       "      <th>0</th>\n",
       "      <td>4.0</td>\n",
       "      <td>19.0</td>\n",
       "      <td>-9.0</td>\n",
       "      <td>-7.0</td>\n",
       "      <td>-3.0</td>\n",
       "      <td>-36.0</td>\n",
       "      <td>-6.0</td>\n",
       "      <td>-23.0</td>\n",
       "      <td>3.0</td>\n",
       "      <td>-21.0</td>\n",
       "      <td>...</td>\n",
       "      <td>9.0</td>\n",
       "      <td>-14.0</td>\n",
       "      <td>-2.0</td>\n",
       "      <td>-3.0</td>\n",
       "      <td>-4.0</td>\n",
       "      <td>-21.0</td>\n",
       "      <td>7.0</td>\n",
       "      <td>-8.0</td>\n",
       "      <td>-12.0</td>\n",
       "      <td>2</td>\n",
       "    </tr>\n",
       "    <tr>\n",
       "      <th>1</th>\n",
       "      <td>-1.0</td>\n",
       "      <td>12.0</td>\n",
       "      <td>20.0</td>\n",
       "      <td>7.0</td>\n",
       "      <td>20.0</td>\n",
       "      <td>-73.0</td>\n",
       "      <td>-4.0</td>\n",
       "      <td>-2.0</td>\n",
       "      <td>4.0</td>\n",
       "      <td>5.0</td>\n",
       "      <td>...</td>\n",
       "      <td>-3.0</td>\n",
       "      <td>-5.0</td>\n",
       "      <td>-2.0</td>\n",
       "      <td>0.0</td>\n",
       "      <td>-4.0</td>\n",
       "      <td>-7.0</td>\n",
       "      <td>5.0</td>\n",
       "      <td>6.0</td>\n",
       "      <td>9.0</td>\n",
       "      <td>2</td>\n",
       "    </tr>\n",
       "    <tr>\n",
       "      <th>2</th>\n",
       "      <td>4.0</td>\n",
       "      <td>5.0</td>\n",
       "      <td>-8.0</td>\n",
       "      <td>-2.0</td>\n",
       "      <td>10.0</td>\n",
       "      <td>-10.0</td>\n",
       "      <td>-10.0</td>\n",
       "      <td>16.0</td>\n",
       "      <td>-3.0</td>\n",
       "      <td>-18.0</td>\n",
       "      <td>...</td>\n",
       "      <td>2.0</td>\n",
       "      <td>0.0</td>\n",
       "      <td>2.0</td>\n",
       "      <td>3.0</td>\n",
       "      <td>-8.0</td>\n",
       "      <td>19.0</td>\n",
       "      <td>20.0</td>\n",
       "      <td>0.0</td>\n",
       "      <td>-8.0</td>\n",
       "      <td>2</td>\n",
       "    </tr>\n",
       "    <tr>\n",
       "      <th>3</th>\n",
       "      <td>-3.0</td>\n",
       "      <td>-3.0</td>\n",
       "      <td>5.0</td>\n",
       "      <td>11.0</td>\n",
       "      <td>25.0</td>\n",
       "      <td>-20.0</td>\n",
       "      <td>-2.0</td>\n",
       "      <td>14.0</td>\n",
       "      <td>9.0</td>\n",
       "      <td>32.0</td>\n",
       "      <td>...</td>\n",
       "      <td>15.0</td>\n",
       "      <td>-2.0</td>\n",
       "      <td>16.0</td>\n",
       "      <td>6.0</td>\n",
       "      <td>9.0</td>\n",
       "      <td>1.0</td>\n",
       "      <td>31.0</td>\n",
       "      <td>16.0</td>\n",
       "      <td>4.0</td>\n",
       "      <td>2</td>\n",
       "    </tr>\n",
       "    <tr>\n",
       "      <th>4</th>\n",
       "      <td>-5.0</td>\n",
       "      <td>-9.0</td>\n",
       "      <td>-2.0</td>\n",
       "      <td>-5.0</td>\n",
       "      <td>-46.0</td>\n",
       "      <td>-34.0</td>\n",
       "      <td>-9.0</td>\n",
       "      <td>-4.0</td>\n",
       "      <td>0.0</td>\n",
       "      <td>8.0</td>\n",
       "      <td>...</td>\n",
       "      <td>-5.0</td>\n",
       "      <td>-11.0</td>\n",
       "      <td>-6.0</td>\n",
       "      <td>7.0</td>\n",
       "      <td>6.0</td>\n",
       "      <td>-10.0</td>\n",
       "      <td>-24.0</td>\n",
       "      <td>-6.0</td>\n",
       "      <td>0.0</td>\n",
       "      <td>2</td>\n",
       "    </tr>\n",
       "    <tr>\n",
       "      <th>...</th>\n",
       "      <td>...</td>\n",
       "      <td>...</td>\n",
       "      <td>...</td>\n",
       "      <td>...</td>\n",
       "      <td>...</td>\n",
       "      <td>...</td>\n",
       "      <td>...</td>\n",
       "      <td>...</td>\n",
       "      <td>...</td>\n",
       "      <td>...</td>\n",
       "      <td>...</td>\n",
       "      <td>...</td>\n",
       "      <td>...</td>\n",
       "      <td>...</td>\n",
       "      <td>...</td>\n",
       "      <td>...</td>\n",
       "      <td>...</td>\n",
       "      <td>...</td>\n",
       "      <td>...</td>\n",
       "      <td>...</td>\n",
       "      <td>...</td>\n",
       "    </tr>\n",
       "    <tr>\n",
       "      <th>2938</th>\n",
       "      <td>1.0</td>\n",
       "      <td>-14.0</td>\n",
       "      <td>-5.0</td>\n",
       "      <td>-9.0</td>\n",
       "      <td>-10.0</td>\n",
       "      <td>4.0</td>\n",
       "      <td>-3.0</td>\n",
       "      <td>-4.0</td>\n",
       "      <td>3.0</td>\n",
       "      <td>4.0</td>\n",
       "      <td>...</td>\n",
       "      <td>22.0</td>\n",
       "      <td>8.0</td>\n",
       "      <td>28.0</td>\n",
       "      <td>-3.0</td>\n",
       "      <td>8.0</td>\n",
       "      <td>22.0</td>\n",
       "      <td>35.0</td>\n",
       "      <td>-1.0</td>\n",
       "      <td>-11.0</td>\n",
       "      <td>2</td>\n",
       "    </tr>\n",
       "    <tr>\n",
       "      <th>2939</th>\n",
       "      <td>-3.0</td>\n",
       "      <td>-8.0</td>\n",
       "      <td>-7.0</td>\n",
       "      <td>-7.0</td>\n",
       "      <td>-18.0</td>\n",
       "      <td>-49.0</td>\n",
       "      <td>-5.0</td>\n",
       "      <td>9.0</td>\n",
       "      <td>23.0</td>\n",
       "      <td>0.0</td>\n",
       "      <td>...</td>\n",
       "      <td>-8.0</td>\n",
       "      <td>8.0</td>\n",
       "      <td>17.0</td>\n",
       "      <td>9.0</td>\n",
       "      <td>-9.0</td>\n",
       "      <td>-1.0</td>\n",
       "      <td>-6.0</td>\n",
       "      <td>0.0</td>\n",
       "      <td>7.0</td>\n",
       "      <td>2</td>\n",
       "    </tr>\n",
       "    <tr>\n",
       "      <th>2940</th>\n",
       "      <td>-13.0</td>\n",
       "      <td>3.0</td>\n",
       "      <td>-4.0</td>\n",
       "      <td>-1.0</td>\n",
       "      <td>-7.0</td>\n",
       "      <td>15.0</td>\n",
       "      <td>-4.0</td>\n",
       "      <td>-6.0</td>\n",
       "      <td>-4.0</td>\n",
       "      <td>-9.0</td>\n",
       "      <td>...</td>\n",
       "      <td>6.0</td>\n",
       "      <td>-3.0</td>\n",
       "      <td>18.0</td>\n",
       "      <td>-2.0</td>\n",
       "      <td>-9.0</td>\n",
       "      <td>-11.0</td>\n",
       "      <td>-9.0</td>\n",
       "      <td>-4.0</td>\n",
       "      <td>22.0</td>\n",
       "      <td>2</td>\n",
       "    </tr>\n",
       "    <tr>\n",
       "      <th>2941</th>\n",
       "      <td>8.0</td>\n",
       "      <td>-24.0</td>\n",
       "      <td>-11.0</td>\n",
       "      <td>-7.0</td>\n",
       "      <td>21.0</td>\n",
       "      <td>23.0</td>\n",
       "      <td>0.0</td>\n",
       "      <td>6.0</td>\n",
       "      <td>-22.0</td>\n",
       "      <td>-10.0</td>\n",
       "      <td>...</td>\n",
       "      <td>-7.0</td>\n",
       "      <td>19.0</td>\n",
       "      <td>38.0</td>\n",
       "      <td>7.0</td>\n",
       "      <td>3.0</td>\n",
       "      <td>6.0</td>\n",
       "      <td>-5.0</td>\n",
       "      <td>-2.0</td>\n",
       "      <td>7.0</td>\n",
       "      <td>2</td>\n",
       "    </tr>\n",
       "    <tr>\n",
       "      <th>2942</th>\n",
       "      <td>-8.0</td>\n",
       "      <td>-81.0</td>\n",
       "      <td>-6.0</td>\n",
       "      <td>-2.0</td>\n",
       "      <td>-14.0</td>\n",
       "      <td>-36.0</td>\n",
       "      <td>-3.0</td>\n",
       "      <td>-3.0</td>\n",
       "      <td>-3.0</td>\n",
       "      <td>2.0</td>\n",
       "      <td>...</td>\n",
       "      <td>2.0</td>\n",
       "      <td>-6.0</td>\n",
       "      <td>-4.0</td>\n",
       "      <td>-2.0</td>\n",
       "      <td>-2.0</td>\n",
       "      <td>-30.0</td>\n",
       "      <td>-25.0</td>\n",
       "      <td>-4.0</td>\n",
       "      <td>-12.0</td>\n",
       "      <td>2</td>\n",
       "    </tr>\n",
       "  </tbody>\n",
       "</table>\n",
       "<p>2943 rows × 65 columns</p>\n",
       "</div>"
      ],
      "text/plain": [
       "      sensor_01  sensor_02  sensor_03  sensor_04  sensor_05  sensor_06  \\\n",
       "0           4.0       19.0       -9.0       -7.0       -3.0      -36.0   \n",
       "1          -1.0       12.0       20.0        7.0       20.0      -73.0   \n",
       "2           4.0        5.0       -8.0       -2.0       10.0      -10.0   \n",
       "3          -3.0       -3.0        5.0       11.0       25.0      -20.0   \n",
       "4          -5.0       -9.0       -2.0       -5.0      -46.0      -34.0   \n",
       "...         ...        ...        ...        ...        ...        ...   \n",
       "2938        1.0      -14.0       -5.0       -9.0      -10.0        4.0   \n",
       "2939       -3.0       -8.0       -7.0       -7.0      -18.0      -49.0   \n",
       "2940      -13.0        3.0       -4.0       -1.0       -7.0       15.0   \n",
       "2941        8.0      -24.0      -11.0       -7.0       21.0       23.0   \n",
       "2942       -8.0      -81.0       -6.0       -2.0      -14.0      -36.0   \n",
       "\n",
       "      sensor_07  sensor_08  sensor_09  sensor_10  ...  sensor_56  sensor_57  \\\n",
       "0          -6.0      -23.0        3.0      -21.0  ...        9.0      -14.0   \n",
       "1          -4.0       -2.0        4.0        5.0  ...       -3.0       -5.0   \n",
       "2         -10.0       16.0       -3.0      -18.0  ...        2.0        0.0   \n",
       "3          -2.0       14.0        9.0       32.0  ...       15.0       -2.0   \n",
       "4          -9.0       -4.0        0.0        8.0  ...       -5.0      -11.0   \n",
       "...         ...        ...        ...        ...  ...        ...        ...   \n",
       "2938       -3.0       -4.0        3.0        4.0  ...       22.0        8.0   \n",
       "2939       -5.0        9.0       23.0        0.0  ...       -8.0        8.0   \n",
       "2940       -4.0       -6.0       -4.0       -9.0  ...        6.0       -3.0   \n",
       "2941        0.0        6.0      -22.0      -10.0  ...       -7.0       19.0   \n",
       "2942       -3.0       -3.0       -3.0        2.0  ...        2.0       -6.0   \n",
       "\n",
       "      sensor_58  sensor_59  sensor_60  sensor_61  sensor_62  sensor_63  \\\n",
       "0          -2.0       -3.0       -4.0      -21.0        7.0       -8.0   \n",
       "1          -2.0        0.0       -4.0       -7.0        5.0        6.0   \n",
       "2           2.0        3.0       -8.0       19.0       20.0        0.0   \n",
       "3          16.0        6.0        9.0        1.0       31.0       16.0   \n",
       "4          -6.0        7.0        6.0      -10.0      -24.0       -6.0   \n",
       "...         ...        ...        ...        ...        ...        ...   \n",
       "2938       28.0       -3.0        8.0       22.0       35.0       -1.0   \n",
       "2939       17.0        9.0       -9.0       -1.0       -6.0        0.0   \n",
       "2940       18.0       -2.0       -9.0      -11.0       -9.0       -4.0   \n",
       "2941       38.0        7.0        3.0        6.0       -5.0       -2.0   \n",
       "2942       -4.0       -2.0       -2.0      -30.0      -25.0       -4.0   \n",
       "\n",
       "      sensor_64  class  \n",
       "0         -12.0      2  \n",
       "1           9.0      2  \n",
       "2          -8.0      2  \n",
       "3           4.0      2  \n",
       "4           0.0      2  \n",
       "...         ...    ...  \n",
       "2938      -11.0      2  \n",
       "2939        7.0      2  \n",
       "2940       22.0      2  \n",
       "2941        7.0      2  \n",
       "2942      -12.0      2  \n",
       "\n",
       "[2943 rows x 65 columns]"
      ]
     },
     "execution_count": 6,
     "metadata": {},
     "output_type": "execute_result"
    }
   ],
   "source": [
    "df2"
   ]
  },
  {
   "cell_type": "code",
   "execution_count": 7,
   "id": "e4528a9e",
   "metadata": {
    "scrolled": true
   },
   "outputs": [
    {
     "data": {
      "text/html": [
       "<div>\n",
       "<style scoped>\n",
       "    .dataframe tbody tr th:only-of-type {\n",
       "        vertical-align: middle;\n",
       "    }\n",
       "\n",
       "    .dataframe tbody tr th {\n",
       "        vertical-align: top;\n",
       "    }\n",
       "\n",
       "    .dataframe thead th {\n",
       "        text-align: right;\n",
       "    }\n",
       "</style>\n",
       "<table border=\"1\" class=\"dataframe\">\n",
       "  <thead>\n",
       "    <tr style=\"text-align: right;\">\n",
       "      <th></th>\n",
       "      <th>sensor_01</th>\n",
       "      <th>sensor_02</th>\n",
       "      <th>sensor_03</th>\n",
       "      <th>sensor_04</th>\n",
       "      <th>sensor_05</th>\n",
       "      <th>sensor_06</th>\n",
       "      <th>sensor_07</th>\n",
       "      <th>sensor_08</th>\n",
       "      <th>sensor_09</th>\n",
       "      <th>sensor_10</th>\n",
       "      <th>...</th>\n",
       "      <th>sensor_56</th>\n",
       "      <th>sensor_57</th>\n",
       "      <th>sensor_58</th>\n",
       "      <th>sensor_59</th>\n",
       "      <th>sensor_60</th>\n",
       "      <th>sensor_61</th>\n",
       "      <th>sensor_62</th>\n",
       "      <th>sensor_63</th>\n",
       "      <th>sensor_64</th>\n",
       "      <th>class</th>\n",
       "    </tr>\n",
       "  </thead>\n",
       "  <tbody>\n",
       "    <tr>\n",
       "      <th>0</th>\n",
       "      <td>-22.0</td>\n",
       "      <td>-9.0</td>\n",
       "      <td>-6.0</td>\n",
       "      <td>-1.0</td>\n",
       "      <td>21.0</td>\n",
       "      <td>26.0</td>\n",
       "      <td>-2.0</td>\n",
       "      <td>5.0</td>\n",
       "      <td>5.0</td>\n",
       "      <td>0.0</td>\n",
       "      <td>...</td>\n",
       "      <td>-10.0</td>\n",
       "      <td>-15.0</td>\n",
       "      <td>-6.0</td>\n",
       "      <td>-3.0</td>\n",
       "      <td>3.0</td>\n",
       "      <td>20.0</td>\n",
       "      <td>25.0</td>\n",
       "      <td>1.0</td>\n",
       "      <td>1.0</td>\n",
       "      <td>3</td>\n",
       "    </tr>\n",
       "    <tr>\n",
       "      <th>1</th>\n",
       "      <td>-7.0</td>\n",
       "      <td>0.0</td>\n",
       "      <td>1.0</td>\n",
       "      <td>0.0</td>\n",
       "      <td>-13.0</td>\n",
       "      <td>-18.0</td>\n",
       "      <td>0.0</td>\n",
       "      <td>-9.0</td>\n",
       "      <td>-6.0</td>\n",
       "      <td>-2.0</td>\n",
       "      <td>...</td>\n",
       "      <td>-1.0</td>\n",
       "      <td>11.0</td>\n",
       "      <td>-4.0</td>\n",
       "      <td>-5.0</td>\n",
       "      <td>-4.0</td>\n",
       "      <td>3.0</td>\n",
       "      <td>-8.0</td>\n",
       "      <td>-7.0</td>\n",
       "      <td>-3.0</td>\n",
       "      <td>3</td>\n",
       "    </tr>\n",
       "    <tr>\n",
       "      <th>2</th>\n",
       "      <td>-6.0</td>\n",
       "      <td>-6.0</td>\n",
       "      <td>-6.0</td>\n",
       "      <td>-8.0</td>\n",
       "      <td>25.0</td>\n",
       "      <td>43.0</td>\n",
       "      <td>-4.0</td>\n",
       "      <td>7.0</td>\n",
       "      <td>6.0</td>\n",
       "      <td>1.0</td>\n",
       "      <td>...</td>\n",
       "      <td>3.0</td>\n",
       "      <td>2.0</td>\n",
       "      <td>1.0</td>\n",
       "      <td>3.0</td>\n",
       "      <td>-1.0</td>\n",
       "      <td>1.0</td>\n",
       "      <td>9.0</td>\n",
       "      <td>4.0</td>\n",
       "      <td>4.0</td>\n",
       "      <td>3</td>\n",
       "    </tr>\n",
       "    <tr>\n",
       "      <th>3</th>\n",
       "      <td>2.0</td>\n",
       "      <td>1.0</td>\n",
       "      <td>1.0</td>\n",
       "      <td>1.0</td>\n",
       "      <td>0.0</td>\n",
       "      <td>-23.0</td>\n",
       "      <td>2.0</td>\n",
       "      <td>-6.0</td>\n",
       "      <td>-1.0</td>\n",
       "      <td>-2.0</td>\n",
       "      <td>...</td>\n",
       "      <td>16.0</td>\n",
       "      <td>-3.0</td>\n",
       "      <td>-1.0</td>\n",
       "      <td>-1.0</td>\n",
       "      <td>-3.0</td>\n",
       "      <td>0.0</td>\n",
       "      <td>-3.0</td>\n",
       "      <td>4.0</td>\n",
       "      <td>3.0</td>\n",
       "      <td>3</td>\n",
       "    </tr>\n",
       "    <tr>\n",
       "      <th>4</th>\n",
       "      <td>0.0</td>\n",
       "      <td>3.0</td>\n",
       "      <td>4.0</td>\n",
       "      <td>5.0</td>\n",
       "      <td>1.0</td>\n",
       "      <td>25.0</td>\n",
       "      <td>-9.0</td>\n",
       "      <td>0.0</td>\n",
       "      <td>0.0</td>\n",
       "      <td>1.0</td>\n",
       "      <td>...</td>\n",
       "      <td>1.0</td>\n",
       "      <td>6.0</td>\n",
       "      <td>2.0</td>\n",
       "      <td>1.0</td>\n",
       "      <td>-3.0</td>\n",
       "      <td>-20.0</td>\n",
       "      <td>-42.0</td>\n",
       "      <td>-4.0</td>\n",
       "      <td>2.0</td>\n",
       "      <td>3</td>\n",
       "    </tr>\n",
       "    <tr>\n",
       "      <th>...</th>\n",
       "      <td>...</td>\n",
       "      <td>...</td>\n",
       "      <td>...</td>\n",
       "      <td>...</td>\n",
       "      <td>...</td>\n",
       "      <td>...</td>\n",
       "      <td>...</td>\n",
       "      <td>...</td>\n",
       "      <td>...</td>\n",
       "      <td>...</td>\n",
       "      <td>...</td>\n",
       "      <td>...</td>\n",
       "      <td>...</td>\n",
       "      <td>...</td>\n",
       "      <td>...</td>\n",
       "      <td>...</td>\n",
       "      <td>...</td>\n",
       "      <td>...</td>\n",
       "      <td>...</td>\n",
       "      <td>...</td>\n",
       "      <td>...</td>\n",
       "    </tr>\n",
       "    <tr>\n",
       "      <th>2917</th>\n",
       "      <td>-3.0</td>\n",
       "      <td>-1.0</td>\n",
       "      <td>-1.0</td>\n",
       "      <td>-1.0</td>\n",
       "      <td>-28.0</td>\n",
       "      <td>20.0</td>\n",
       "      <td>5.0</td>\n",
       "      <td>0.0</td>\n",
       "      <td>-5.0</td>\n",
       "      <td>0.0</td>\n",
       "      <td>...</td>\n",
       "      <td>-3.0</td>\n",
       "      <td>1.0</td>\n",
       "      <td>4.0</td>\n",
       "      <td>3.0</td>\n",
       "      <td>4.0</td>\n",
       "      <td>-51.0</td>\n",
       "      <td>-49.0</td>\n",
       "      <td>5.0</td>\n",
       "      <td>-9.0</td>\n",
       "      <td>3</td>\n",
       "    </tr>\n",
       "    <tr>\n",
       "      <th>2918</th>\n",
       "      <td>-13.0</td>\n",
       "      <td>-5.0</td>\n",
       "      <td>-4.0</td>\n",
       "      <td>-3.0</td>\n",
       "      <td>-4.0</td>\n",
       "      <td>-24.0</td>\n",
       "      <td>-10.0</td>\n",
       "      <td>-8.0</td>\n",
       "      <td>20.0</td>\n",
       "      <td>9.0</td>\n",
       "      <td>...</td>\n",
       "      <td>6.0</td>\n",
       "      <td>-3.0</td>\n",
       "      <td>-3.0</td>\n",
       "      <td>-3.0</td>\n",
       "      <td>-5.0</td>\n",
       "      <td>-4.0</td>\n",
       "      <td>-45.0</td>\n",
       "      <td>-12.0</td>\n",
       "      <td>-15.0</td>\n",
       "      <td>3</td>\n",
       "    </tr>\n",
       "    <tr>\n",
       "      <th>2919</th>\n",
       "      <td>-1.0</td>\n",
       "      <td>-3.0</td>\n",
       "      <td>-1.0</td>\n",
       "      <td>1.0</td>\n",
       "      <td>30.0</td>\n",
       "      <td>38.0</td>\n",
       "      <td>-1.0</td>\n",
       "      <td>36.0</td>\n",
       "      <td>-10.0</td>\n",
       "      <td>1.0</td>\n",
       "      <td>...</td>\n",
       "      <td>14.0</td>\n",
       "      <td>-8.0</td>\n",
       "      <td>-4.0</td>\n",
       "      <td>-4.0</td>\n",
       "      <td>-4.0</td>\n",
       "      <td>-21.0</td>\n",
       "      <td>-29.0</td>\n",
       "      <td>-5.0</td>\n",
       "      <td>0.0</td>\n",
       "      <td>3</td>\n",
       "    </tr>\n",
       "    <tr>\n",
       "      <th>2920</th>\n",
       "      <td>1.0</td>\n",
       "      <td>4.0</td>\n",
       "      <td>4.0</td>\n",
       "      <td>5.0</td>\n",
       "      <td>9.0</td>\n",
       "      <td>-10.0</td>\n",
       "      <td>4.0</td>\n",
       "      <td>1.0</td>\n",
       "      <td>-2.0</td>\n",
       "      <td>-1.0</td>\n",
       "      <td>...</td>\n",
       "      <td>-16.0</td>\n",
       "      <td>-3.0</td>\n",
       "      <td>0.0</td>\n",
       "      <td>-3.0</td>\n",
       "      <td>-5.0</td>\n",
       "      <td>-36.0</td>\n",
       "      <td>-90.0</td>\n",
       "      <td>3.0</td>\n",
       "      <td>5.0</td>\n",
       "      <td>3</td>\n",
       "    </tr>\n",
       "    <tr>\n",
       "      <th>2921</th>\n",
       "      <td>-2.0</td>\n",
       "      <td>4.0</td>\n",
       "      <td>2.0</td>\n",
       "      <td>-4.0</td>\n",
       "      <td>12.0</td>\n",
       "      <td>3.0</td>\n",
       "      <td>-2.0</td>\n",
       "      <td>9.0</td>\n",
       "      <td>-8.0</td>\n",
       "      <td>-2.0</td>\n",
       "      <td>...</td>\n",
       "      <td>2.0</td>\n",
       "      <td>1.0</td>\n",
       "      <td>0.0</td>\n",
       "      <td>-1.0</td>\n",
       "      <td>-2.0</td>\n",
       "      <td>-30.0</td>\n",
       "      <td>64.0</td>\n",
       "      <td>11.0</td>\n",
       "      <td>5.0</td>\n",
       "      <td>3</td>\n",
       "    </tr>\n",
       "  </tbody>\n",
       "</table>\n",
       "<p>2922 rows × 65 columns</p>\n",
       "</div>"
      ],
      "text/plain": [
       "      sensor_01  sensor_02  sensor_03  sensor_04  sensor_05  sensor_06  \\\n",
       "0         -22.0       -9.0       -6.0       -1.0       21.0       26.0   \n",
       "1          -7.0        0.0        1.0        0.0      -13.0      -18.0   \n",
       "2          -6.0       -6.0       -6.0       -8.0       25.0       43.0   \n",
       "3           2.0        1.0        1.0        1.0        0.0      -23.0   \n",
       "4           0.0        3.0        4.0        5.0        1.0       25.0   \n",
       "...         ...        ...        ...        ...        ...        ...   \n",
       "2917       -3.0       -1.0       -1.0       -1.0      -28.0       20.0   \n",
       "2918      -13.0       -5.0       -4.0       -3.0       -4.0      -24.0   \n",
       "2919       -1.0       -3.0       -1.0        1.0       30.0       38.0   \n",
       "2920        1.0        4.0        4.0        5.0        9.0      -10.0   \n",
       "2921       -2.0        4.0        2.0       -4.0       12.0        3.0   \n",
       "\n",
       "      sensor_07  sensor_08  sensor_09  sensor_10  ...  sensor_56  sensor_57  \\\n",
       "0          -2.0        5.0        5.0        0.0  ...      -10.0      -15.0   \n",
       "1           0.0       -9.0       -6.0       -2.0  ...       -1.0       11.0   \n",
       "2          -4.0        7.0        6.0        1.0  ...        3.0        2.0   \n",
       "3           2.0       -6.0       -1.0       -2.0  ...       16.0       -3.0   \n",
       "4          -9.0        0.0        0.0        1.0  ...        1.0        6.0   \n",
       "...         ...        ...        ...        ...  ...        ...        ...   \n",
       "2917        5.0        0.0       -5.0        0.0  ...       -3.0        1.0   \n",
       "2918      -10.0       -8.0       20.0        9.0  ...        6.0       -3.0   \n",
       "2919       -1.0       36.0      -10.0        1.0  ...       14.0       -8.0   \n",
       "2920        4.0        1.0       -2.0       -1.0  ...      -16.0       -3.0   \n",
       "2921       -2.0        9.0       -8.0       -2.0  ...        2.0        1.0   \n",
       "\n",
       "      sensor_58  sensor_59  sensor_60  sensor_61  sensor_62  sensor_63  \\\n",
       "0          -6.0       -3.0        3.0       20.0       25.0        1.0   \n",
       "1          -4.0       -5.0       -4.0        3.0       -8.0       -7.0   \n",
       "2           1.0        3.0       -1.0        1.0        9.0        4.0   \n",
       "3          -1.0       -1.0       -3.0        0.0       -3.0        4.0   \n",
       "4           2.0        1.0       -3.0      -20.0      -42.0       -4.0   \n",
       "...         ...        ...        ...        ...        ...        ...   \n",
       "2917        4.0        3.0        4.0      -51.0      -49.0        5.0   \n",
       "2918       -3.0       -3.0       -5.0       -4.0      -45.0      -12.0   \n",
       "2919       -4.0       -4.0       -4.0      -21.0      -29.0       -5.0   \n",
       "2920        0.0       -3.0       -5.0      -36.0      -90.0        3.0   \n",
       "2921        0.0       -1.0       -2.0      -30.0       64.0       11.0   \n",
       "\n",
       "      sensor_64  class  \n",
       "0           1.0      3  \n",
       "1          -3.0      3  \n",
       "2           4.0      3  \n",
       "3           3.0      3  \n",
       "4           2.0      3  \n",
       "...         ...    ...  \n",
       "2917       -9.0      3  \n",
       "2918      -15.0      3  \n",
       "2919        0.0      3  \n",
       "2920        5.0      3  \n",
       "2921        5.0      3  \n",
       "\n",
       "[2922 rows x 65 columns]"
      ]
     },
     "execution_count": 7,
     "metadata": {},
     "output_type": "execute_result"
    }
   ],
   "source": [
    "df3"
   ]
  },
  {
   "cell_type": "code",
   "execution_count": 8,
   "id": "c3f6e2b1",
   "metadata": {},
   "outputs": [
    {
     "data": {
      "text/plain": [
       "((2910, 65), (2903, 65), (2943, 65), (2922, 65))"
      ]
     },
     "execution_count": 8,
     "metadata": {},
     "output_type": "execute_result"
    }
   ],
   "source": [
    "df0.shape, df1.shape, df2.shape, df3.shape"
   ]
  },
  {
   "cell_type": "markdown",
   "id": "2b712029",
   "metadata": {},
   "source": [
    "The data is almost balanced."
   ]
  },
  {
   "cell_type": "markdown",
   "id": "2ee57eac",
   "metadata": {},
   "source": [
    "### Data Preprocessing"
   ]
  },
  {
   "cell_type": "code",
   "execution_count": 9,
   "id": "8e29bbe1",
   "metadata": {},
   "outputs": [
    {
     "name": "stdout",
     "output_type": "stream",
     "text": [
      "Number of null values in df0:  0\n",
      "Number of null values in df1:  0\n",
      "Number of null values in df2:  0\n",
      "Number of null values in df3:  0\n"
     ]
    }
   ],
   "source": [
    "print('Number of null values in df0: ',df0.isna().sum().sum()),\n",
    "print('Number of null values in df1: ',df1.isna().sum().sum()),\n",
    "print('Number of null values in df2: ',df2.isna().sum().sum()),\n",
    "print('Number of null values in df3: ',df3.isna().sum().sum())"
   ]
  },
  {
   "cell_type": "code",
   "execution_count": 10,
   "id": "2d2f6f84",
   "metadata": {},
   "outputs": [],
   "source": [
    "df = pd.concat([df0, df1, df2, df3], ignore_index=True)"
   ]
  },
  {
   "cell_type": "code",
   "execution_count": 11,
   "id": "0e3a31b9",
   "metadata": {},
   "outputs": [],
   "source": [
    "from sklearn.utils import shuffle"
   ]
  },
  {
   "cell_type": "code",
   "execution_count": 12,
   "id": "d7b5ae42",
   "metadata": {},
   "outputs": [],
   "source": [
    "df = shuffle(df, random_state=42)"
   ]
  },
  {
   "cell_type": "code",
   "execution_count": 13,
   "id": "86353bc2",
   "metadata": {
    "scrolled": true
   },
   "outputs": [
    {
     "data": {
      "text/html": [
       "<div>\n",
       "<style scoped>\n",
       "    .dataframe tbody tr th:only-of-type {\n",
       "        vertical-align: middle;\n",
       "    }\n",
       "\n",
       "    .dataframe tbody tr th {\n",
       "        vertical-align: top;\n",
       "    }\n",
       "\n",
       "    .dataframe thead th {\n",
       "        text-align: right;\n",
       "    }\n",
       "</style>\n",
       "<table border=\"1\" class=\"dataframe\">\n",
       "  <thead>\n",
       "    <tr style=\"text-align: right;\">\n",
       "      <th></th>\n",
       "      <th>sensor_01</th>\n",
       "      <th>sensor_02</th>\n",
       "      <th>sensor_03</th>\n",
       "      <th>sensor_04</th>\n",
       "      <th>sensor_05</th>\n",
       "      <th>sensor_06</th>\n",
       "      <th>sensor_07</th>\n",
       "      <th>sensor_08</th>\n",
       "      <th>sensor_09</th>\n",
       "      <th>sensor_10</th>\n",
       "      <th>...</th>\n",
       "      <th>sensor_56</th>\n",
       "      <th>sensor_57</th>\n",
       "      <th>sensor_58</th>\n",
       "      <th>sensor_59</th>\n",
       "      <th>sensor_60</th>\n",
       "      <th>sensor_61</th>\n",
       "      <th>sensor_62</th>\n",
       "      <th>sensor_63</th>\n",
       "      <th>sensor_64</th>\n",
       "      <th>class</th>\n",
       "    </tr>\n",
       "  </thead>\n",
       "  <tbody>\n",
       "    <tr>\n",
       "      <th>11229</th>\n",
       "      <td>-1.0</td>\n",
       "      <td>1.0</td>\n",
       "      <td>-1.0</td>\n",
       "      <td>4.0</td>\n",
       "      <td>11.0</td>\n",
       "      <td>23.0</td>\n",
       "      <td>3.0</td>\n",
       "      <td>5.0</td>\n",
       "      <td>1.0</td>\n",
       "      <td>-3.0</td>\n",
       "      <td>...</td>\n",
       "      <td>26.0</td>\n",
       "      <td>-3.0</td>\n",
       "      <td>-1.0</td>\n",
       "      <td>-4.0</td>\n",
       "      <td>-6.0</td>\n",
       "      <td>-9.0</td>\n",
       "      <td>-31.0</td>\n",
       "      <td>-10.0</td>\n",
       "      <td>-5.0</td>\n",
       "      <td>3</td>\n",
       "    </tr>\n",
       "    <tr>\n",
       "      <th>11658</th>\n",
       "      <td>0.0</td>\n",
       "      <td>-1.0</td>\n",
       "      <td>1.0</td>\n",
       "      <td>1.0</td>\n",
       "      <td>7.0</td>\n",
       "      <td>40.0</td>\n",
       "      <td>-4.0</td>\n",
       "      <td>-2.0</td>\n",
       "      <td>2.0</td>\n",
       "      <td>-2.0</td>\n",
       "      <td>...</td>\n",
       "      <td>-7.0</td>\n",
       "      <td>-1.0</td>\n",
       "      <td>1.0</td>\n",
       "      <td>-5.0</td>\n",
       "      <td>3.0</td>\n",
       "      <td>2.0</td>\n",
       "      <td>10.0</td>\n",
       "      <td>5.0</td>\n",
       "      <td>-2.0</td>\n",
       "      <td>3</td>\n",
       "    </tr>\n",
       "    <tr>\n",
       "      <th>2142</th>\n",
       "      <td>1.0</td>\n",
       "      <td>-6.0</td>\n",
       "      <td>-1.0</td>\n",
       "      <td>-4.0</td>\n",
       "      <td>-6.0</td>\n",
       "      <td>13.0</td>\n",
       "      <td>-6.0</td>\n",
       "      <td>21.0</td>\n",
       "      <td>-24.0</td>\n",
       "      <td>-17.0</td>\n",
       "      <td>...</td>\n",
       "      <td>-22.0</td>\n",
       "      <td>-3.0</td>\n",
       "      <td>5.0</td>\n",
       "      <td>0.0</td>\n",
       "      <td>-9.0</td>\n",
       "      <td>14.0</td>\n",
       "      <td>5.0</td>\n",
       "      <td>-30.0</td>\n",
       "      <td>20.0</td>\n",
       "      <td>0</td>\n",
       "    </tr>\n",
       "    <tr>\n",
       "      <th>7458</th>\n",
       "      <td>12.0</td>\n",
       "      <td>7.0</td>\n",
       "      <td>3.0</td>\n",
       "      <td>11.0</td>\n",
       "      <td>12.0</td>\n",
       "      <td>-8.0</td>\n",
       "      <td>6.0</td>\n",
       "      <td>9.0</td>\n",
       "      <td>5.0</td>\n",
       "      <td>-9.0</td>\n",
       "      <td>...</td>\n",
       "      <td>8.0</td>\n",
       "      <td>-3.0</td>\n",
       "      <td>-4.0</td>\n",
       "      <td>13.0</td>\n",
       "      <td>4.0</td>\n",
       "      <td>-15.0</td>\n",
       "      <td>-53.0</td>\n",
       "      <td>-3.0</td>\n",
       "      <td>-8.0</td>\n",
       "      <td>2</td>\n",
       "    </tr>\n",
       "    <tr>\n",
       "      <th>2348</th>\n",
       "      <td>8.0</td>\n",
       "      <td>25.0</td>\n",
       "      <td>1.0</td>\n",
       "      <td>11.0</td>\n",
       "      <td>2.0</td>\n",
       "      <td>0.0</td>\n",
       "      <td>-22.0</td>\n",
       "      <td>6.0</td>\n",
       "      <td>7.0</td>\n",
       "      <td>-32.0</td>\n",
       "      <td>...</td>\n",
       "      <td>-4.0</td>\n",
       "      <td>31.0</td>\n",
       "      <td>56.0</td>\n",
       "      <td>2.0</td>\n",
       "      <td>-15.0</td>\n",
       "      <td>-10.0</td>\n",
       "      <td>-46.0</td>\n",
       "      <td>0.0</td>\n",
       "      <td>20.0</td>\n",
       "      <td>0</td>\n",
       "    </tr>\n",
       "    <tr>\n",
       "      <th>...</th>\n",
       "      <td>...</td>\n",
       "      <td>...</td>\n",
       "      <td>...</td>\n",
       "      <td>...</td>\n",
       "      <td>...</td>\n",
       "      <td>...</td>\n",
       "      <td>...</td>\n",
       "      <td>...</td>\n",
       "      <td>...</td>\n",
       "      <td>...</td>\n",
       "      <td>...</td>\n",
       "      <td>...</td>\n",
       "      <td>...</td>\n",
       "      <td>...</td>\n",
       "      <td>...</td>\n",
       "      <td>...</td>\n",
       "      <td>...</td>\n",
       "      <td>...</td>\n",
       "      <td>...</td>\n",
       "      <td>...</td>\n",
       "      <td>...</td>\n",
       "    </tr>\n",
       "    <tr>\n",
       "      <th>11284</th>\n",
       "      <td>-4.0</td>\n",
       "      <td>-2.0</td>\n",
       "      <td>-3.0</td>\n",
       "      <td>-3.0</td>\n",
       "      <td>-51.0</td>\n",
       "      <td>-48.0</td>\n",
       "      <td>-6.0</td>\n",
       "      <td>-8.0</td>\n",
       "      <td>12.0</td>\n",
       "      <td>5.0</td>\n",
       "      <td>...</td>\n",
       "      <td>-6.0</td>\n",
       "      <td>-7.0</td>\n",
       "      <td>-4.0</td>\n",
       "      <td>-5.0</td>\n",
       "      <td>-3.0</td>\n",
       "      <td>-21.0</td>\n",
       "      <td>-15.0</td>\n",
       "      <td>5.0</td>\n",
       "      <td>1.0</td>\n",
       "      <td>3</td>\n",
       "    </tr>\n",
       "    <tr>\n",
       "      <th>5191</th>\n",
       "      <td>28.0</td>\n",
       "      <td>1.0</td>\n",
       "      <td>-2.0</td>\n",
       "      <td>0.0</td>\n",
       "      <td>-15.0</td>\n",
       "      <td>-37.0</td>\n",
       "      <td>-5.0</td>\n",
       "      <td>-1.0</td>\n",
       "      <td>-11.0</td>\n",
       "      <td>1.0</td>\n",
       "      <td>...</td>\n",
       "      <td>4.0</td>\n",
       "      <td>-11.0</td>\n",
       "      <td>-2.0</td>\n",
       "      <td>-1.0</td>\n",
       "      <td>-2.0</td>\n",
       "      <td>-25.0</td>\n",
       "      <td>-15.0</td>\n",
       "      <td>-4.0</td>\n",
       "      <td>-7.0</td>\n",
       "      <td>1</td>\n",
       "    </tr>\n",
       "    <tr>\n",
       "      <th>5390</th>\n",
       "      <td>15.0</td>\n",
       "      <td>-2.0</td>\n",
       "      <td>-4.0</td>\n",
       "      <td>-1.0</td>\n",
       "      <td>7.0</td>\n",
       "      <td>3.0</td>\n",
       "      <td>0.0</td>\n",
       "      <td>7.0</td>\n",
       "      <td>1.0</td>\n",
       "      <td>1.0</td>\n",
       "      <td>...</td>\n",
       "      <td>-4.0</td>\n",
       "      <td>22.0</td>\n",
       "      <td>5.0</td>\n",
       "      <td>2.0</td>\n",
       "      <td>3.0</td>\n",
       "      <td>-30.0</td>\n",
       "      <td>-53.0</td>\n",
       "      <td>-4.0</td>\n",
       "      <td>7.0</td>\n",
       "      <td>1</td>\n",
       "    </tr>\n",
       "    <tr>\n",
       "      <th>860</th>\n",
       "      <td>36.0</td>\n",
       "      <td>3.0</td>\n",
       "      <td>-6.0</td>\n",
       "      <td>2.0</td>\n",
       "      <td>10.0</td>\n",
       "      <td>5.0</td>\n",
       "      <td>73.0</td>\n",
       "      <td>57.0</td>\n",
       "      <td>-1.0</td>\n",
       "      <td>9.0</td>\n",
       "      <td>...</td>\n",
       "      <td>-28.0</td>\n",
       "      <td>-22.0</td>\n",
       "      <td>7.0</td>\n",
       "      <td>9.0</td>\n",
       "      <td>16.0</td>\n",
       "      <td>-21.0</td>\n",
       "      <td>-20.0</td>\n",
       "      <td>-128.0</td>\n",
       "      <td>19.0</td>\n",
       "      <td>0</td>\n",
       "    </tr>\n",
       "    <tr>\n",
       "      <th>7270</th>\n",
       "      <td>2.0</td>\n",
       "      <td>24.0</td>\n",
       "      <td>-5.0</td>\n",
       "      <td>4.0</td>\n",
       "      <td>-6.0</td>\n",
       "      <td>1.0</td>\n",
       "      <td>-8.0</td>\n",
       "      <td>3.0</td>\n",
       "      <td>-12.0</td>\n",
       "      <td>-10.0</td>\n",
       "      <td>...</td>\n",
       "      <td>-3.0</td>\n",
       "      <td>9.0</td>\n",
       "      <td>12.0</td>\n",
       "      <td>-5.0</td>\n",
       "      <td>-8.0</td>\n",
       "      <td>-7.0</td>\n",
       "      <td>-9.0</td>\n",
       "      <td>-5.0</td>\n",
       "      <td>31.0</td>\n",
       "      <td>2</td>\n",
       "    </tr>\n",
       "  </tbody>\n",
       "</table>\n",
       "<p>11678 rows × 65 columns</p>\n",
       "</div>"
      ],
      "text/plain": [
       "       sensor_01  sensor_02  sensor_03  sensor_04  sensor_05  sensor_06  \\\n",
       "11229       -1.0        1.0       -1.0        4.0       11.0       23.0   \n",
       "11658        0.0       -1.0        1.0        1.0        7.0       40.0   \n",
       "2142         1.0       -6.0       -1.0       -4.0       -6.0       13.0   \n",
       "7458        12.0        7.0        3.0       11.0       12.0       -8.0   \n",
       "2348         8.0       25.0        1.0       11.0        2.0        0.0   \n",
       "...          ...        ...        ...        ...        ...        ...   \n",
       "11284       -4.0       -2.0       -3.0       -3.0      -51.0      -48.0   \n",
       "5191        28.0        1.0       -2.0        0.0      -15.0      -37.0   \n",
       "5390        15.0       -2.0       -4.0       -1.0        7.0        3.0   \n",
       "860         36.0        3.0       -6.0        2.0       10.0        5.0   \n",
       "7270         2.0       24.0       -5.0        4.0       -6.0        1.0   \n",
       "\n",
       "       sensor_07  sensor_08  sensor_09  sensor_10  ...  sensor_56  sensor_57  \\\n",
       "11229        3.0        5.0        1.0       -3.0  ...       26.0       -3.0   \n",
       "11658       -4.0       -2.0        2.0       -2.0  ...       -7.0       -1.0   \n",
       "2142        -6.0       21.0      -24.0      -17.0  ...      -22.0       -3.0   \n",
       "7458         6.0        9.0        5.0       -9.0  ...        8.0       -3.0   \n",
       "2348       -22.0        6.0        7.0      -32.0  ...       -4.0       31.0   \n",
       "...          ...        ...        ...        ...  ...        ...        ...   \n",
       "11284       -6.0       -8.0       12.0        5.0  ...       -6.0       -7.0   \n",
       "5191        -5.0       -1.0      -11.0        1.0  ...        4.0      -11.0   \n",
       "5390         0.0        7.0        1.0        1.0  ...       -4.0       22.0   \n",
       "860         73.0       57.0       -1.0        9.0  ...      -28.0      -22.0   \n",
       "7270        -8.0        3.0      -12.0      -10.0  ...       -3.0        9.0   \n",
       "\n",
       "       sensor_58  sensor_59  sensor_60  sensor_61  sensor_62  sensor_63  \\\n",
       "11229       -1.0       -4.0       -6.0       -9.0      -31.0      -10.0   \n",
       "11658        1.0       -5.0        3.0        2.0       10.0        5.0   \n",
       "2142         5.0        0.0       -9.0       14.0        5.0      -30.0   \n",
       "7458        -4.0       13.0        4.0      -15.0      -53.0       -3.0   \n",
       "2348        56.0        2.0      -15.0      -10.0      -46.0        0.0   \n",
       "...          ...        ...        ...        ...        ...        ...   \n",
       "11284       -4.0       -5.0       -3.0      -21.0      -15.0        5.0   \n",
       "5191        -2.0       -1.0       -2.0      -25.0      -15.0       -4.0   \n",
       "5390         5.0        2.0        3.0      -30.0      -53.0       -4.0   \n",
       "860          7.0        9.0       16.0      -21.0      -20.0     -128.0   \n",
       "7270        12.0       -5.0       -8.0       -7.0       -9.0       -5.0   \n",
       "\n",
       "       sensor_64  class  \n",
       "11229       -5.0      3  \n",
       "11658       -2.0      3  \n",
       "2142        20.0      0  \n",
       "7458        -8.0      2  \n",
       "2348        20.0      0  \n",
       "...          ...    ...  \n",
       "11284        1.0      3  \n",
       "5191        -7.0      1  \n",
       "5390         7.0      1  \n",
       "860         19.0      0  \n",
       "7270        31.0      2  \n",
       "\n",
       "[11678 rows x 65 columns]"
      ]
     },
     "execution_count": 13,
     "metadata": {},
     "output_type": "execute_result"
    }
   ],
   "source": [
    "df"
   ]
  },
  {
   "cell_type": "code",
   "execution_count": 14,
   "id": "76cc71c0",
   "metadata": {
    "scrolled": true
   },
   "outputs": [
    {
     "data": {
      "image/png": "[encoded data removed]",
      "text/plain": [
       "<Figure size 1440x576 with 1 Axes>"
      ]
     },
     "metadata": {
      "needs_background": "light"
     },
     "output_type": "display_data"
    }
   ],
   "source": [
    "fig, ax = plt.subplots(figsize=(20, 8))\n",
    "sns.histplot(data=df, x=\"sensor_55\", hue=\"class\", kde = True, palette=\"Set1\")\n",
    "plt.show()"
   ]
  },
  {
   "cell_type": "markdown",
   "id": "8d13748c",
   "metadata": {},
   "source": [
    "The data distributions are overlapping among the classes. So, it depicts the data is not linear and we cannot classify the data using simple thresholds."
   ]
  },
  {
   "cell_type": "code",
   "execution_count": 15,
   "id": "f282ec05",
   "metadata": {},
   "outputs": [
    {
     "data": {
      "text/plain": [
       "<AxesSubplot:xlabel='sensor_01', ylabel='sensor_03'>"
      ]
     },
     "execution_count": 15,
     "metadata": {},
     "output_type": "execute_result"
    },
    {
     "data": {
      "image/png": "[encoded data removed]",
      "text/plain": [
       "<Figure size 432x288 with 1 Axes>"
      ]
     },
     "metadata": {
      "needs_background": "light"
     },
     "output_type": "display_data"
    }
   ],
   "source": [
    "sns.scatterplot(x = df[\"sensor_01\"], y = df[\"sensor_03\"],\n",
    "                hue = df[\"class\"])"
   ]
  },
  {
   "cell_type": "code",
   "execution_count": 16,
   "id": "45653a1a",
   "metadata": {
    "scrolled": true
   },
   "outputs": [
    {
     "name": "stdout",
     "output_type": "stream",
     "text": [
      "<class 'pandas.core.frame.DataFrame'>\n",
      "Int64Index: 11678 entries, 11229 to 7270\n",
      "Data columns (total 65 columns):\n",
      " #   Column     Non-Null Count  Dtype  \n",
      "---  ------     --------------  -----  \n",
      " 0   sensor_01  11678 non-null  float64\n",
      " 1   sensor_02  11678 non-null  float64\n",
      " 2   sensor_03  11678 non-null  float64\n",
      " 3   sensor_04  11678 non-null  float64\n",
      " 4   sensor_05  11678 non-null  float64\n",
      " 5   sensor_06  11678 non-null  float64\n",
      " 6   sensor_07  11678 non-null  float64\n",
      " 7   sensor_08  11678 non-null  float64\n",
      " 8   sensor_09  11678 non-null  float64\n",
      " 9   sensor_10  11678 non-null  float64\n",
      " 10  sensor_11  11678 non-null  float64\n",
      " 11  sensor_12  11678 non-null  float64\n",
      " 12  sensor_13  11678 non-null  float64\n",
      " 13  sensor_14  11678 non-null  float64\n",
      " 14  sensor_15  11678 non-null  float64\n",
      " 15  sensor_16  11678 non-null  float64\n",
      " 16  sensor_17  11678 non-null  float64\n",
      " 17  sensor_18  11678 non-null  float64\n",
      " 18  sensor_19  11678 non-null  float64\n",
      " 19  sensor_20  11678 non-null  float64\n",
      " 20  sensor_21  11678 non-null  float64\n",
      " 21  sensor_22  11678 non-null  float64\n",
      " 22  sensor_23  11678 non-null  float64\n",
      " 23  sensor_24  11678 non-null  float64\n",
      " 24  sensor_25  11678 non-null  float64\n",
      " 25  sensor_26  11678 non-null  float64\n",
      " 26  sensor_27  11678 non-null  float64\n",
      " 27  sensor_28  11678 non-null  float64\n",
      " 28  sensor_29  11678 non-null  float64\n",
      " 29  sensor_30  11678 non-null  float64\n",
      " 30  sensor_31  11678 non-null  float64\n",
      " 31  sensor_32  11678 non-null  float64\n",
      " 32  sensor_33  11678 non-null  float64\n",
      " 33  sensor_34  11678 non-null  float64\n",
      " 34  sensor_35  11678 non-null  float64\n",
      " 35  sensor_36  11678 non-null  float64\n",
      " 36  sensor_37  11678 non-null  float64\n",
      " 37  sensor_38  11678 non-null  float64\n",
      " 38  sensor_39  11678 non-null  float64\n",
      " 39  sensor_40  11678 non-null  float64\n",
      " 40  sensor_41  11678 non-null  float64\n",
      " 41  sensor_42  11678 non-null  float64\n",
      " 42  sensor_43  11678 non-null  float64\n",
      " 43  sensor_44  11678 non-null  float64\n",
      " 44  sensor_45  11678 non-null  float64\n",
      " 45  sensor_46  11678 non-null  float64\n",
      " 46  sensor_47  11678 non-null  float64\n",
      " 47  sensor_48  11678 non-null  float64\n",
      " 48  sensor_49  11678 non-null  float64\n",
      " 49  sensor_50  11678 non-null  float64\n",
      " 50  sensor_51  11678 non-null  float64\n",
      " 51  sensor_52  11678 non-null  float64\n",
      " 52  sensor_53  11678 non-null  float64\n",
      " 53  sensor_54  11678 non-null  float64\n",
      " 54  sensor_55  11678 non-null  float64\n",
      " 55  sensor_56  11678 non-null  float64\n",
      " 56  sensor_57  11678 non-null  float64\n",
      " 57  sensor_58  11678 non-null  float64\n",
      " 58  sensor_59  11678 non-null  float64\n",
      " 59  sensor_60  11678 non-null  float64\n",
      " 60  sensor_61  11678 non-null  float64\n",
      " 61  sensor_62  11678 non-null  float64\n",
      " 62  sensor_63  11678 non-null  float64\n",
      " 63  sensor_64  11678 non-null  float64\n",
      " 64  class      11678 non-null  int64  \n",
      "dtypes: float64(64), int64(1)\n",
      "memory usage: 5.9 MB\n"
     ]
    }
   ],
   "source": [
    "df.info()"
   ]
  },
  {
   "cell_type": "code",
   "execution_count": 17,
   "id": "3ec9b00f",
   "metadata": {
    "scrolled": true
   },
   "outputs": [
    {
     "data": {
      "text/html": [
       "<div>\n",
       "<style scoped>\n",
       "    .dataframe tbody tr th:only-of-type {\n",
       "        vertical-align: middle;\n",
       "    }\n",
       "\n",
       "    .dataframe tbody tr th {\n",
       "        vertical-align: top;\n",
       "    }\n",
       "\n",
       "    .dataframe thead th {\n",
       "        text-align: right;\n",
       "    }\n",
       "</style>\n",
       "<table border=\"1\" class=\"dataframe\">\n",
       "  <thead>\n",
       "    <tr style=\"text-align: right;\">\n",
       "      <th></th>\n",
       "      <th>sensor_01</th>\n",
       "      <th>sensor_02</th>\n",
       "      <th>sensor_03</th>\n",
       "      <th>sensor_04</th>\n",
       "      <th>sensor_05</th>\n",
       "      <th>sensor_06</th>\n",
       "      <th>sensor_07</th>\n",
       "      <th>sensor_08</th>\n",
       "      <th>sensor_09</th>\n",
       "      <th>sensor_10</th>\n",
       "      <th>...</th>\n",
       "      <th>sensor_56</th>\n",
       "      <th>sensor_57</th>\n",
       "      <th>sensor_58</th>\n",
       "      <th>sensor_59</th>\n",
       "      <th>sensor_60</th>\n",
       "      <th>sensor_61</th>\n",
       "      <th>sensor_62</th>\n",
       "      <th>sensor_63</th>\n",
       "      <th>sensor_64</th>\n",
       "      <th>class</th>\n",
       "    </tr>\n",
       "  </thead>\n",
       "  <tbody>\n",
       "    <tr>\n",
       "      <th>count</th>\n",
       "      <td>11678.000000</td>\n",
       "      <td>11678.000000</td>\n",
       "      <td>11678.000000</td>\n",
       "      <td>11678.000000</td>\n",
       "      <td>11678.000000</td>\n",
       "      <td>11678.000000</td>\n",
       "      <td>11678.000000</td>\n",
       "      <td>11678.000000</td>\n",
       "      <td>11678.000000</td>\n",
       "      <td>11678.000000</td>\n",
       "      <td>...</td>\n",
       "      <td>11678.000000</td>\n",
       "      <td>11678.000000</td>\n",
       "      <td>11678.000000</td>\n",
       "      <td>11678.000000</td>\n",
       "      <td>11678.000000</td>\n",
       "      <td>11678.000000</td>\n",
       "      <td>11678.000000</td>\n",
       "      <td>11678.000000</td>\n",
       "      <td>11678.000000</td>\n",
       "      <td>11678.000000</td>\n",
       "    </tr>\n",
       "    <tr>\n",
       "      <th>mean</th>\n",
       "      <td>-0.520380</td>\n",
       "      <td>-0.726837</td>\n",
       "      <td>-0.739082</td>\n",
       "      <td>-0.729748</td>\n",
       "      <td>-0.159103</td>\n",
       "      <td>-0.554890</td>\n",
       "      <td>-1.272649</td>\n",
       "      <td>-0.661843</td>\n",
       "      <td>-0.665953</td>\n",
       "      <td>-0.654222</td>\n",
       "      <td>...</td>\n",
       "      <td>-0.932694</td>\n",
       "      <td>-0.836958</td>\n",
       "      <td>-0.740623</td>\n",
       "      <td>-0.768710</td>\n",
       "      <td>-0.705343</td>\n",
       "      <td>-0.146686</td>\n",
       "      <td>-0.374807</td>\n",
       "      <td>-1.449306</td>\n",
       "      <td>-0.609094</td>\n",
       "      <td>1.503254</td>\n",
       "    </tr>\n",
       "    <tr>\n",
       "      <th>std</th>\n",
       "      <td>18.566709</td>\n",
       "      <td>11.766878</td>\n",
       "      <td>4.989944</td>\n",
       "      <td>7.441675</td>\n",
       "      <td>17.850402</td>\n",
       "      <td>25.809528</td>\n",
       "      <td>25.089972</td>\n",
       "      <td>15.408896</td>\n",
       "      <td>18.123854</td>\n",
       "      <td>11.841260</td>\n",
       "      <td>...</td>\n",
       "      <td>15.158993</td>\n",
       "      <td>18.204465</td>\n",
       "      <td>12.005206</td>\n",
       "      <td>4.969758</td>\n",
       "      <td>7.384410</td>\n",
       "      <td>17.841479</td>\n",
       "      <td>25.551082</td>\n",
       "      <td>25.259736</td>\n",
       "      <td>15.530091</td>\n",
       "      <td>1.117541</td>\n",
       "    </tr>\n",
       "    <tr>\n",
       "      <th>min</th>\n",
       "      <td>-116.000000</td>\n",
       "      <td>-104.000000</td>\n",
       "      <td>-33.000000</td>\n",
       "      <td>-75.000000</td>\n",
       "      <td>-121.000000</td>\n",
       "      <td>-122.000000</td>\n",
       "      <td>-128.000000</td>\n",
       "      <td>-128.000000</td>\n",
       "      <td>-110.000000</td>\n",
       "      <td>-128.000000</td>\n",
       "      <td>...</td>\n",
       "      <td>-128.000000</td>\n",
       "      <td>-116.000000</td>\n",
       "      <td>-128.000000</td>\n",
       "      <td>-46.000000</td>\n",
       "      <td>-74.000000</td>\n",
       "      <td>-103.000000</td>\n",
       "      <td>-128.000000</td>\n",
       "      <td>-128.000000</td>\n",
       "      <td>-124.000000</td>\n",
       "      <td>0.000000</td>\n",
       "    </tr>\n",
       "    <tr>\n",
       "      <th>25%</th>\n",
       "      <td>-9.000000</td>\n",
       "      <td>-4.000000</td>\n",
       "      <td>-3.000000</td>\n",
       "      <td>-4.000000</td>\n",
       "      <td>-10.000000</td>\n",
       "      <td>-15.000000</td>\n",
       "      <td>-6.000000</td>\n",
       "      <td>-8.000000</td>\n",
       "      <td>-9.000000</td>\n",
       "      <td>-4.000000</td>\n",
       "      <td>...</td>\n",
       "      <td>-8.000000</td>\n",
       "      <td>-9.000000</td>\n",
       "      <td>-4.000000</td>\n",
       "      <td>-3.000000</td>\n",
       "      <td>-4.000000</td>\n",
       "      <td>-10.000000</td>\n",
       "      <td>-14.000000</td>\n",
       "      <td>-6.000000</td>\n",
       "      <td>-8.000000</td>\n",
       "      <td>1.000000</td>\n",
       "    </tr>\n",
       "    <tr>\n",
       "      <th>50%</th>\n",
       "      <td>-1.000000</td>\n",
       "      <td>-1.000000</td>\n",
       "      <td>-1.000000</td>\n",
       "      <td>-1.000000</td>\n",
       "      <td>0.000000</td>\n",
       "      <td>-1.000000</td>\n",
       "      <td>-1.000000</td>\n",
       "      <td>-1.000000</td>\n",
       "      <td>-1.000000</td>\n",
       "      <td>-1.000000</td>\n",
       "      <td>...</td>\n",
       "      <td>-1.000000</td>\n",
       "      <td>-1.000000</td>\n",
       "      <td>-1.000000</td>\n",
       "      <td>-1.000000</td>\n",
       "      <td>-1.000000</td>\n",
       "      <td>0.000000</td>\n",
       "      <td>-1.000000</td>\n",
       "      <td>-1.000000</td>\n",
       "      <td>-1.000000</td>\n",
       "      <td>2.000000</td>\n",
       "    </tr>\n",
       "    <tr>\n",
       "      <th>75%</th>\n",
       "      <td>7.000000</td>\n",
       "      <td>3.000000</td>\n",
       "      <td>2.000000</td>\n",
       "      <td>3.000000</td>\n",
       "      <td>10.000000</td>\n",
       "      <td>13.000000</td>\n",
       "      <td>4.000000</td>\n",
       "      <td>6.000000</td>\n",
       "      <td>6.000000</td>\n",
       "      <td>3.000000</td>\n",
       "      <td>...</td>\n",
       "      <td>6.000000</td>\n",
       "      <td>6.000000</td>\n",
       "      <td>3.000000</td>\n",
       "      <td>2.000000</td>\n",
       "      <td>3.000000</td>\n",
       "      <td>10.000000</td>\n",
       "      <td>13.000000</td>\n",
       "      <td>3.000000</td>\n",
       "      <td>6.000000</td>\n",
       "      <td>3.000000</td>\n",
       "    </tr>\n",
       "    <tr>\n",
       "      <th>max</th>\n",
       "      <td>111.000000</td>\n",
       "      <td>90.000000</td>\n",
       "      <td>34.000000</td>\n",
       "      <td>55.000000</td>\n",
       "      <td>92.000000</td>\n",
       "      <td>127.000000</td>\n",
       "      <td>127.000000</td>\n",
       "      <td>126.000000</td>\n",
       "      <td>127.000000</td>\n",
       "      <td>106.000000</td>\n",
       "      <td>...</td>\n",
       "      <td>114.000000</td>\n",
       "      <td>127.000000</td>\n",
       "      <td>105.000000</td>\n",
       "      <td>29.000000</td>\n",
       "      <td>51.000000</td>\n",
       "      <td>110.000000</td>\n",
       "      <td>127.000000</td>\n",
       "      <td>127.000000</td>\n",
       "      <td>127.000000</td>\n",
       "      <td>3.000000</td>\n",
       "    </tr>\n",
       "  </tbody>\n",
       "</table>\n",
       "<p>8 rows × 65 columns</p>\n",
       "</div>"
      ],
      "text/plain": [
       "          sensor_01     sensor_02     sensor_03     sensor_04     sensor_05  \\\n",
       "count  11678.000000  11678.000000  11678.000000  11678.000000  11678.000000   \n",
       "mean      -0.520380     -0.726837     -0.739082     -0.729748     -0.159103   \n",
       "std       18.566709     11.766878      4.989944      7.441675     17.850402   \n",
       "min     -116.000000   -104.000000    -33.000000    -75.000000   -121.000000   \n",
       "25%       -9.000000     -4.000000     -3.000000     -4.000000    -10.000000   \n",
       "50%       -1.000000     -1.000000     -1.000000     -1.000000      0.000000   \n",
       "75%        7.000000      3.000000      2.000000      3.000000     10.000000   \n",
       "max      111.000000     90.000000     34.000000     55.000000     92.000000   \n",
       "\n",
       "          sensor_06     sensor_07     sensor_08     sensor_09     sensor_10  \\\n",
       "count  11678.000000  11678.000000  11678.000000  11678.000000  11678.000000   \n",
       "mean      -0.554890     -1.272649     -0.661843     -0.665953     -0.654222   \n",
       "std       25.809528     25.089972     15.408896     18.123854     11.841260   \n",
       "min     -122.000000   -128.000000   -128.000000   -110.000000   -128.000000   \n",
       "25%      -15.000000     -6.000000     -8.000000     -9.000000     -4.000000   \n",
       "50%       -1.000000     -1.000000     -1.000000     -1.000000     -1.000000   \n",
       "75%       13.000000      4.000000      6.000000      6.000000      3.000000   \n",
       "max      127.000000    127.000000    126.000000    127.000000    106.000000   \n",
       "\n",
       "       ...     sensor_56     sensor_57     sensor_58     sensor_59  \\\n",
       "count  ...  11678.000000  11678.000000  11678.000000  11678.000000   \n",
       "mean   ...     -0.932694     -0.836958     -0.740623     -0.768710   \n",
       "std    ...     15.158993     18.204465     12.005206      4.969758   \n",
       "min    ...   -128.000000   -116.000000   -128.000000    -46.000000   \n",
       "25%    ...     -8.000000     -9.000000     -4.000000     -3.000000   \n",
       "50%    ...     -1.000000     -1.000000     -1.000000     -1.000000   \n",
       "75%    ...      6.000000      6.000000      3.000000      2.000000   \n",
       "max    ...    114.000000    127.000000    105.000000     29.000000   \n",
       "\n",
       "          sensor_60     sensor_61     sensor_62     sensor_63     sensor_64  \\\n",
       "count  11678.000000  11678.000000  11678.000000  11678.000000  11678.000000   \n",
       "mean      -0.705343     -0.146686     -0.374807     -1.449306     -0.609094   \n",
       "std        7.384410     17.841479     25.551082     25.259736     15.530091   \n",
       "min      -74.000000   -103.000000   -128.000000   -128.000000   -124.000000   \n",
       "25%       -4.000000    -10.000000    -14.000000     -6.000000     -8.000000   \n",
       "50%       -1.000000      0.000000     -1.000000     -1.000000     -1.000000   \n",
       "75%        3.000000     10.000000     13.000000      3.000000      6.000000   \n",
       "max       51.000000    110.000000    127.000000    127.000000    127.000000   \n",
       "\n",
       "              class  \n",
       "count  11678.000000  \n",
       "mean       1.503254  \n",
       "std        1.117541  \n",
       "min        0.000000  \n",
       "25%        1.000000  \n",
       "50%        2.000000  \n",
       "75%        3.000000  \n",
       "max        3.000000  \n",
       "\n",
       "[8 rows x 65 columns]"
      ]
     },
     "execution_count": 17,
     "metadata": {},
     "output_type": "execute_result"
    }
   ],
   "source": [
    "df.describe()"
   ]
  },
  {
   "cell_type": "code",
   "execution_count": 18,
   "id": "87e61e6e",
   "metadata": {},
   "outputs": [
    {
     "data": {
      "text/plain": [
       "Index(['sensor_01', 'sensor_02', 'sensor_03', 'sensor_04', 'sensor_05',\n",
       "       'sensor_06', 'sensor_07', 'sensor_08', 'sensor_09', 'sensor_10',\n",
       "       'sensor_11', 'sensor_12', 'sensor_13', 'sensor_14', 'sensor_15',\n",
       "       'sensor_16', 'sensor_17', 'sensor_18', 'sensor_19', 'sensor_20',\n",
       "       'sensor_21', 'sensor_22', 'sensor_23', 'sensor_24', 'sensor_25',\n",
       "       'sensor_26', 'sensor_27', 'sensor_28', 'sensor_29', 'sensor_30',\n",
       "       'sensor_31', 'sensor_32', 'sensor_33', 'sensor_34', 'sensor_35',\n",
       "       'sensor_36', 'sensor_37', 'sensor_38', 'sensor_39', 'sensor_40',\n",
       "       'sensor_41', 'sensor_42', 'sensor_43', 'sensor_44', 'sensor_45',\n",
       "       'sensor_46', 'sensor_47', 'sensor_48', 'sensor_49', 'sensor_50',\n",
       "       'sensor_51', 'sensor_52', 'sensor_53', 'sensor_54', 'sensor_55',\n",
       "       'sensor_56', 'sensor_57', 'sensor_58', 'sensor_59', 'sensor_60',\n",
       "       'sensor_61', 'sensor_62', 'sensor_63', 'sensor_64', 'class'],\n",
       "      dtype='object')"
      ]
     },
     "execution_count": 18,
     "metadata": {},
     "output_type": "execute_result"
    }
   ],
   "source": [
    "df.columns"
   ]
  },
  {
   "cell_type": "markdown",
   "id": "e6efae9b",
   "metadata": {},
   "source": [
    "### Splitting dependent and independent variables"
   ]
  },
  {
   "cell_type": "code",
   "execution_count": 19,
   "id": "b4b0e557",
   "metadata": {},
   "outputs": [],
   "source": [
    "X = df.drop('class', axis = 1)"
   ]
  },
  {
   "cell_type": "code",
   "execution_count": 20,
   "id": "219070ae",
   "metadata": {},
   "outputs": [
    {
     "data": {
      "text/html": [
       "<div>\n",
       "<style scoped>\n",
       "    .dataframe tbody tr th:only-of-type {\n",
       "        vertical-align: middle;\n",
       "    }\n",
       "\n",
       "    .dataframe tbody tr th {\n",
       "        vertical-align: top;\n",
       "    }\n",
       "\n",
       "    .dataframe thead th {\n",
       "        text-align: right;\n",
       "    }\n",
       "</style>\n",
       "<table border=\"1\" class=\"dataframe\">\n",
       "  <thead>\n",
       "    <tr style=\"text-align: right;\">\n",
       "      <th></th>\n",
       "      <th>sensor_01</th>\n",
       "      <th>sensor_02</th>\n",
       "      <th>sensor_03</th>\n",
       "      <th>sensor_04</th>\n",
       "      <th>sensor_05</th>\n",
       "      <th>sensor_06</th>\n",
       "      <th>sensor_07</th>\n",
       "      <th>sensor_08</th>\n",
       "      <th>sensor_09</th>\n",
       "      <th>sensor_10</th>\n",
       "      <th>...</th>\n",
       "      <th>sensor_55</th>\n",
       "      <th>sensor_56</th>\n",
       "      <th>sensor_57</th>\n",
       "      <th>sensor_58</th>\n",
       "      <th>sensor_59</th>\n",
       "      <th>sensor_60</th>\n",
       "      <th>sensor_61</th>\n",
       "      <th>sensor_62</th>\n",
       "      <th>sensor_63</th>\n",
       "      <th>sensor_64</th>\n",
       "    </tr>\n",
       "  </thead>\n",
       "  <tbody>\n",
       "    <tr>\n",
       "      <th>11229</th>\n",
       "      <td>-1.0</td>\n",
       "      <td>1.0</td>\n",
       "      <td>-1.0</td>\n",
       "      <td>4.0</td>\n",
       "      <td>11.0</td>\n",
       "      <td>23.0</td>\n",
       "      <td>3.0</td>\n",
       "      <td>5.0</td>\n",
       "      <td>1.0</td>\n",
       "      <td>-3.0</td>\n",
       "      <td>...</td>\n",
       "      <td>8.0</td>\n",
       "      <td>26.0</td>\n",
       "      <td>-3.0</td>\n",
       "      <td>-1.0</td>\n",
       "      <td>-4.0</td>\n",
       "      <td>-6.0</td>\n",
       "      <td>-9.0</td>\n",
       "      <td>-31.0</td>\n",
       "      <td>-10.0</td>\n",
       "      <td>-5.0</td>\n",
       "    </tr>\n",
       "    <tr>\n",
       "      <th>11658</th>\n",
       "      <td>0.0</td>\n",
       "      <td>-1.0</td>\n",
       "      <td>1.0</td>\n",
       "      <td>1.0</td>\n",
       "      <td>7.0</td>\n",
       "      <td>40.0</td>\n",
       "      <td>-4.0</td>\n",
       "      <td>-2.0</td>\n",
       "      <td>2.0</td>\n",
       "      <td>-2.0</td>\n",
       "      <td>...</td>\n",
       "      <td>-12.0</td>\n",
       "      <td>-7.0</td>\n",
       "      <td>-1.0</td>\n",
       "      <td>1.0</td>\n",
       "      <td>-5.0</td>\n",
       "      <td>3.0</td>\n",
       "      <td>2.0</td>\n",
       "      <td>10.0</td>\n",
       "      <td>5.0</td>\n",
       "      <td>-2.0</td>\n",
       "    </tr>\n",
       "    <tr>\n",
       "      <th>2142</th>\n",
       "      <td>1.0</td>\n",
       "      <td>-6.0</td>\n",
       "      <td>-1.0</td>\n",
       "      <td>-4.0</td>\n",
       "      <td>-6.0</td>\n",
       "      <td>13.0</td>\n",
       "      <td>-6.0</td>\n",
       "      <td>21.0</td>\n",
       "      <td>-24.0</td>\n",
       "      <td>-17.0</td>\n",
       "      <td>...</td>\n",
       "      <td>8.0</td>\n",
       "      <td>-22.0</td>\n",
       "      <td>-3.0</td>\n",
       "      <td>5.0</td>\n",
       "      <td>0.0</td>\n",
       "      <td>-9.0</td>\n",
       "      <td>14.0</td>\n",
       "      <td>5.0</td>\n",
       "      <td>-30.0</td>\n",
       "      <td>20.0</td>\n",
       "    </tr>\n",
       "    <tr>\n",
       "      <th>7458</th>\n",
       "      <td>12.0</td>\n",
       "      <td>7.0</td>\n",
       "      <td>3.0</td>\n",
       "      <td>11.0</td>\n",
       "      <td>12.0</td>\n",
       "      <td>-8.0</td>\n",
       "      <td>6.0</td>\n",
       "      <td>9.0</td>\n",
       "      <td>5.0</td>\n",
       "      <td>-9.0</td>\n",
       "      <td>...</td>\n",
       "      <td>-1.0</td>\n",
       "      <td>8.0</td>\n",
       "      <td>-3.0</td>\n",
       "      <td>-4.0</td>\n",
       "      <td>13.0</td>\n",
       "      <td>4.0</td>\n",
       "      <td>-15.0</td>\n",
       "      <td>-53.0</td>\n",
       "      <td>-3.0</td>\n",
       "      <td>-8.0</td>\n",
       "    </tr>\n",
       "    <tr>\n",
       "      <th>2348</th>\n",
       "      <td>8.0</td>\n",
       "      <td>25.0</td>\n",
       "      <td>1.0</td>\n",
       "      <td>11.0</td>\n",
       "      <td>2.0</td>\n",
       "      <td>0.0</td>\n",
       "      <td>-22.0</td>\n",
       "      <td>6.0</td>\n",
       "      <td>7.0</td>\n",
       "      <td>-32.0</td>\n",
       "      <td>...</td>\n",
       "      <td>8.0</td>\n",
       "      <td>-4.0</td>\n",
       "      <td>31.0</td>\n",
       "      <td>56.0</td>\n",
       "      <td>2.0</td>\n",
       "      <td>-15.0</td>\n",
       "      <td>-10.0</td>\n",
       "      <td>-46.0</td>\n",
       "      <td>0.0</td>\n",
       "      <td>20.0</td>\n",
       "    </tr>\n",
       "    <tr>\n",
       "      <th>...</th>\n",
       "      <td>...</td>\n",
       "      <td>...</td>\n",
       "      <td>...</td>\n",
       "      <td>...</td>\n",
       "      <td>...</td>\n",
       "      <td>...</td>\n",
       "      <td>...</td>\n",
       "      <td>...</td>\n",
       "      <td>...</td>\n",
       "      <td>...</td>\n",
       "      <td>...</td>\n",
       "      <td>...</td>\n",
       "      <td>...</td>\n",
       "      <td>...</td>\n",
       "      <td>...</td>\n",
       "      <td>...</td>\n",
       "      <td>...</td>\n",
       "      <td>...</td>\n",
       "      <td>...</td>\n",
       "      <td>...</td>\n",
       "      <td>...</td>\n",
       "    </tr>\n",
       "    <tr>\n",
       "      <th>11284</th>\n",
       "      <td>-4.0</td>\n",
       "      <td>-2.0</td>\n",
       "      <td>-3.0</td>\n",
       "      <td>-3.0</td>\n",
       "      <td>-51.0</td>\n",
       "      <td>-48.0</td>\n",
       "      <td>-6.0</td>\n",
       "      <td>-8.0</td>\n",
       "      <td>12.0</td>\n",
       "      <td>5.0</td>\n",
       "      <td>...</td>\n",
       "      <td>-9.0</td>\n",
       "      <td>-6.0</td>\n",
       "      <td>-7.0</td>\n",
       "      <td>-4.0</td>\n",
       "      <td>-5.0</td>\n",
       "      <td>-3.0</td>\n",
       "      <td>-21.0</td>\n",
       "      <td>-15.0</td>\n",
       "      <td>5.0</td>\n",
       "      <td>1.0</td>\n",
       "    </tr>\n",
       "    <tr>\n",
       "      <th>5191</th>\n",
       "      <td>28.0</td>\n",
       "      <td>1.0</td>\n",
       "      <td>-2.0</td>\n",
       "      <td>0.0</td>\n",
       "      <td>-15.0</td>\n",
       "      <td>-37.0</td>\n",
       "      <td>-5.0</td>\n",
       "      <td>-1.0</td>\n",
       "      <td>-11.0</td>\n",
       "      <td>1.0</td>\n",
       "      <td>...</td>\n",
       "      <td>-1.0</td>\n",
       "      <td>4.0</td>\n",
       "      <td>-11.0</td>\n",
       "      <td>-2.0</td>\n",
       "      <td>-1.0</td>\n",
       "      <td>-2.0</td>\n",
       "      <td>-25.0</td>\n",
       "      <td>-15.0</td>\n",
       "      <td>-4.0</td>\n",
       "      <td>-7.0</td>\n",
       "    </tr>\n",
       "    <tr>\n",
       "      <th>5390</th>\n",
       "      <td>15.0</td>\n",
       "      <td>-2.0</td>\n",
       "      <td>-4.0</td>\n",
       "      <td>-1.0</td>\n",
       "      <td>7.0</td>\n",
       "      <td>3.0</td>\n",
       "      <td>0.0</td>\n",
       "      <td>7.0</td>\n",
       "      <td>1.0</td>\n",
       "      <td>1.0</td>\n",
       "      <td>...</td>\n",
       "      <td>4.0</td>\n",
       "      <td>-4.0</td>\n",
       "      <td>22.0</td>\n",
       "      <td>5.0</td>\n",
       "      <td>2.0</td>\n",
       "      <td>3.0</td>\n",
       "      <td>-30.0</td>\n",
       "      <td>-53.0</td>\n",
       "      <td>-4.0</td>\n",
       "      <td>7.0</td>\n",
       "    </tr>\n",
       "    <tr>\n",
       "      <th>860</th>\n",
       "      <td>36.0</td>\n",
       "      <td>3.0</td>\n",
       "      <td>-6.0</td>\n",
       "      <td>2.0</td>\n",
       "      <td>10.0</td>\n",
       "      <td>5.0</td>\n",
       "      <td>73.0</td>\n",
       "      <td>57.0</td>\n",
       "      <td>-1.0</td>\n",
       "      <td>9.0</td>\n",
       "      <td>...</td>\n",
       "      <td>-70.0</td>\n",
       "      <td>-28.0</td>\n",
       "      <td>-22.0</td>\n",
       "      <td>7.0</td>\n",
       "      <td>9.0</td>\n",
       "      <td>16.0</td>\n",
       "      <td>-21.0</td>\n",
       "      <td>-20.0</td>\n",
       "      <td>-128.0</td>\n",
       "      <td>19.0</td>\n",
       "    </tr>\n",
       "    <tr>\n",
       "      <th>7270</th>\n",
       "      <td>2.0</td>\n",
       "      <td>24.0</td>\n",
       "      <td>-5.0</td>\n",
       "      <td>4.0</td>\n",
       "      <td>-6.0</td>\n",
       "      <td>1.0</td>\n",
       "      <td>-8.0</td>\n",
       "      <td>3.0</td>\n",
       "      <td>-12.0</td>\n",
       "      <td>-10.0</td>\n",
       "      <td>...</td>\n",
       "      <td>6.0</td>\n",
       "      <td>-3.0</td>\n",
       "      <td>9.0</td>\n",
       "      <td>12.0</td>\n",
       "      <td>-5.0</td>\n",
       "      <td>-8.0</td>\n",
       "      <td>-7.0</td>\n",
       "      <td>-9.0</td>\n",
       "      <td>-5.0</td>\n",
       "      <td>31.0</td>\n",
       "    </tr>\n",
       "  </tbody>\n",
       "</table>\n",
       "<p>11678 rows × 64 columns</p>\n",
       "</div>"
      ],
      "text/plain": [
       "       sensor_01  sensor_02  sensor_03  sensor_04  sensor_05  sensor_06  \\\n",
       "11229       -1.0        1.0       -1.0        4.0       11.0       23.0   \n",
       "11658        0.0       -1.0        1.0        1.0        7.0       40.0   \n",
       "2142         1.0       -6.0       -1.0       -4.0       -6.0       13.0   \n",
       "7458        12.0        7.0        3.0       11.0       12.0       -8.0   \n",
       "2348         8.0       25.0        1.0       11.0        2.0        0.0   \n",
       "...          ...        ...        ...        ...        ...        ...   \n",
       "11284       -4.0       -2.0       -3.0       -3.0      -51.0      -48.0   \n",
       "5191        28.0        1.0       -2.0        0.0      -15.0      -37.0   \n",
       "5390        15.0       -2.0       -4.0       -1.0        7.0        3.0   \n",
       "860         36.0        3.0       -6.0        2.0       10.0        5.0   \n",
       "7270         2.0       24.0       -5.0        4.0       -6.0        1.0   \n",
       "\n",
       "       sensor_07  sensor_08  sensor_09  sensor_10  ...  sensor_55  sensor_56  \\\n",
       "11229        3.0        5.0        1.0       -3.0  ...        8.0       26.0   \n",
       "11658       -4.0       -2.0        2.0       -2.0  ...      -12.0       -7.0   \n",
       "2142        -6.0       21.0      -24.0      -17.0  ...        8.0      -22.0   \n",
       "7458         6.0        9.0        5.0       -9.0  ...       -1.0        8.0   \n",
       "2348       -22.0        6.0        7.0      -32.0  ...        8.0       -4.0   \n",
       "...          ...        ...        ...        ...  ...        ...        ...   \n",
       "11284       -6.0       -8.0       12.0        5.0  ...       -9.0       -6.0   \n",
       "5191        -5.0       -1.0      -11.0        1.0  ...       -1.0        4.0   \n",
       "5390         0.0        7.0        1.0        1.0  ...        4.0       -4.0   \n",
       "860         73.0       57.0       -1.0        9.0  ...      -70.0      -28.0   \n",
       "7270        -8.0        3.0      -12.0      -10.0  ...        6.0       -3.0   \n",
       "\n",
       "       sensor_57  sensor_58  sensor_59  sensor_60  sensor_61  sensor_62  \\\n",
       "11229       -3.0       -1.0       -4.0       -6.0       -9.0      -31.0   \n",
       "11658       -1.0        1.0       -5.0        3.0        2.0       10.0   \n",
       "2142        -3.0        5.0        0.0       -9.0       14.0        5.0   \n",
       "7458        -3.0       -4.0       13.0        4.0      -15.0      -53.0   \n",
       "2348        31.0       56.0        2.0      -15.0      -10.0      -46.0   \n",
       "...          ...        ...        ...        ...        ...        ...   \n",
       "11284       -7.0       -4.0       -5.0       -3.0      -21.0      -15.0   \n",
       "5191       -11.0       -2.0       -1.0       -2.0      -25.0      -15.0   \n",
       "5390        22.0        5.0        2.0        3.0      -30.0      -53.0   \n",
       "860        -22.0        7.0        9.0       16.0      -21.0      -20.0   \n",
       "7270         9.0       12.0       -5.0       -8.0       -7.0       -9.0   \n",
       "\n",
       "       sensor_63  sensor_64  \n",
       "11229      -10.0       -5.0  \n",
       "11658        5.0       -2.0  \n",
       "2142       -30.0       20.0  \n",
       "7458        -3.0       -8.0  \n",
       "2348         0.0       20.0  \n",
       "...          ...        ...  \n",
       "11284        5.0        1.0  \n",
       "5191        -4.0       -7.0  \n",
       "5390        -4.0        7.0  \n",
       "860       -128.0       19.0  \n",
       "7270        -5.0       31.0  \n",
       "\n",
       "[11678 rows x 64 columns]"
      ]
     },
     "execution_count": 20,
     "metadata": {},
     "output_type": "execute_result"
    }
   ],
   "source": [
    "X"
   ]
  },
  {
   "cell_type": "code",
   "execution_count": 21,
   "id": "beaacf67",
   "metadata": {},
   "outputs": [],
   "source": [
    "y = df['class']"
   ]
  },
  {
   "cell_type": "code",
   "execution_count": 22,
   "id": "dfacfb10",
   "metadata": {},
   "outputs": [
    {
     "data": {
      "text/plain": [
       "11229    3\n",
       "11658    3\n",
       "2142     0\n",
       "7458     2\n",
       "2348     0\n",
       "        ..\n",
       "11284    3\n",
       "5191     1\n",
       "5390     1\n",
       "860      0\n",
       "7270     2\n",
       "Name: class, Length: 11678, dtype: int64"
      ]
     },
     "execution_count": 22,
     "metadata": {},
     "output_type": "execute_result"
    }
   ],
   "source": [
    "y"
   ]
  },
  {
   "cell_type": "markdown",
   "id": "459233a7",
   "metadata": {},
   "source": [
    "### Splitting the dataset into train set and test set"
   ]
  },
  {
   "cell_type": "code",
   "execution_count": 23,
   "id": "3c32d42b",
   "metadata": {},
   "outputs": [],
   "source": [
    "from sklearn.model_selection import train_test_split"
   ]
  },
  {
   "cell_type": "code",
   "execution_count": 24,
   "id": "26b34a7a",
   "metadata": {},
   "outputs": [],
   "source": [
    "X_train, X_test, y_train, y_test = train_test_split(X, y, test_size = 0.2, random_state = 10)"
   ]
  },
  {
   "cell_type": "markdown",
   "id": "e0bd0c7a",
   "metadata": {},
   "source": [
    "### Scaling"
   ]
  },
  {
   "cell_type": "code",
   "execution_count": 25,
   "id": "6147474b",
   "metadata": {},
   "outputs": [],
   "source": [
    "from sklearn.preprocessing import StandardScaler"
   ]
  },
  {
   "cell_type": "code",
   "execution_count": 26,
   "id": "540749fe",
   "metadata": {},
   "outputs": [],
   "source": [
    "std_scle = StandardScaler()"
   ]
  },
  {
   "cell_type": "code",
   "execution_count": 27,
   "id": "8ecfb832",
   "metadata": {},
   "outputs": [
    {
     "data": {
      "text/plain": [
       "array([[-0.14067145,  0.24254129,  0.55579759, ..., -0.29535485,\n",
       "         0.01630857,  1.26812386],\n",
       "       [ 1.63397519,  0.24254129, -1.05770803, ...,  0.68747803,\n",
       "         1.20164057, -0.41014185],\n",
       "       [-1.5388779 ,  0.49968974, -1.66277264, ...,  0.25503156,\n",
       "        -0.29977996, -0.34559317],\n",
       "       ...,\n",
       "       [-0.08689428,  0.84255433,  0.35410939, ..., -0.09878828,\n",
       "         0.01630857,  1.97815935],\n",
       "       [ 0.39710026,  0.15682514,  0.15242119, ...,  2.73177043,\n",
       "         0.13484177, -1.18472602],\n",
       "       [ 0.28954591, -0.18603946,  1.3625504 , ...,  1.04129787,\n",
       "         0.25337497,  0.17079628]])"
      ]
     },
     "execution_count": 27,
     "metadata": {},
     "output_type": "execute_result"
    }
   ],
   "source": [
    "std_scle.fit_transform(X_train)"
   ]
  },
  {
   "cell_type": "code",
   "execution_count": 28,
   "id": "7b239fc0",
   "metadata": {},
   "outputs": [],
   "source": [
    "X_train_scaled = pd.DataFrame(std_scle.fit_transform(X_train))"
   ]
  },
  {
   "cell_type": "code",
   "execution_count": 29,
   "id": "7a5c5848",
   "metadata": {},
   "outputs": [],
   "source": [
    "X_test_scaled = pd.DataFrame(std_scle.transform(X_test))"
   ]
  },
  {
   "cell_type": "markdown",
   "id": "95c9ffc0",
   "metadata": {},
   "source": [
    " ### Model Building"
   ]
  },
  {
   "cell_type": "code",
   "execution_count": 30,
   "id": "dd92d594",
   "metadata": {},
   "outputs": [],
   "source": [
    "from sklearn.metrics import accuracy_score, classification_report, confusion_matrix, plot_confusion_matrix"
   ]
  },
  {
   "cell_type": "code",
   "execution_count": 31,
   "id": "b8af065e",
   "metadata": {},
   "outputs": [],
   "source": [
    "from sklearn.model_selection import cross_val_score"
   ]
  },
  {
   "cell_type": "markdown",
   "id": "26631490",
   "metadata": {},
   "source": [
    "#### Logistic Regression"
   ]
  },
  {
   "cell_type": "code",
   "execution_count": 32,
   "id": "c535815f",
   "metadata": {},
   "outputs": [],
   "source": [
    "from sklearn.linear_model import LogisticRegression"
   ]
  },
  {
   "cell_type": "code",
   "execution_count": 33,
   "id": "3c37f857",
   "metadata": {},
   "outputs": [],
   "source": [
    "log_reg = LogisticRegression()"
   ]
  },
  {
   "cell_type": "code",
   "execution_count": 34,
   "id": "ff12134e",
   "metadata": {},
   "outputs": [
    {
     "data": {
      "text/plain": [
       "LogisticRegression()"
      ]
     },
     "execution_count": 34,
     "metadata": {},
     "output_type": "execute_result"
    }
   ],
   "source": [
    "log_reg.fit(X_train_scaled,y_train)"
   ]
  },
  {
   "cell_type": "code",
   "execution_count": 35,
   "id": "485e968e",
   "metadata": {},
   "outputs": [],
   "source": [
    "y_pred = log_reg.predict(X_test_scaled)"
   ]
  },
  {
   "cell_type": "code",
   "execution_count": 36,
   "id": "b3ff5649",
   "metadata": {},
   "outputs": [
    {
     "name": "stdout",
     "output_type": "stream",
     "text": [
      "Test Accuracy Score: 35.14554794520548 %\n"
     ]
    }
   ],
   "source": [
    "print(\"Test Accuracy Score:\", accuracy_score(y_test, y_pred) * 100,\"%\")"
   ]
  },
  {
   "cell_type": "code",
   "execution_count": 37,
   "id": "0cd31850",
   "metadata": {},
   "outputs": [],
   "source": [
    "y_pred_train = log_reg.predict(X_train_scaled)"
   ]
  },
  {
   "cell_type": "code",
   "execution_count": 38,
   "id": "b6b25fc2",
   "metadata": {},
   "outputs": [
    {
     "name": "stdout",
     "output_type": "stream",
     "text": [
      "Train Accuracy Score: 37.368871761935345 %\n"
     ]
    }
   ],
   "source": [
    "print(\"Train Accuracy Score:\", accuracy_score(y_train, y_pred_train) * 100,\"%\")"
   ]
  },
  {
   "cell_type": "code",
   "execution_count": 39,
   "id": "3a116f10",
   "metadata": {},
   "outputs": [],
   "source": [
    "cm_test = confusion_matrix(y_test, y_pred)"
   ]
  },
  {
   "cell_type": "code",
   "execution_count": 40,
   "id": "f942a58c",
   "metadata": {},
   "outputs": [
    {
     "data": {
      "text/plain": [
       "array([[261,  92, 119, 127],\n",
       "       [ 50, 188, 181, 155],\n",
       "       [ 99, 139, 180, 161],\n",
       "       [ 88, 129, 175, 192]], dtype=int64)"
      ]
     },
     "execution_count": 40,
     "metadata": {},
     "output_type": "execute_result"
    }
   ],
   "source": [
    "cm_test"
   ]
  },
  {
   "cell_type": "code",
   "execution_count": 41,
   "id": "9a14b6f7",
   "metadata": {},
   "outputs": [
    {
     "name": "stderr",
     "output_type": "stream",
     "text": [
      "C:\\Users\\bhumu\\anaconda3\\lib\\site-packages\\sklearn\\utils\\deprecation.py:87: FutureWarning: Function plot_confusion_matrix is deprecated; Function `plot_confusion_matrix` is deprecated in 1.0 and will be removed in 1.2. Use one of the class methods: ConfusionMatrixDisplay.from_predictions or ConfusionMatrixDisplay.from_estimator.\n",
      "  warnings.warn(msg, category=FutureWarning)\n"
     ]
    },
    {
     "data": {
      "text/plain": [
       "<sklearn.metrics._plot.confusion_matrix.ConfusionMatrixDisplay at 0x282332d2970>"
      ]
     },
     "execution_count": 41,
     "metadata": {},
     "output_type": "execute_result"
    },
    {
     "data": {
      "image/png": "[encoded data removed]",
      "text/plain": [
       "<Figure size 432x288 with 2 Axes>"
      ]
     },
     "metadata": {
      "needs_background": "light"
     },
     "output_type": "display_data"
    }
   ],
   "source": [
    "plot_confusion_matrix(log_reg, X_test_scaled, y_test)  "
   ]
  },
  {
   "cell_type": "code",
   "execution_count": 42,
   "id": "c15ad9c9",
   "metadata": {
    "scrolled": false
   },
   "outputs": [
    {
     "name": "stdout",
     "output_type": "stream",
     "text": [
      "              precision    recall  f1-score   support\n",
      "\n",
      "           0       0.52      0.44      0.48       599\n",
      "           1       0.34      0.33      0.34       574\n",
      "           2       0.27      0.31      0.29       579\n",
      "           3       0.30      0.33      0.32       584\n",
      "\n",
      "    accuracy                           0.35      2336\n",
      "   macro avg       0.36      0.35      0.35      2336\n",
      "weighted avg       0.36      0.35      0.36      2336\n",
      "\n"
     ]
    }
   ],
   "source": [
    "print(classification_report(y_test,y_pred))"
   ]
  },
  {
   "cell_type": "code",
   "execution_count": 43,
   "id": "31f090d2",
   "metadata": {},
   "outputs": [],
   "source": [
    "accuracies_lg = cross_val_score(estimator = log_reg, X = X_train_scaled, y = y_train, cv = 10)"
   ]
  },
  {
   "cell_type": "code",
   "execution_count": 44,
   "id": "4d2f837f",
   "metadata": {},
   "outputs": [
    {
     "data": {
      "text/plain": [
       "array([0.33368984, 0.32299465, 0.32869379, 0.3254818 , 0.33404711,\n",
       "       0.35653105, 0.32012848, 0.3490364 , 0.33190578, 0.36295503])"
      ]
     },
     "execution_count": 44,
     "metadata": {},
     "output_type": "execute_result"
    }
   ],
   "source": [
    "accuracies_lg"
   ]
  },
  {
   "cell_type": "code",
   "execution_count": 45,
   "id": "07fec9a7",
   "metadata": {},
   "outputs": [],
   "source": [
    "final_acc_lg = accuracies_lg.mean()"
   ]
  },
  {
   "cell_type": "code",
   "execution_count": 46,
   "id": "bdec80c7",
   "metadata": {},
   "outputs": [
    {
     "data": {
      "text/plain": [
       "0.3365463935233427"
      ]
     },
     "execution_count": 46,
     "metadata": {},
     "output_type": "execute_result"
    }
   ],
   "source": [
    "final_acc_lg"
   ]
  },
  {
   "cell_type": "markdown",
   "id": "aea2ec47",
   "metadata": {},
   "source": [
    "Logistic Regression unable to map the data into different classes. It might be failing because of two reasons:\n",
    "1. The data is non linear\n",
    "2. The sigmoid could have tight thresholds as it is a limitation of it."
   ]
  },
  {
   "cell_type": "markdown",
   "id": "fba3889f",
   "metadata": {},
   "source": [
    " precision - FP, recall - FN"
   ]
  },
  {
   "cell_type": "markdown",
   "id": "e34a3ad7",
   "metadata": {},
   "source": [
    "#### K-Nearest Neighbours (KNN)"
   ]
  },
  {
   "cell_type": "code",
   "execution_count": 47,
   "id": "1a5e10e6",
   "metadata": {},
   "outputs": [],
   "source": [
    "from sklearn.neighbors import KNeighborsClassifier"
   ]
  },
  {
   "cell_type": "code",
   "execution_count": 48,
   "id": "34ec719a",
   "metadata": {},
   "outputs": [],
   "source": [
    "import time"
   ]
  },
  {
   "cell_type": "code",
   "execution_count": 49,
   "id": "cd3a15eb",
   "metadata": {},
   "outputs": [],
   "source": [
    "knn_cls = KNeighborsClassifier(n_neighbors = 5, p = 2)"
   ]
  },
  {
   "cell_type": "code",
   "execution_count": 50,
   "id": "8ce45080",
   "metadata": {},
   "outputs": [
    {
     "name": "stdout",
     "output_type": "stream",
     "text": [
      "Total Time :: 0.003122568130493164 seconds\n"
     ]
    }
   ],
   "source": [
    "st = time.time()\n",
    "knn_cls.fit(X_train_scaled,y_train)\n",
    "et = time.time()\n",
    "print(\"Total Time ::\", et - st, \"seconds\")"
   ]
  },
  {
   "cell_type": "code",
   "execution_count": 51,
   "id": "50d0183c",
   "metadata": {},
   "outputs": [],
   "source": [
    "y_pred_knn = knn_cls.predict(X_test_scaled)"
   ]
  },
  {
   "cell_type": "code",
   "execution_count": 52,
   "id": "f77e09cb",
   "metadata": {},
   "outputs": [
    {
     "name": "stdout",
     "output_type": "stream",
     "text": [
      "Test Accuracy Score: 65.92465753424658 %\n"
     ]
    }
   ],
   "source": [
    "print(\"Test Accuracy Score:\", accuracy_score(y_test, y_pred_knn) * 100,\"%\")"
   ]
  },
  {
   "cell_type": "code",
   "execution_count": 53,
   "id": "e7717257",
   "metadata": {},
   "outputs": [],
   "source": [
    "y_pred_train_knn = knn_cls.predict(X_train_scaled)"
   ]
  },
  {
   "cell_type": "code",
   "execution_count": 54,
   "id": "718ce1cb",
   "metadata": {},
   "outputs": [
    {
     "name": "stdout",
     "output_type": "stream",
     "text": [
      "Train Accuracy Score: 76.01156069364163 %\n"
     ]
    }
   ],
   "source": [
    "print(\"Train Accuracy Score:\", accuracy_score(y_train, y_pred_train_knn) * 100,\"%\")"
   ]
  },
  {
   "cell_type": "code",
   "execution_count": 55,
   "id": "5d7395ed",
   "metadata": {},
   "outputs": [
    {
     "name": "stderr",
     "output_type": "stream",
     "text": [
      "C:\\Users\\bhumu\\anaconda3\\lib\\site-packages\\sklearn\\utils\\deprecation.py:87: FutureWarning: Function plot_confusion_matrix is deprecated; Function `plot_confusion_matrix` is deprecated in 1.0 and will be removed in 1.2. Use one of the class methods: ConfusionMatrixDisplay.from_predictions or ConfusionMatrixDisplay.from_estimator.\n",
      "  warnings.warn(msg, category=FutureWarning)\n"
     ]
    },
    {
     "data": {
      "text/plain": [
       "<sklearn.metrics._plot.confusion_matrix.ConfusionMatrixDisplay at 0x28234f548b0>"
      ]
     },
     "execution_count": 55,
     "metadata": {},
     "output_type": "execute_result"
    },
    {
     "data": {
      "image/png": "[encoded data removed]",
      "text/plain": [
       "<Figure size 432x288 with 2 Axes>"
      ]
     },
     "metadata": {
      "needs_background": "light"
     },
     "output_type": "display_data"
    }
   ],
   "source": [
    "plot_confusion_matrix(knn_cls, X_test_scaled, y_test)"
   ]
  },
  {
   "cell_type": "code",
   "execution_count": 56,
   "id": "2ccfe6b3",
   "metadata": {
    "scrolled": true
   },
   "outputs": [
    {
     "name": "stdout",
     "output_type": "stream",
     "text": [
      "              precision    recall  f1-score   support\n",
      "\n",
      "           0       0.93      0.64      0.76       599\n",
      "           1       0.55      0.94      0.70       574\n",
      "           2       0.80      0.32      0.45       579\n",
      "           3       0.60      0.74      0.66       584\n",
      "\n",
      "    accuracy                           0.66      2336\n",
      "   macro avg       0.72      0.66      0.64      2336\n",
      "weighted avg       0.72      0.66      0.64      2336\n",
      "\n"
     ]
    }
   ],
   "source": [
    "print(classification_report(y_test,y_pred_knn))"
   ]
  },
  {
   "cell_type": "code",
   "execution_count": 57,
   "id": "4bab3b35",
   "metadata": {},
   "outputs": [],
   "source": [
    "accuracies_knn = cross_val_score(estimator = knn_cls, X = X_train_scaled, y = y_train, cv = 10)"
   ]
  },
  {
   "cell_type": "code",
   "execution_count": 58,
   "id": "c018c52b",
   "metadata": {},
   "outputs": [
    {
     "data": {
      "text/plain": [
       "array([0.64919786, 0.67058824, 0.65524625, 0.66809422, 0.67344754,\n",
       "       0.62847966, 0.66167024, 0.65203426, 0.66595289, 0.67130621])"
      ]
     },
     "execution_count": 58,
     "metadata": {},
     "output_type": "execute_result"
    }
   ],
   "source": [
    "accuracies_knn"
   ]
  },
  {
   "cell_type": "code",
   "execution_count": 59,
   "id": "e943711b",
   "metadata": {},
   "outputs": [],
   "source": [
    "final_acc_knn = accuracies_knn.mean()"
   ]
  },
  {
   "cell_type": "code",
   "execution_count": 60,
   "id": "35bec084",
   "metadata": {},
   "outputs": [
    {
     "data": {
      "text/plain": [
       "0.6596017359639982"
      ]
     },
     "execution_count": 60,
     "metadata": {},
     "output_type": "execute_result"
    }
   ],
   "source": [
    "final_acc_knn"
   ]
  },
  {
   "cell_type": "markdown",
   "id": "105f5b26",
   "metadata": {},
   "source": [
    "Dimensionality Reduction---->K-means clustering"
   ]
  },
  {
   "cell_type": "markdown",
   "id": "dfc7479e",
   "metadata": {},
   "source": [
    "#### Support Vector Machine (SVM) for Classification"
   ]
  },
  {
   "cell_type": "code",
   "execution_count": 61,
   "id": "bc3bc75d",
   "metadata": {},
   "outputs": [],
   "source": [
    "from sklearn.svm import SVC"
   ]
  },
  {
   "cell_type": "code",
   "execution_count": 62,
   "id": "86ab889c",
   "metadata": {},
   "outputs": [],
   "source": [
    "svm_cls = SVC(kernel='rbf')"
   ]
  },
  {
   "cell_type": "code",
   "execution_count": 63,
   "id": "2fbace68",
   "metadata": {},
   "outputs": [
    {
     "data": {
      "text/plain": [
       "SVC()"
      ]
     },
     "execution_count": 63,
     "metadata": {},
     "output_type": "execute_result"
    }
   ],
   "source": [
    "svm_cls.fit(X_train_scaled, y_train)"
   ]
  },
  {
   "cell_type": "code",
   "execution_count": 64,
   "id": "641599c1",
   "metadata": {},
   "outputs": [],
   "source": [
    "y_pred_svm = svm_cls.predict(X_test_scaled)"
   ]
  },
  {
   "cell_type": "code",
   "execution_count": 65,
   "id": "39a7af80",
   "metadata": {},
   "outputs": [
    {
     "name": "stdout",
     "output_type": "stream",
     "text": [
      "Test Accuracy Score: 89.34075342465754 %\n"
     ]
    }
   ],
   "source": [
    "print(\"Test Accuracy Score:\", accuracy_score(y_test, y_pred_svm) * 100,\"%\")"
   ]
  },
  {
   "cell_type": "code",
   "execution_count": 66,
   "id": "011c025f",
   "metadata": {},
   "outputs": [],
   "source": [
    "y_pred_train_svm = svm_cls.predict(X_train_scaled)"
   ]
  },
  {
   "cell_type": "code",
   "execution_count": 67,
   "id": "2dcdd234",
   "metadata": {},
   "outputs": [
    {
     "name": "stdout",
     "output_type": "stream",
     "text": [
      "Train Accuracy Score: 76.01156069364163 %\n"
     ]
    }
   ],
   "source": [
    "print(\"Train Accuracy Score:\", accuracy_score(y_train, y_pred_train_knn) * 100,\"%\")"
   ]
  },
  {
   "cell_type": "code",
   "execution_count": 68,
   "id": "4ad6372f",
   "metadata": {
    "scrolled": true
   },
   "outputs": [
    {
     "name": "stderr",
     "output_type": "stream",
     "text": [
      "C:\\Users\\bhumu\\anaconda3\\lib\\site-packages\\sklearn\\utils\\deprecation.py:87: FutureWarning: Function plot_confusion_matrix is deprecated; Function `plot_confusion_matrix` is deprecated in 1.0 and will be removed in 1.2. Use one of the class methods: ConfusionMatrixDisplay.from_predictions or ConfusionMatrixDisplay.from_estimator.\n",
      "  warnings.warn(msg, category=FutureWarning)\n"
     ]
    },
    {
     "data": {
      "text/plain": [
       "<sklearn.metrics._plot.confusion_matrix.ConfusionMatrixDisplay at 0x28235040b20>"
      ]
     },
     "execution_count": 68,
     "metadata": {},
     "output_type": "execute_result"
    },
    {
     "data": {
      "image/png": "[encoded data removed]",
      "text/plain": [
       "<Figure size 432x288 with 2 Axes>"
      ]
     },
     "metadata": {
      "needs_background": "light"
     },
     "output_type": "display_data"
    }
   ],
   "source": [
    "plot_confusion_matrix(svm_cls, X_test_scaled, y_test)"
   ]
  },
  {
   "cell_type": "code",
   "execution_count": 69,
   "id": "7edd3644",
   "metadata": {},
   "outputs": [
    {
     "name": "stdout",
     "output_type": "stream",
     "text": [
      "              precision    recall  f1-score   support\n",
      "\n",
      "           0       0.94      0.90      0.92       599\n",
      "           1       0.88      0.98      0.92       574\n",
      "           2       0.92      0.84      0.88       579\n",
      "           3       0.84      0.86      0.85       584\n",
      "\n",
      "    accuracy                           0.89      2336\n",
      "   macro avg       0.89      0.89      0.89      2336\n",
      "weighted avg       0.90      0.89      0.89      2336\n",
      "\n"
     ]
    }
   ],
   "source": [
    "print(classification_report(y_test,y_pred_svm))"
   ]
  },
  {
   "cell_type": "code",
   "execution_count": 70,
   "id": "6cd3512d",
   "metadata": {},
   "outputs": [],
   "source": [
    "accuracies_svm = cross_val_score(estimator = svm_cls, X = X_train_scaled, y = y_train, cv = 10)"
   ]
  },
  {
   "cell_type": "code",
   "execution_count": 71,
   "id": "dc9fa402",
   "metadata": {},
   "outputs": [
    {
     "data": {
      "text/plain": [
       "array([0.89839572, 0.91122995, 0.89293362, 0.90149893, 0.9111349 ,\n",
       "       0.88008565, 0.89186296, 0.87901499, 0.89614561, 0.88115632])"
      ]
     },
     "execution_count": 71,
     "metadata": {},
     "output_type": "execute_result"
    }
   ],
   "source": [
    "accuracies_svm"
   ]
  },
  {
   "cell_type": "code",
   "execution_count": 72,
   "id": "08136439",
   "metadata": {},
   "outputs": [],
   "source": [
    "final_acc_svm = accuracies_svm.mean()"
   ]
  },
  {
   "cell_type": "code",
   "execution_count": 73,
   "id": "a588dac5",
   "metadata": {
    "scrolled": true
   },
   "outputs": [
    {
     "data": {
      "text/plain": [
       "0.8943458644894594"
      ]
     },
     "execution_count": 73,
     "metadata": {},
     "output_type": "execute_result"
    }
   ],
   "source": [
    "final_acc_svm"
   ]
  },
  {
   "cell_type": "markdown",
   "id": "34454ded",
   "metadata": {},
   "source": [
    "As used non linear kernel to transform the data and also allowing lienence in classifying data we could see SVM with 'rbf' kernel is performing  better compared to above models."
   ]
  },
  {
   "cell_type": "markdown",
   "id": "d8692077",
   "metadata": {},
   "source": [
    "#### Naive Bayes"
   ]
  },
  {
   "cell_type": "code",
   "execution_count": 74,
   "id": "6995838b",
   "metadata": {},
   "outputs": [],
   "source": [
    "from sklearn.naive_bayes import GaussianNB"
   ]
  },
  {
   "cell_type": "code",
   "execution_count": 75,
   "id": "2ea3eea0",
   "metadata": {},
   "outputs": [],
   "source": [
    "nb_cls = GaussianNB()"
   ]
  },
  {
   "cell_type": "code",
   "execution_count": 76,
   "id": "d95f8be2",
   "metadata": {},
   "outputs": [
    {
     "data": {
      "text/plain": [
       "GaussianNB()"
      ]
     },
     "execution_count": 76,
     "metadata": {},
     "output_type": "execute_result"
    }
   ],
   "source": [
    "nb_cls.fit(X_train_scaled, y_train)"
   ]
  },
  {
   "cell_type": "code",
   "execution_count": 77,
   "id": "ccd97010",
   "metadata": {},
   "outputs": [],
   "source": [
    "y_pred_nb = nb_cls.predict(X_test_scaled)"
   ]
  },
  {
   "cell_type": "code",
   "execution_count": 78,
   "id": "94dd3749",
   "metadata": {},
   "outputs": [
    {
     "name": "stdout",
     "output_type": "stream",
     "text": [
      "Test Accuracy Score: 88.27054794520548 %\n"
     ]
    }
   ],
   "source": [
    "print(\"Test Accuracy Score:\", accuracy_score(y_test, y_pred_nb) * 100,\"%\")"
   ]
  },
  {
   "cell_type": "code",
   "execution_count": 79,
   "id": "76e85d10",
   "metadata": {},
   "outputs": [],
   "source": [
    "y_pred_train_nb = nb_cls.predict(X_train_scaled)"
   ]
  },
  {
   "cell_type": "code",
   "execution_count": 80,
   "id": "0e4a42fb",
   "metadata": {},
   "outputs": [
    {
     "name": "stdout",
     "output_type": "stream",
     "text": [
      "Train Accuracy Score: 88.7176193534575 %\n"
     ]
    }
   ],
   "source": [
    "print(\"Train Accuracy Score:\", accuracy_score(y_train, y_pred_train_nb) * 100,\"%\")"
   ]
  },
  {
   "cell_type": "code",
   "execution_count": 81,
   "id": "cb93dccd",
   "metadata": {
    "scrolled": true
   },
   "outputs": [
    {
     "name": "stderr",
     "output_type": "stream",
     "text": [
      "C:\\Users\\bhumu\\anaconda3\\lib\\site-packages\\sklearn\\utils\\deprecation.py:87: FutureWarning: Function plot_confusion_matrix is deprecated; Function `plot_confusion_matrix` is deprecated in 1.0 and will be removed in 1.2. Use one of the class methods: ConfusionMatrixDisplay.from_predictions or ConfusionMatrixDisplay.from_estimator.\n",
      "  warnings.warn(msg, category=FutureWarning)\n"
     ]
    },
    {
     "data": {
      "text/plain": [
       "<sklearn.metrics._plot.confusion_matrix.ConfusionMatrixDisplay at 0x28235116e50>"
      ]
     },
     "execution_count": 81,
     "metadata": {},
     "output_type": "execute_result"
    },
    {
     "data": {
      "image/png": "[encoded data removed]",
      "text/plain": [
       "<Figure size 432x288 with 2 Axes>"
      ]
     },
     "metadata": {
      "needs_background": "light"
     },
     "output_type": "display_data"
    }
   ],
   "source": [
    "plot_confusion_matrix(nb_cls, X_test_scaled, y_test)"
   ]
  },
  {
   "cell_type": "code",
   "execution_count": 82,
   "id": "c4b1cc5e",
   "metadata": {},
   "outputs": [
    {
     "name": "stdout",
     "output_type": "stream",
     "text": [
      "              precision    recall  f1-score   support\n",
      "\n",
      "           0       0.92      0.92      0.92       599\n",
      "           1       0.84      0.95      0.89       574\n",
      "           2       0.95      0.91      0.92       579\n",
      "           3       0.83      0.75      0.79       584\n",
      "\n",
      "    accuracy                           0.88      2336\n",
      "   macro avg       0.88      0.88      0.88      2336\n",
      "weighted avg       0.88      0.88      0.88      2336\n",
      "\n"
     ]
    }
   ],
   "source": [
    "print(classification_report(y_test,y_pred_nb))"
   ]
  },
  {
   "cell_type": "code",
   "execution_count": 83,
   "id": "f5d3663f",
   "metadata": {},
   "outputs": [],
   "source": [
    "accuracies_nb = cross_val_score(estimator = nb_cls, X = X_train_scaled, y = y_train, cv = 10)"
   ]
  },
  {
   "cell_type": "code",
   "execution_count": 84,
   "id": "742ad78c",
   "metadata": {},
   "outputs": [
    {
     "data": {
      "text/plain": [
       "array([0.89411765, 0.90481283, 0.89507495, 0.89079229, 0.88329764,\n",
       "       0.8608137 , 0.88650964, 0.87366167, 0.87794433, 0.89400428])"
      ]
     },
     "execution_count": 84,
     "metadata": {},
     "output_type": "execute_result"
    }
   ],
   "source": [
    "accuracies_nb"
   ]
  },
  {
   "cell_type": "code",
   "execution_count": 85,
   "id": "7f62219f",
   "metadata": {},
   "outputs": [],
   "source": [
    "final_acc_nb = accuracies_nb.mean()"
   ]
  },
  {
   "cell_type": "code",
   "execution_count": 86,
   "id": "89d2b0e5",
   "metadata": {},
   "outputs": [
    {
     "data": {
      "text/plain": [
       "0.8861028982354086"
      ]
     },
     "execution_count": 86,
     "metadata": {},
     "output_type": "execute_result"
    }
   ],
   "source": [
    "final_acc_nb"
   ]
  },
  {
   "cell_type": "markdown",
   "id": "733f4d4b",
   "metadata": {},
   "source": [
    "#### Decision Tree for Classification"
   ]
  },
  {
   "cell_type": "code",
   "execution_count": 87,
   "id": "a16b15a0",
   "metadata": {},
   "outputs": [],
   "source": [
    "from sklearn.tree import DecisionTreeClassifier"
   ]
  },
  {
   "cell_type": "code",
   "execution_count": 88,
   "id": "d5c84b2e",
   "metadata": {},
   "outputs": [],
   "source": [
    "dt_cls = DecisionTreeClassifier(criterion='gini', random_state=42)"
   ]
  },
  {
   "cell_type": "code",
   "execution_count": 89,
   "id": "976e5188",
   "metadata": {},
   "outputs": [
    {
     "data": {
      "text/plain": [
       "DecisionTreeClassifier(random_state=42)"
      ]
     },
     "execution_count": 89,
     "metadata": {},
     "output_type": "execute_result"
    }
   ],
   "source": [
    "dt_cls.fit(X_train, y_train)"
   ]
  },
  {
   "cell_type": "code",
   "execution_count": 90,
   "id": "c24f614d",
   "metadata": {},
   "outputs": [],
   "source": [
    "y_pred_dt = dt_cls.predict(X_test)"
   ]
  },
  {
   "cell_type": "code",
   "execution_count": 91,
   "id": "0e0ae579",
   "metadata": {},
   "outputs": [
    {
     "name": "stdout",
     "output_type": "stream",
     "text": [
      "Test Accuracy Score: 77.48287671232876 %\n"
     ]
    }
   ],
   "source": [
    "print(\"Test Accuracy Score:\", accuracy_score(y_test, y_pred_dt) * 100,\"%\")"
   ]
  },
  {
   "cell_type": "code",
   "execution_count": 92,
   "id": "825aa306",
   "metadata": {},
   "outputs": [],
   "source": [
    "y_pred_train_dt = dt_cls.predict(X_train)"
   ]
  },
  {
   "cell_type": "code",
   "execution_count": 93,
   "id": "fbfd9144",
   "metadata": {},
   "outputs": [
    {
     "name": "stdout",
     "output_type": "stream",
     "text": [
      "Train Accuracy Score: 100.0 %\n"
     ]
    }
   ],
   "source": [
    "print(\"Train Accuracy Score:\", accuracy_score(y_train, y_pred_train_dt) * 100,\"%\")"
   ]
  },
  {
   "cell_type": "code",
   "execution_count": 94,
   "id": "c5e6318f",
   "metadata": {
    "scrolled": true
   },
   "outputs": [
    {
     "name": "stderr",
     "output_type": "stream",
     "text": [
      "C:\\Users\\bhumu\\anaconda3\\lib\\site-packages\\sklearn\\utils\\deprecation.py:87: FutureWarning: Function plot_confusion_matrix is deprecated; Function `plot_confusion_matrix` is deprecated in 1.0 and will be removed in 1.2. Use one of the class methods: ConfusionMatrixDisplay.from_predictions or ConfusionMatrixDisplay.from_estimator.\n",
      "  warnings.warn(msg, category=FutureWarning)\n"
     ]
    },
    {
     "data": {
      "text/plain": [
       "<sklearn.metrics._plot.confusion_matrix.ConfusionMatrixDisplay at 0x2823521afd0>"
      ]
     },
     "execution_count": 94,
     "metadata": {},
     "output_type": "execute_result"
    },
    {
     "data": {
      "image/png": "[encoded data removed]",
      "text/plain": [
       "<Figure size 432x288 with 2 Axes>"
      ]
     },
     "metadata": {
      "needs_background": "light"
     },
     "output_type": "display_data"
    }
   ],
   "source": [
    "plot_confusion_matrix(dt_cls, X_test, y_test)"
   ]
  },
  {
   "cell_type": "code",
   "execution_count": 95,
   "id": "e9343c8b",
   "metadata": {
    "scrolled": false
   },
   "outputs": [
    {
     "name": "stdout",
     "output_type": "stream",
     "text": [
      "              precision    recall  f1-score   support\n",
      "\n",
      "           0       0.89      0.86      0.87       599\n",
      "           1       0.78      0.81      0.79       574\n",
      "           2       0.75      0.72      0.73       579\n",
      "           3       0.69      0.71      0.70       584\n",
      "\n",
      "    accuracy                           0.77      2336\n",
      "   macro avg       0.78      0.77      0.77      2336\n",
      "weighted avg       0.78      0.77      0.78      2336\n",
      "\n"
     ]
    }
   ],
   "source": [
    "print(classification_report(y_test,y_pred_dt))"
   ]
  },
  {
   "cell_type": "markdown",
   "id": "a1a294b0",
   "metadata": {},
   "source": [
    "The above results depicts that the model is overfit. Therfore we need to perform regularization to run the model efficiently."
   ]
  },
  {
   "cell_type": "markdown",
   "id": "9106a327",
   "metadata": {},
   "source": [
    "#### Decision tree with regularization"
   ]
  },
  {
   "cell_type": "code",
   "execution_count": 96,
   "id": "f701c2ee",
   "metadata": {},
   "outputs": [],
   "source": [
    "dt_cls_regu = DecisionTreeClassifier(criterion='gini', max_depth=10, \n",
    "                                     min_samples_split=100, min_samples_leaf=50, random_state=42)"
   ]
  },
  {
   "cell_type": "code",
   "execution_count": 97,
   "id": "3767914a",
   "metadata": {},
   "outputs": [
    {
     "data": {
      "text/plain": [
       "DecisionTreeClassifier(max_depth=10, min_samples_leaf=50, min_samples_split=100,\n",
       "                       random_state=42)"
      ]
     },
     "execution_count": 97,
     "metadata": {},
     "output_type": "execute_result"
    }
   ],
   "source": [
    "dt_cls_regu.fit(X_train, y_train)"
   ]
  },
  {
   "cell_type": "code",
   "execution_count": 98,
   "id": "1f5e32bd",
   "metadata": {},
   "outputs": [],
   "source": [
    "y_pred_dt_regu = dt_cls_regu.predict(X_test)"
   ]
  },
  {
   "cell_type": "code",
   "execution_count": 99,
   "id": "3e94fc60",
   "metadata": {},
   "outputs": [
    {
     "name": "stdout",
     "output_type": "stream",
     "text": [
      "Test Accuracy Score after regularizatoin: 74.95719178082192 %\n"
     ]
    }
   ],
   "source": [
    "print(\"Test Accuracy Score after regularizatoin:\", accuracy_score(y_test, y_pred_dt_regu) * 100,\"%\")"
   ]
  },
  {
   "cell_type": "code",
   "execution_count": 100,
   "id": "a1ba7930",
   "metadata": {},
   "outputs": [],
   "source": [
    "y_pred_train_dt_regu = dt_cls_regu.predict(X_train)"
   ]
  },
  {
   "cell_type": "code",
   "execution_count": 101,
   "id": "46204a02",
   "metadata": {},
   "outputs": [
    {
     "name": "stdout",
     "output_type": "stream",
     "text": [
      "Train Accuracy Score after regularization: 77.03917790622992 %\n"
     ]
    }
   ],
   "source": [
    "print(\"Train Accuracy Score after regularization:\", accuracy_score(y_train, y_pred_train_dt_regu) * 100,\"%\")"
   ]
  },
  {
   "cell_type": "code",
   "execution_count": 102,
   "id": "76ff2cca",
   "metadata": {},
   "outputs": [
    {
     "name": "stderr",
     "output_type": "stream",
     "text": [
      "C:\\Users\\bhumu\\anaconda3\\lib\\site-packages\\sklearn\\utils\\deprecation.py:87: FutureWarning: Function plot_confusion_matrix is deprecated; Function `plot_confusion_matrix` is deprecated in 1.0 and will be removed in 1.2. Use one of the class methods: ConfusionMatrixDisplay.from_predictions or ConfusionMatrixDisplay.from_estimator.\n",
      "  warnings.warn(msg, category=FutureWarning)\n"
     ]
    },
    {
     "data": {
      "text/plain": [
       "<sklearn.metrics._plot.confusion_matrix.ConfusionMatrixDisplay at 0x2823537dc40>"
      ]
     },
     "execution_count": 102,
     "metadata": {},
     "output_type": "execute_result"
    },
    {
     "data": {
      "image/png": "[encoded data removed]",
      "text/plain": [
       "<Figure size 432x288 with 2 Axes>"
      ]
     },
     "metadata": {
      "needs_background": "light"
     },
     "output_type": "display_data"
    }
   ],
   "source": [
    "plot_confusion_matrix(dt_cls_regu, X_test, y_test)"
   ]
  },
  {
   "cell_type": "code",
   "execution_count": 103,
   "id": "4c71d6a1",
   "metadata": {
    "scrolled": true
   },
   "outputs": [
    {
     "name": "stdout",
     "output_type": "stream",
     "text": [
      "              precision    recall  f1-score   support\n",
      "\n",
      "           0       0.88      0.82      0.85       599\n",
      "           1       0.78      0.76      0.77       574\n",
      "           2       0.72      0.69      0.70       579\n",
      "           3       0.64      0.73      0.68       584\n",
      "\n",
      "    accuracy                           0.75      2336\n",
      "   macro avg       0.76      0.75      0.75      2336\n",
      "weighted avg       0.76      0.75      0.75      2336\n",
      "\n"
     ]
    }
   ],
   "source": [
    "print(classification_report(y_test,y_pred_dt_regu))"
   ]
  },
  {
   "cell_type": "markdown",
   "id": "302bc79a",
   "metadata": {},
   "source": [
    "After pruning, model got trained well without overfitting."
   ]
  },
  {
   "cell_type": "code",
   "execution_count": 104,
   "id": "cfd14b7c",
   "metadata": {},
   "outputs": [],
   "source": [
    "accuracies_dt = cross_val_score(estimator = dt_cls_regu, X = X_train, y = y_train, cv = 10)"
   ]
  },
  {
   "cell_type": "code",
   "execution_count": 105,
   "id": "bbe3fc18",
   "metadata": {},
   "outputs": [
    {
     "data": {
      "text/plain": [
       "array([0.75935829, 0.75187166, 0.76231263, 0.73447537, 0.73019272,\n",
       "       0.72376874, 0.75053533, 0.72269807, 0.75053533, 0.74946467])"
      ]
     },
     "execution_count": 105,
     "metadata": {},
     "output_type": "execute_result"
    }
   ],
   "source": [
    "accuracies_dt"
   ]
  },
  {
   "cell_type": "code",
   "execution_count": 106,
   "id": "18f911f5",
   "metadata": {},
   "outputs": [],
   "source": [
    "final_acc_dt = accuracies_dt.mean()"
   ]
  },
  {
   "cell_type": "code",
   "execution_count": 107,
   "id": "586dfd1d",
   "metadata": {},
   "outputs": [
    {
     "data": {
      "text/plain": [
       "0.7435212815903078"
      ]
     },
     "execution_count": 107,
     "metadata": {},
     "output_type": "execute_result"
    }
   ],
   "source": [
    "final_acc_dt"
   ]
  },
  {
   "cell_type": "markdown",
   "id": "7d320592",
   "metadata": {},
   "source": [
    "Because of non-linearity in data it could not perform better as compared to SVM with kernel."
   ]
  },
  {
   "cell_type": "markdown",
   "id": "e6812d02",
   "metadata": {},
   "source": [
    "#### Random Forest for Classification"
   ]
  },
  {
   "cell_type": "code",
   "execution_count": 108,
   "id": "d364227c",
   "metadata": {},
   "outputs": [],
   "source": [
    "from sklearn.ensemble import RandomForestClassifier"
   ]
  },
  {
   "cell_type": "code",
   "execution_count": 109,
   "id": "f51a0186",
   "metadata": {},
   "outputs": [],
   "source": [
    "rf_cls = RandomForestClassifier(random_state=22)"
   ]
  },
  {
   "cell_type": "code",
   "execution_count": 110,
   "id": "2da2cb22",
   "metadata": {},
   "outputs": [
    {
     "data": {
      "text/plain": [
       "RandomForestClassifier(random_state=22)"
      ]
     },
     "execution_count": 110,
     "metadata": {},
     "output_type": "execute_result"
    }
   ],
   "source": [
    "rf_cls.fit(X_train, y_train)"
   ]
  },
  {
   "cell_type": "code",
   "execution_count": 111,
   "id": "59fdba66",
   "metadata": {},
   "outputs": [],
   "source": [
    "y_pred_rf = rf_cls.predict(X_test)"
   ]
  },
  {
   "cell_type": "code",
   "execution_count": 112,
   "id": "d77c4084",
   "metadata": {},
   "outputs": [
    {
     "name": "stdout",
     "output_type": "stream",
     "text": [
      "Test Accuracy Score: 92.16609589041096 %\n"
     ]
    }
   ],
   "source": [
    "print(\"Test Accuracy Score:\", accuracy_score(y_test, y_pred_rf) * 100,\"%\")"
   ]
  },
  {
   "cell_type": "code",
   "execution_count": 113,
   "id": "f2da5819",
   "metadata": {},
   "outputs": [],
   "source": [
    "y_pred_train_rf = rf_cls.predict(X_train)"
   ]
  },
  {
   "cell_type": "code",
   "execution_count": 114,
   "id": "d197afc1",
   "metadata": {},
   "outputs": [
    {
     "name": "stdout",
     "output_type": "stream",
     "text": [
      "Train Accuracy Score: 100.0 %\n"
     ]
    }
   ],
   "source": [
    "print(\"Train Accuracy Score:\", accuracy_score(y_train, y_pred_train_rf) * 100,\"%\")"
   ]
  },
  {
   "cell_type": "code",
   "execution_count": 115,
   "id": "6848d290",
   "metadata": {},
   "outputs": [
    {
     "name": "stderr",
     "output_type": "stream",
     "text": [
      "C:\\Users\\bhumu\\anaconda3\\lib\\site-packages\\sklearn\\utils\\deprecation.py:87: FutureWarning: Function plot_confusion_matrix is deprecated; Function `plot_confusion_matrix` is deprecated in 1.0 and will be removed in 1.2. Use one of the class methods: ConfusionMatrixDisplay.from_predictions or ConfusionMatrixDisplay.from_estimator.\n",
      "  warnings.warn(msg, category=FutureWarning)\n"
     ]
    },
    {
     "data": {
      "text/plain": [
       "<sklearn.metrics._plot.confusion_matrix.ConfusionMatrixDisplay at 0x2823555df40>"
      ]
     },
     "execution_count": 115,
     "metadata": {},
     "output_type": "execute_result"
    },
    {
     "data": {
      "image/png": "[encoded data removed]",
      "text/plain": [
       "<Figure size 432x288 with 2 Axes>"
      ]
     },
     "metadata": {
      "needs_background": "light"
     },
     "output_type": "display_data"
    }
   ],
   "source": [
    "plot_confusion_matrix(rf_cls, X_test, y_test)"
   ]
  },
  {
   "cell_type": "code",
   "execution_count": 116,
   "id": "5f504aab",
   "metadata": {
    "scrolled": true
   },
   "outputs": [
    {
     "name": "stdout",
     "output_type": "stream",
     "text": [
      "              precision    recall  f1-score   support\n",
      "\n",
      "           0       0.93      0.98      0.96       599\n",
      "           1       0.96      0.91      0.94       574\n",
      "           2       0.91      0.94      0.93       579\n",
      "           3       0.88      0.85      0.87       584\n",
      "\n",
      "    accuracy                           0.92      2336\n",
      "   macro avg       0.92      0.92      0.92      2336\n",
      "weighted avg       0.92      0.92      0.92      2336\n",
      "\n"
     ]
    }
   ],
   "source": [
    "print(classification_report(y_test,y_pred_rf))"
   ]
  },
  {
   "cell_type": "markdown",
   "id": "28e56eb7",
   "metadata": {},
   "source": [
    "#### Random Forest with regularization"
   ]
  },
  {
   "cell_type": "code",
   "execution_count": 117,
   "id": "5fe5a26c",
   "metadata": {},
   "outputs": [],
   "source": [
    "rf_cls_regu = RandomForestClassifier(max_depth=2, n_estimators=30, min_samples_split=3, max_leaf_nodes=5,random_state=22)"
   ]
  },
  {
   "cell_type": "code",
   "execution_count": 118,
   "id": "afd3847d",
   "metadata": {},
   "outputs": [
    {
     "data": {
      "text/plain": [
       "RandomForestClassifier(max_depth=2, max_leaf_nodes=5, min_samples_split=3,\n",
       "                       n_estimators=30, random_state=22)"
      ]
     },
     "execution_count": 118,
     "metadata": {},
     "output_type": "execute_result"
    }
   ],
   "source": [
    "rf_cls_regu.fit(X_train, y_train)"
   ]
  },
  {
   "cell_type": "code",
   "execution_count": 119,
   "id": "506f48de",
   "metadata": {},
   "outputs": [],
   "source": [
    "y_pred_rf_regu = rf_cls_regu.predict(X_test)"
   ]
  },
  {
   "cell_type": "code",
   "execution_count": 120,
   "id": "0da65062",
   "metadata": {},
   "outputs": [
    {
     "name": "stdout",
     "output_type": "stream",
     "text": [
      "Test Accuracy Score after regularization: 65.45376712328768 %\n"
     ]
    }
   ],
   "source": [
    "print(\"Test Accuracy Score after regularization:\", accuracy_score(y_test, y_pred_rf_regu) * 100,\"%\")"
   ]
  },
  {
   "cell_type": "code",
   "execution_count": 121,
   "id": "6155ec60",
   "metadata": {},
   "outputs": [],
   "source": [
    "y_pred_train_rf_regu = rf_cls_regu.predict(X_train)"
   ]
  },
  {
   "cell_type": "code",
   "execution_count": 122,
   "id": "50388ec8",
   "metadata": {},
   "outputs": [
    {
     "name": "stdout",
     "output_type": "stream",
     "text": [
      "Train Accuracy Score after regularization: 65.11453650181974 %\n"
     ]
    }
   ],
   "source": [
    "print(\"Train Accuracy Score after regularization:\", accuracy_score(y_train, y_pred_train_rf_regu) * 100,\"%\")"
   ]
  },
  {
   "cell_type": "code",
   "execution_count": 123,
   "id": "d5e455b9",
   "metadata": {},
   "outputs": [
    {
     "name": "stderr",
     "output_type": "stream",
     "text": [
      "C:\\Users\\bhumu\\anaconda3\\lib\\site-packages\\sklearn\\utils\\deprecation.py:87: FutureWarning: Function plot_confusion_matrix is deprecated; Function `plot_confusion_matrix` is deprecated in 1.0 and will be removed in 1.2. Use one of the class methods: ConfusionMatrixDisplay.from_predictions or ConfusionMatrixDisplay.from_estimator.\n",
      "  warnings.warn(msg, category=FutureWarning)\n"
     ]
    },
    {
     "data": {
      "text/plain": [
       "<sklearn.metrics._plot.confusion_matrix.ConfusionMatrixDisplay at 0x28235563a60>"
      ]
     },
     "execution_count": 123,
     "metadata": {},
     "output_type": "execute_result"
    },
    {
     "data": {
      "image/png": "[encoded data removed]",
      "text/plain": [
       "<Figure size 432x288 with 2 Axes>"
      ]
     },
     "metadata": {
      "needs_background": "light"
     },
     "output_type": "display_data"
    }
   ],
   "source": [
    "plot_confusion_matrix(rf_cls_regu, X_test, y_test)"
   ]
  },
  {
   "cell_type": "code",
   "execution_count": 124,
   "id": "bd39c3e5",
   "metadata": {},
   "outputs": [
    {
     "name": "stdout",
     "output_type": "stream",
     "text": [
      "              precision    recall  f1-score   support\n",
      "\n",
      "           0       0.83      0.94      0.88       599\n",
      "           1       0.48      0.94      0.63       574\n",
      "           2       0.83      0.70      0.76       579\n",
      "           3       0.63      0.04      0.08       584\n",
      "\n",
      "    accuracy                           0.65      2336\n",
      "   macro avg       0.69      0.65      0.59      2336\n",
      "weighted avg       0.69      0.65      0.59      2336\n",
      "\n"
     ]
    }
   ],
   "source": [
    "print(classification_report(y_test,y_pred_rf_regu))"
   ]
  },
  {
   "cell_type": "code",
   "execution_count": 125,
   "id": "0729693e",
   "metadata": {},
   "outputs": [],
   "source": [
    "accuracies_rf = cross_val_score(estimator = rf_cls_regu, X = X_train, y = y_train, cv = 10)"
   ]
  },
  {
   "cell_type": "code",
   "execution_count": 126,
   "id": "af327251",
   "metadata": {},
   "outputs": [
    {
     "data": {
      "text/plain": [
       "array([0.68663102, 0.65882353, 0.66059957, 0.68522484, 0.6862955 ,\n",
       "       0.65631692, 0.67558887, 0.64989293, 0.64025696, 0.66381156])"
      ]
     },
     "execution_count": 126,
     "metadata": {},
     "output_type": "execute_result"
    }
   ],
   "source": [
    "accuracies_rf"
   ]
  },
  {
   "cell_type": "code",
   "execution_count": 127,
   "id": "415a8a6a",
   "metadata": {},
   "outputs": [],
   "source": [
    "final_acc_rf = accuracies_rf.mean()"
   ]
  },
  {
   "cell_type": "code",
   "execution_count": 128,
   "id": "c7df792f",
   "metadata": {},
   "outputs": [
    {
     "data": {
      "text/plain": [
       "0.6663441697488806"
      ]
     },
     "execution_count": 128,
     "metadata": {},
     "output_type": "execute_result"
    }
   ],
   "source": [
    "final_acc_rf"
   ]
  },
  {
   "cell_type": "code",
   "execution_count": 129,
   "id": "fbcda5b7",
   "metadata": {
    "scrolled": true
   },
   "outputs": [
    {
     "name": "stdout",
     "output_type": "stream",
     "text": [
      "The cross validation score for Logistic Regression ------- 0.3365463935233427\n",
      "The cross validation score for KNN ------- 0.6596017359639982\n",
      "The cross validation score for SVM ------- 0.8943458644894594\n",
      "The cross validation score for Naive Bayes ------- 0.8861028982354086\n",
      "The cross validation score for Decision Tree ------- 0.7435212815903078\n",
      "The cross validation score for Random Forest ------- 0.6663441697488806\n"
     ]
    }
   ],
   "source": [
    "print(\"The cross validation score for Logistic Regression -------\",final_acc_lg)\n",
    "print(\"The cross validation score for KNN -------\",final_acc_knn)\n",
    "print(\"The cross validation score for SVM -------\",final_acc_svm)\n",
    "print(\"The cross validation score for Naive Bayes -------\",final_acc_nb)\n",
    "print(\"The cross validation score for Decision Tree -------\",final_acc_dt)\n",
    "print(\"The cross validation score for Random Forest -------\",final_acc_rf)"
   ]
  },
  {
   "cell_type": "markdown",
   "id": "49cfeb7c",
   "metadata": {},
   "source": [
    "From the above scores we can conclude that SVM is performing better as compared to other models. We can tune the SVM for better performance."
   ]
  },
  {
   "cell_type": "markdown",
   "id": "d95a0d97",
   "metadata": {},
   "source": [
    "### Hyperparameter Tuning for SVM "
   ]
  },
  {
   "cell_type": "code",
   "execution_count": 130,
   "id": "cd47a18b",
   "metadata": {},
   "outputs": [],
   "source": [
    "from sklearn.model_selection import GridSearchCV"
   ]
  },
  {
   "cell_type": "code",
   "execution_count": 131,
   "id": "7b747c1c",
   "metadata": {},
   "outputs": [
    {
     "name": "stdout",
     "output_type": "stream",
     "text": [
      "Fitting 10 folds for each of 25 candidates, totalling 250 fits\n"
     ]
    },
    {
     "data": {
      "text/plain": [
       "GridSearchCV(cv=10, estimator=SVC(), n_jobs=-1,\n",
       "             param_grid={'C': [0.1, 1, 10, 100, 1000],\n",
       "                         'gamma': [1, 0.1, 0.01, 0.001, 0.0001],\n",
       "                         'kernel': ['rbf']},\n",
       "             verbose=3)"
      ]
     },
     "execution_count": 131,
     "metadata": {},
     "output_type": "execute_result"
    }
   ],
   "source": [
    "param_grid = {'C': [0.1, 1, 10, 100, 1000],  \n",
    "              'gamma': [1, 0.1, 0.01, 0.001, 0.0001], \n",
    "              'kernel': ['rbf']} \n",
    "\n",
    "grid_search_cls =  GridSearchCV(estimator = svm_cls, param_grid = param_grid, \n",
    "                                refit = True, verbose = 3, n_jobs = -1, cv = 10)\n",
    "\n",
    "grid_search_cls.fit(X_train_scaled, y_train)"
   ]
  },
  {
   "cell_type": "code",
   "execution_count": 132,
   "id": "8630103a",
   "metadata": {},
   "outputs": [
    {
     "name": "stdout",
     "output_type": "stream",
     "text": [
      "Best Hyperparameters: {'C': 10, 'gamma': 0.01, 'kernel': 'rbf'}\n"
     ]
    }
   ],
   "source": [
    "print(f\"Best Hyperparameters: {grid_search_cls.best_params_}\")"
   ]
  },
  {
   "cell_type": "code",
   "execution_count": 133,
   "id": "99e0cdb8",
   "metadata": {},
   "outputs": [
    {
     "name": "stdout",
     "output_type": "stream",
     "text": [
      "Best Score: 0.9207840465366601\n"
     ]
    }
   ],
   "source": [
    "print(f\"Best Score: {grid_search_cls.best_score_}\")"
   ]
  },
  {
   "cell_type": "code",
   "execution_count": 134,
   "id": "ffb8d36a",
   "metadata": {
    "scrolled": false
   },
   "outputs": [
    {
     "name": "stdout",
     "output_type": "stream",
     "text": [
      "Best Estimator: SVC(C=10, gamma=0.01)\n"
     ]
    }
   ],
   "source": [
    "print(f\"Best Estimator: {grid_search_cls.best_estimator_}\") "
   ]
  },
  {
   "cell_type": "markdown",
   "id": "6a13dfa8",
   "metadata": {},
   "source": [
    "### Testing the model on the entire dataset"
   ]
  },
  {
   "cell_type": "code",
   "execution_count": 142,
   "id": "0079b233",
   "metadata": {},
   "outputs": [],
   "source": [
    "new_x = pd.concat([X_train_scaled, X_test_scaled], ignore_index=True)\n",
    "new_y = pd.concat([y_train, y_test], ignore_index=True)"
   ]
  },
  {
   "cell_type": "code",
   "execution_count": 145,
   "id": "fdc6365c",
   "metadata": {},
   "outputs": [
    {
     "name": "stderr",
     "output_type": "stream",
     "text": [
      "C:\\Users\\bhumu\\anaconda3\\lib\\site-packages\\sklearn\\utils\\deprecation.py:87: FutureWarning: Function plot_confusion_matrix is deprecated; Function `plot_confusion_matrix` is deprecated in 1.0 and will be removed in 1.2. Use one of the class methods: ConfusionMatrixDisplay.from_predictions or ConfusionMatrixDisplay.from_estimator.\n",
      "  warnings.warn(msg, category=FutureWarning)\n"
     ]
    },
    {
     "data": {
      "text/plain": [
       "<sklearn.metrics._plot.confusion_matrix.ConfusionMatrixDisplay at 0x28235744a30>"
      ]
     },
     "execution_count": 145,
     "metadata": {},
     "output_type": "execute_result"
    },
    {
     "data": {
      "image/png": "[encoded data removed]",
      "text/plain": [
       "<Figure size 432x288 with 2 Axes>"
      ]
     },
     "metadata": {
      "needs_background": "light"
     },
     "output_type": "display_data"
    }
   ],
   "source": [
    "plot_confusion_matrix(grid_search_cls, new_x, new_y)"
   ]
  },
  {
   "cell_type": "code",
   "execution_count": 147,
   "id": "702945ee",
   "metadata": {},
   "outputs": [
    {
     "name": "stdout",
     "output_type": "stream",
     "text": [
      "              precision    recall  f1-score   support\n",
      "\n",
      "           0       0.99      0.98      0.99      2910\n",
      "           1       0.96      0.99      0.97      2903\n",
      "           2       0.99      0.95      0.97      2943\n",
      "           3       0.95      0.96      0.95      2922\n",
      "\n",
      "    accuracy                           0.97     11678\n",
      "   macro avg       0.97      0.97      0.97     11678\n",
      "weighted avg       0.97      0.97      0.97     11678\n",
      "\n"
     ]
    }
   ],
   "source": [
    "print(classification_report(new_y, grid_search_cls.predict(new_x)))"
   ]
  },
  {
   "cell_type": "code",
   "execution_count": null,
   "id": "b93d4654",
   "metadata": {},
   "outputs": [],
   "source": []
  },
  {
   "cell_type": "code",
   "execution_count": null,
   "id": "17243ee6",
   "metadata": {},
   "outputs": [],
   "source": []
  }
 ],
 "metadata": {
  "kernelspec": {
   "display_name": "Python 3 (ipykernel)",
   "language": "python",
   "name": "python3"
  },
  "language_info": {
   "codemirror_mode": {
    "name": "ipython",
    "version": 3
   },
   "file_extension": ".py",
   "mimetype": "text/x-python",
   "name": "python",
   "nbconvert_exporter": "python",
   "pygments_lexer": "ipython3",
   "version": "3.9.12"
  }
 },
 "nbformat": 4,
 "nbformat_minor": 5
}
