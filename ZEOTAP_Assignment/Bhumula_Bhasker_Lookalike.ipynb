{
 "cells": [
  {
   "cell_type": "code",
   "execution_count": 13,
   "id": "695326aa",
   "metadata": {},
   "outputs": [],
   "source": [
    "import numpy as np\n",
    "import pandas as pd\n",
    "import seaborn as sns\n",
    "import matplotlib.pyplot as plt\n",
    "from sklearn.preprocessing import StandardScaler\n",
    "from sklearn.metrics.pairwise import cosine_similarity"
   ]
  },
  {
   "cell_type": "code",
   "execution_count": 14,
   "id": "559e94d4",
   "metadata": {},
   "outputs": [],
   "source": [
    "customers_df = pd.read_csv(r\"C:\\Users\\bhumu\\Downloads\\Customers.csv\")\n",
    "products_df = pd.read_csv(r\"C:\\Users\\bhumu\\Downloads\\Products.csv\")\n",
    "transactions_df = pd.read_csv(r\"C:\\Users\\bhumu\\Downloads\\Transactions.csv\")"
   ]
  },
  {
   "cell_type": "code",
   "execution_count": 15,
   "id": "4c0a2f70",
   "metadata": {},
   "outputs": [
    {
     "name": "stdout",
     "output_type": "stream",
     "text": [
      "Lookalike.csv saved to Lookalike.csv\n"
     ]
    }
   ],
   "source": [
    "# Merge Transactions with Products to include product details\n",
    "transactions_products_df = transactions_df.merge(products_df, on=\"ProductID\", how=\"left\")\n",
    "\n",
    "# Merge the result with Customers to include customer details\n",
    "merged_df = transactions_products_df.merge(customers_df, on=\"CustomerID\", how=\"left\")\n",
    "\n",
    "# Convert TransactionDate to datetime\n",
    "merged_df[\"TransactionDate\"] = pd.to_datetime(merged_df[\"TransactionDate\"])\n",
    "merged_df[\"SignupDate\"] = pd.to_datetime(merged_df[\"SignupDate\"])\n",
    "\n",
    "# Aggregate transaction data at the customer level\n",
    "customer_features = merged_df.groupby(\"CustomerID\").agg(\n",
    "    total_spending=(\"TotalValue\", \"sum\"),\n",
    "    avg_spending=(\"TotalValue\", \"mean\"),\n",
    "    transaction_count=(\"TransactionID\", \"count\"),\n",
    "    unique_products=(\"ProductID\", \"nunique\"),\n",
    "    signup_region=(\"Region\", \"first\"),\n",
    "    first_transaction=(\"TransactionDate\", \"min\"),\n",
    "    last_transaction=(\"TransactionDate\", \"max\"),\n",
    ").reset_index()\n",
    "\n",
    "# Calculate recency (days since last transaction)\n",
    "customer_features[\"recency_days\"] = (\n",
    "    merged_df[\"TransactionDate\"].max() - customer_features[\"last_transaction\"]\n",
    ").dt.days\n",
    "\n",
    "# One-hot encode regions\n",
    "customer_features = pd.get_dummies(customer_features, columns=[\"signup_region\"], prefix=\"region\")\n",
    "\n",
    "# Drop unnecessary columns\n",
    "customer_features = customer_features.drop(columns=[\"first_transaction\", \"last_transaction\"])\n",
    "\n",
    "# Normalize numerical features\n",
    "numerical_cols = [\"total_spending\", \"avg_spending\", \"transaction_count\", \"unique_products\", \"recency_days\"]\n",
    "scaler = StandardScaler()\n",
    "customer_features[numerical_cols] = scaler.fit_transform(customer_features[numerical_cols])\n",
    "\n",
    "# Extract feature matrix and CustomerID\n",
    "feature_matrix = customer_features.drop(columns=[\"CustomerID\"]).values\n",
    "customer_ids = customer_features[\"CustomerID\"].values\n",
    "\n",
    "# Compute cosine similarity matrix\n",
    "similarity_matrix = cosine_similarity(feature_matrix)\n",
    "\n",
    "# Find top 3 similar customers for CustomerIDs C0001–C0020\n",
    "lookalike_map = {}\n",
    "for i in range(20):  # First 20 customers (C0001–C0020)\n",
    "    customer_id = customer_ids[i]\n",
    "    similarities = list(enumerate(similarity_matrix[i]))\n",
    "    # Exclude self and sort by similarity score\n",
    "    top_similarities = sorted(\n",
    "        [sim for sim in similarities if sim[0] != i], key=lambda x: x[1], reverse=True\n",
    "    )[:3]\n",
    "    lookalike_map[customer_id] = [(customer_ids[sim[0]], round(sim[1], 4)) for sim in top_similarities]\n",
    "\n",
    "# Convert the lookalike map to a DataFrame\n",
    "lookalike_df = pd.DataFrame(\n",
    "    [\n",
    "        {\"CustomerID\": cust_id, \"Lookalikes\": lookalikes}\n",
    "        for cust_id, lookalikes in lookalike_map.items()\n",
    "    ]\n",
    ")\n",
    "\n",
    "# Save to Lookalike.csv\n",
    "lookalike_csv_path = \"Lookalike.csv\"\n",
    "lookalike_df.to_csv(lookalike_csv_path, index=False)\n",
    "\n",
    "print(f\"Lookalike.csv saved to {lookalike_csv_path}\")\n"
   ]
  },
  {
   "cell_type": "code",
   "execution_count": null,
   "id": "e6be08b7",
   "metadata": {},
   "outputs": [],
   "source": []
  }
 ],
 "metadata": {
  "kernelspec": {
   "display_name": "Python 3 (ipykernel)",
   "language": "python",
   "name": "python3"
  },
  "language_info": {
   "codemirror_mode": {
    "name": "ipython",
    "version": 3
   },
   "file_extension": ".py",
   "mimetype": "text/x-python",
   "name": "python",
   "nbconvert_exporter": "python",
   "pygments_lexer": "ipython3",
   "version": "3.9.12"
  }
 },
 "nbformat": 4,
 "nbformat_minor": 5
}
