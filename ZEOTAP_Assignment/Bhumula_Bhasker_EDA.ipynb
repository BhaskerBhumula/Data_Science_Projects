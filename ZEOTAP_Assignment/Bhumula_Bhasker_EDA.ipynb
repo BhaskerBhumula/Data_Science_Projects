{
 "cells": [
  {
   "cell_type": "code",
   "execution_count": 14,
   "id": "89a06d2e",
   "metadata": {},
   "outputs": [],
   "source": [
    "import numpy as np\n",
    "import pandas as pd\n",
    "import seaborn as sns\n",
    "import matplotlib.pyplot as plt"
   ]
  },
  {
   "cell_type": "code",
   "execution_count": 15,
   "id": "37e30a34",
   "metadata": {},
   "outputs": [],
   "source": [
    "customers = pd.read_csv(r\"C:\\Users\\bhumu\\Downloads\\Customers.csv\")\n",
    "products = pd.read_csv(r\"C:\\Users\\bhumu\\Downloads\\Products.csv\")\n",
    "transactions = pd.read_csv(r\"C:\\Users\\bhumu\\Downloads\\Transactions.csv\")"
   ]
  },
  {
   "cell_type": "code",
   "execution_count": 16,
   "id": "aebf1ba4",
   "metadata": {
    "scrolled": true
   },
   "outputs": [
    {
     "data": {
      "text/html": [
       "<div>\n",
       "<style scoped>\n",
       "    .dataframe tbody tr th:only-of-type {\n",
       "        vertical-align: middle;\n",
       "    }\n",
       "\n",
       "    .dataframe tbody tr th {\n",
       "        vertical-align: top;\n",
       "    }\n",
       "\n",
       "    .dataframe thead th {\n",
       "        text-align: right;\n",
       "    }\n",
       "</style>\n",
       "<table border=\"1\" class=\"dataframe\">\n",
       "  <thead>\n",
       "    <tr style=\"text-align: right;\">\n",
       "      <th></th>\n",
       "      <th>CustomerID</th>\n",
       "      <th>CustomerName</th>\n",
       "      <th>Region</th>\n",
       "      <th>SignupDate</th>\n",
       "    </tr>\n",
       "  </thead>\n",
       "  <tbody>\n",
       "    <tr>\n",
       "      <th>0</th>\n",
       "      <td>C0001</td>\n",
       "      <td>Lawrence Carroll</td>\n",
       "      <td>South America</td>\n",
       "      <td>2022-07-10</td>\n",
       "    </tr>\n",
       "    <tr>\n",
       "      <th>1</th>\n",
       "      <td>C0002</td>\n",
       "      <td>Elizabeth Lutz</td>\n",
       "      <td>Asia</td>\n",
       "      <td>2022-02-13</td>\n",
       "    </tr>\n",
       "    <tr>\n",
       "      <th>2</th>\n",
       "      <td>C0003</td>\n",
       "      <td>Michael Rivera</td>\n",
       "      <td>South America</td>\n",
       "      <td>2024-03-07</td>\n",
       "    </tr>\n",
       "    <tr>\n",
       "      <th>3</th>\n",
       "      <td>C0004</td>\n",
       "      <td>Kathleen Rodriguez</td>\n",
       "      <td>South America</td>\n",
       "      <td>2022-10-09</td>\n",
       "    </tr>\n",
       "    <tr>\n",
       "      <th>4</th>\n",
       "      <td>C0005</td>\n",
       "      <td>Laura Weber</td>\n",
       "      <td>Asia</td>\n",
       "      <td>2022-08-15</td>\n",
       "    </tr>\n",
       "  </tbody>\n",
       "</table>\n",
       "</div>"
      ],
      "text/plain": [
       "  CustomerID        CustomerName         Region  SignupDate\n",
       "0      C0001    Lawrence Carroll  South America  2022-07-10\n",
       "1      C0002      Elizabeth Lutz           Asia  2022-02-13\n",
       "2      C0003      Michael Rivera  South America  2024-03-07\n",
       "3      C0004  Kathleen Rodriguez  South America  2022-10-09\n",
       "4      C0005         Laura Weber           Asia  2022-08-15"
      ]
     },
     "execution_count": 16,
     "metadata": {},
     "output_type": "execute_result"
    }
   ],
   "source": [
    "customers.head()"
   ]
  },
  {
   "cell_type": "code",
   "execution_count": 17,
   "id": "bbef99a9",
   "metadata": {
    "scrolled": false
   },
   "outputs": [
    {
     "data": {
      "text/html": [
       "<div>\n",
       "<style scoped>\n",
       "    .dataframe tbody tr th:only-of-type {\n",
       "        vertical-align: middle;\n",
       "    }\n",
       "\n",
       "    .dataframe tbody tr th {\n",
       "        vertical-align: top;\n",
       "    }\n",
       "\n",
       "    .dataframe thead th {\n",
       "        text-align: right;\n",
       "    }\n",
       "</style>\n",
       "<table border=\"1\" class=\"dataframe\">\n",
       "  <thead>\n",
       "    <tr style=\"text-align: right;\">\n",
       "      <th></th>\n",
       "      <th>ProductID</th>\n",
       "      <th>ProductName</th>\n",
       "      <th>Category</th>\n",
       "      <th>Price</th>\n",
       "    </tr>\n",
       "  </thead>\n",
       "  <tbody>\n",
       "    <tr>\n",
       "      <th>0</th>\n",
       "      <td>P001</td>\n",
       "      <td>ActiveWear Biography</td>\n",
       "      <td>Books</td>\n",
       "      <td>169.30</td>\n",
       "    </tr>\n",
       "    <tr>\n",
       "      <th>1</th>\n",
       "      <td>P002</td>\n",
       "      <td>ActiveWear Smartwatch</td>\n",
       "      <td>Electronics</td>\n",
       "      <td>346.30</td>\n",
       "    </tr>\n",
       "    <tr>\n",
       "      <th>2</th>\n",
       "      <td>P003</td>\n",
       "      <td>ComfortLiving Biography</td>\n",
       "      <td>Books</td>\n",
       "      <td>44.12</td>\n",
       "    </tr>\n",
       "    <tr>\n",
       "      <th>3</th>\n",
       "      <td>P004</td>\n",
       "      <td>BookWorld Rug</td>\n",
       "      <td>Home Decor</td>\n",
       "      <td>95.69</td>\n",
       "    </tr>\n",
       "    <tr>\n",
       "      <th>4</th>\n",
       "      <td>P005</td>\n",
       "      <td>TechPro T-Shirt</td>\n",
       "      <td>Clothing</td>\n",
       "      <td>429.31</td>\n",
       "    </tr>\n",
       "  </tbody>\n",
       "</table>\n",
       "</div>"
      ],
      "text/plain": [
       "  ProductID              ProductName     Category   Price\n",
       "0      P001     ActiveWear Biography        Books  169.30\n",
       "1      P002    ActiveWear Smartwatch  Electronics  346.30\n",
       "2      P003  ComfortLiving Biography        Books   44.12\n",
       "3      P004            BookWorld Rug   Home Decor   95.69\n",
       "4      P005          TechPro T-Shirt     Clothing  429.31"
      ]
     },
     "execution_count": 17,
     "metadata": {},
     "output_type": "execute_result"
    }
   ],
   "source": [
    "products.head()"
   ]
  },
  {
   "cell_type": "code",
   "execution_count": 18,
   "id": "ba2559a5",
   "metadata": {
    "scrolled": true
   },
   "outputs": [
    {
     "data": {
      "text/html": [
       "<div>\n",
       "<style scoped>\n",
       "    .dataframe tbody tr th:only-of-type {\n",
       "        vertical-align: middle;\n",
       "    }\n",
       "\n",
       "    .dataframe tbody tr th {\n",
       "        vertical-align: top;\n",
       "    }\n",
       "\n",
       "    .dataframe thead th {\n",
       "        text-align: right;\n",
       "    }\n",
       "</style>\n",
       "<table border=\"1\" class=\"dataframe\">\n",
       "  <thead>\n",
       "    <tr style=\"text-align: right;\">\n",
       "      <th></th>\n",
       "      <th>TransactionID</th>\n",
       "      <th>CustomerID</th>\n",
       "      <th>ProductID</th>\n",
       "      <th>TransactionDate</th>\n",
       "      <th>Quantity</th>\n",
       "      <th>TotalValue</th>\n",
       "      <th>Price</th>\n",
       "    </tr>\n",
       "  </thead>\n",
       "  <tbody>\n",
       "    <tr>\n",
       "      <th>0</th>\n",
       "      <td>T00001</td>\n",
       "      <td>C0199</td>\n",
       "      <td>P067</td>\n",
       "      <td>2024-08-25 12:38:23</td>\n",
       "      <td>1</td>\n",
       "      <td>300.68</td>\n",
       "      <td>300.68</td>\n",
       "    </tr>\n",
       "    <tr>\n",
       "      <th>1</th>\n",
       "      <td>T00112</td>\n",
       "      <td>C0146</td>\n",
       "      <td>P067</td>\n",
       "      <td>2024-05-27 22:23:54</td>\n",
       "      <td>1</td>\n",
       "      <td>300.68</td>\n",
       "      <td>300.68</td>\n",
       "    </tr>\n",
       "    <tr>\n",
       "      <th>2</th>\n",
       "      <td>T00166</td>\n",
       "      <td>C0127</td>\n",
       "      <td>P067</td>\n",
       "      <td>2024-04-25 07:38:55</td>\n",
       "      <td>1</td>\n",
       "      <td>300.68</td>\n",
       "      <td>300.68</td>\n",
       "    </tr>\n",
       "    <tr>\n",
       "      <th>3</th>\n",
       "      <td>T00272</td>\n",
       "      <td>C0087</td>\n",
       "      <td>P067</td>\n",
       "      <td>2024-03-26 22:55:37</td>\n",
       "      <td>2</td>\n",
       "      <td>601.36</td>\n",
       "      <td>300.68</td>\n",
       "    </tr>\n",
       "    <tr>\n",
       "      <th>4</th>\n",
       "      <td>T00363</td>\n",
       "      <td>C0070</td>\n",
       "      <td>P067</td>\n",
       "      <td>2024-03-21 15:10:10</td>\n",
       "      <td>3</td>\n",
       "      <td>902.04</td>\n",
       "      <td>300.68</td>\n",
       "    </tr>\n",
       "  </tbody>\n",
       "</table>\n",
       "</div>"
      ],
      "text/plain": [
       "  TransactionID CustomerID ProductID      TransactionDate  Quantity  \\\n",
       "0        T00001      C0199      P067  2024-08-25 12:38:23         1   \n",
       "1        T00112      C0146      P067  2024-05-27 22:23:54         1   \n",
       "2        T00166      C0127      P067  2024-04-25 07:38:55         1   \n",
       "3        T00272      C0087      P067  2024-03-26 22:55:37         2   \n",
       "4        T00363      C0070      P067  2024-03-21 15:10:10         3   \n",
       "\n",
       "   TotalValue   Price  \n",
       "0      300.68  300.68  \n",
       "1      300.68  300.68  \n",
       "2      300.68  300.68  \n",
       "3      601.36  300.68  \n",
       "4      902.04  300.68  "
      ]
     },
     "execution_count": 18,
     "metadata": {},
     "output_type": "execute_result"
    }
   ],
   "source": [
    "transactions.head()"
   ]
  },
  {
   "cell_type": "code",
   "execution_count": 19,
   "id": "9397c7ed",
   "metadata": {},
   "outputs": [
    {
     "data": {
      "text/plain": [
       "CustomerID      False\n",
       "CustomerName    False\n",
       "Region          False\n",
       "SignupDate      False\n",
       "dtype: bool"
      ]
     },
     "execution_count": 19,
     "metadata": {},
     "output_type": "execute_result"
    }
   ],
   "source": [
    "customers.isnull().any()"
   ]
  },
  {
   "cell_type": "code",
   "execution_count": 20,
   "id": "a73c14d9",
   "metadata": {},
   "outputs": [
    {
     "data": {
      "text/plain": [
       "ProductID      False\n",
       "ProductName    False\n",
       "Category       False\n",
       "Price          False\n",
       "dtype: bool"
      ]
     },
     "execution_count": 20,
     "metadata": {},
     "output_type": "execute_result"
    }
   ],
   "source": [
    "products.isnull().any()"
   ]
  },
  {
   "cell_type": "code",
   "execution_count": 21,
   "id": "fcc3bda1",
   "metadata": {},
   "outputs": [
    {
     "data": {
      "text/plain": [
       "TransactionID      False\n",
       "CustomerID         False\n",
       "ProductID          False\n",
       "TransactionDate    False\n",
       "Quantity           False\n",
       "TotalValue         False\n",
       "Price              False\n",
       "dtype: bool"
      ]
     },
     "execution_count": 21,
     "metadata": {},
     "output_type": "execute_result"
    }
   ],
   "source": [
    "transactions.isnull().any()"
   ]
  },
  {
   "cell_type": "code",
   "execution_count": 22,
   "id": "14e7bcf2",
   "metadata": {},
   "outputs": [],
   "source": [
    "products.rename(columns={'Price': 'Product_Price'}, inplace=True)"
   ]
  },
  {
   "cell_type": "code",
   "execution_count": 23,
   "id": "c5d4edf6",
   "metadata": {},
   "outputs": [
    {
     "data": {
      "text/html": [
       "<div>\n",
       "<style scoped>\n",
       "    .dataframe tbody tr th:only-of-type {\n",
       "        vertical-align: middle;\n",
       "    }\n",
       "\n",
       "    .dataframe tbody tr th {\n",
       "        vertical-align: top;\n",
       "    }\n",
       "\n",
       "    .dataframe thead th {\n",
       "        text-align: right;\n",
       "    }\n",
       "</style>\n",
       "<table border=\"1\" class=\"dataframe\">\n",
       "  <thead>\n",
       "    <tr style=\"text-align: right;\">\n",
       "      <th></th>\n",
       "      <th>ProductID</th>\n",
       "      <th>ProductName</th>\n",
       "      <th>Category</th>\n",
       "      <th>Product_Price</th>\n",
       "    </tr>\n",
       "  </thead>\n",
       "  <tbody>\n",
       "    <tr>\n",
       "      <th>0</th>\n",
       "      <td>P001</td>\n",
       "      <td>ActiveWear Biography</td>\n",
       "      <td>Books</td>\n",
       "      <td>169.30</td>\n",
       "    </tr>\n",
       "    <tr>\n",
       "      <th>1</th>\n",
       "      <td>P002</td>\n",
       "      <td>ActiveWear Smartwatch</td>\n",
       "      <td>Electronics</td>\n",
       "      <td>346.30</td>\n",
       "    </tr>\n",
       "    <tr>\n",
       "      <th>2</th>\n",
       "      <td>P003</td>\n",
       "      <td>ComfortLiving Biography</td>\n",
       "      <td>Books</td>\n",
       "      <td>44.12</td>\n",
       "    </tr>\n",
       "    <tr>\n",
       "      <th>3</th>\n",
       "      <td>P004</td>\n",
       "      <td>BookWorld Rug</td>\n",
       "      <td>Home Decor</td>\n",
       "      <td>95.69</td>\n",
       "    </tr>\n",
       "    <tr>\n",
       "      <th>4</th>\n",
       "      <td>P005</td>\n",
       "      <td>TechPro T-Shirt</td>\n",
       "      <td>Clothing</td>\n",
       "      <td>429.31</td>\n",
       "    </tr>\n",
       "  </tbody>\n",
       "</table>\n",
       "</div>"
      ],
      "text/plain": [
       "  ProductID              ProductName     Category  Product_Price\n",
       "0      P001     ActiveWear Biography        Books         169.30\n",
       "1      P002    ActiveWear Smartwatch  Electronics         346.30\n",
       "2      P003  ComfortLiving Biography        Books          44.12\n",
       "3      P004            BookWorld Rug   Home Decor          95.69\n",
       "4      P005          TechPro T-Shirt     Clothing         429.31"
      ]
     },
     "execution_count": 23,
     "metadata": {},
     "output_type": "execute_result"
    }
   ],
   "source": [
    "products.head()"
   ]
  },
  {
   "cell_type": "code",
   "execution_count": 24,
   "id": "6e207023",
   "metadata": {},
   "outputs": [],
   "source": [
    "transactions.rename(columns={'Price': 'Transactions_Price'}, inplace=True)"
   ]
  },
  {
   "cell_type": "code",
   "execution_count": 25,
   "id": "315d33e0",
   "metadata": {},
   "outputs": [
    {
     "data": {
      "text/html": [
       "<div>\n",
       "<style scoped>\n",
       "    .dataframe tbody tr th:only-of-type {\n",
       "        vertical-align: middle;\n",
       "    }\n",
       "\n",
       "    .dataframe tbody tr th {\n",
       "        vertical-align: top;\n",
       "    }\n",
       "\n",
       "    .dataframe thead th {\n",
       "        text-align: right;\n",
       "    }\n",
       "</style>\n",
       "<table border=\"1\" class=\"dataframe\">\n",
       "  <thead>\n",
       "    <tr style=\"text-align: right;\">\n",
       "      <th></th>\n",
       "      <th>TransactionID</th>\n",
       "      <th>CustomerID</th>\n",
       "      <th>ProductID</th>\n",
       "      <th>TransactionDate</th>\n",
       "      <th>Quantity</th>\n",
       "      <th>TotalValue</th>\n",
       "      <th>Transactions_Price</th>\n",
       "    </tr>\n",
       "  </thead>\n",
       "  <tbody>\n",
       "    <tr>\n",
       "      <th>0</th>\n",
       "      <td>T00001</td>\n",
       "      <td>C0199</td>\n",
       "      <td>P067</td>\n",
       "      <td>2024-08-25 12:38:23</td>\n",
       "      <td>1</td>\n",
       "      <td>300.68</td>\n",
       "      <td>300.68</td>\n",
       "    </tr>\n",
       "    <tr>\n",
       "      <th>1</th>\n",
       "      <td>T00112</td>\n",
       "      <td>C0146</td>\n",
       "      <td>P067</td>\n",
       "      <td>2024-05-27 22:23:54</td>\n",
       "      <td>1</td>\n",
       "      <td>300.68</td>\n",
       "      <td>300.68</td>\n",
       "    </tr>\n",
       "    <tr>\n",
       "      <th>2</th>\n",
       "      <td>T00166</td>\n",
       "      <td>C0127</td>\n",
       "      <td>P067</td>\n",
       "      <td>2024-04-25 07:38:55</td>\n",
       "      <td>1</td>\n",
       "      <td>300.68</td>\n",
       "      <td>300.68</td>\n",
       "    </tr>\n",
       "    <tr>\n",
       "      <th>3</th>\n",
       "      <td>T00272</td>\n",
       "      <td>C0087</td>\n",
       "      <td>P067</td>\n",
       "      <td>2024-03-26 22:55:37</td>\n",
       "      <td>2</td>\n",
       "      <td>601.36</td>\n",
       "      <td>300.68</td>\n",
       "    </tr>\n",
       "    <tr>\n",
       "      <th>4</th>\n",
       "      <td>T00363</td>\n",
       "      <td>C0070</td>\n",
       "      <td>P067</td>\n",
       "      <td>2024-03-21 15:10:10</td>\n",
       "      <td>3</td>\n",
       "      <td>902.04</td>\n",
       "      <td>300.68</td>\n",
       "    </tr>\n",
       "  </tbody>\n",
       "</table>\n",
       "</div>"
      ],
      "text/plain": [
       "  TransactionID CustomerID ProductID      TransactionDate  Quantity  \\\n",
       "0        T00001      C0199      P067  2024-08-25 12:38:23         1   \n",
       "1        T00112      C0146      P067  2024-05-27 22:23:54         1   \n",
       "2        T00166      C0127      P067  2024-04-25 07:38:55         1   \n",
       "3        T00272      C0087      P067  2024-03-26 22:55:37         2   \n",
       "4        T00363      C0070      P067  2024-03-21 15:10:10         3   \n",
       "\n",
       "   TotalValue  Transactions_Price  \n",
       "0      300.68              300.68  \n",
       "1      300.68              300.68  \n",
       "2      300.68              300.68  \n",
       "3      601.36              300.68  \n",
       "4      902.04              300.68  "
      ]
     },
     "execution_count": 25,
     "metadata": {},
     "output_type": "execute_result"
    }
   ],
   "source": [
    "transactions.head()"
   ]
  },
  {
   "cell_type": "code",
   "execution_count": 26,
   "id": "eace30d9",
   "metadata": {},
   "outputs": [],
   "source": [
    "df = pd.merge(customers, transactions, on='CustomerID')"
   ]
  },
  {
   "cell_type": "code",
   "execution_count": 27,
   "id": "f14aff7f",
   "metadata": {},
   "outputs": [
    {
     "data": {
      "text/html": [
       "<div>\n",
       "<style scoped>\n",
       "    .dataframe tbody tr th:only-of-type {\n",
       "        vertical-align: middle;\n",
       "    }\n",
       "\n",
       "    .dataframe tbody tr th {\n",
       "        vertical-align: top;\n",
       "    }\n",
       "\n",
       "    .dataframe thead th {\n",
       "        text-align: right;\n",
       "    }\n",
       "</style>\n",
       "<table border=\"1\" class=\"dataframe\">\n",
       "  <thead>\n",
       "    <tr style=\"text-align: right;\">\n",
       "      <th></th>\n",
       "      <th>CustomerID</th>\n",
       "      <th>CustomerName</th>\n",
       "      <th>Region</th>\n",
       "      <th>SignupDate</th>\n",
       "      <th>TransactionID</th>\n",
       "      <th>ProductID</th>\n",
       "      <th>TransactionDate</th>\n",
       "      <th>Quantity</th>\n",
       "      <th>TotalValue</th>\n",
       "      <th>Transactions_Price</th>\n",
       "    </tr>\n",
       "  </thead>\n",
       "  <tbody>\n",
       "    <tr>\n",
       "      <th>0</th>\n",
       "      <td>C0001</td>\n",
       "      <td>Lawrence Carroll</td>\n",
       "      <td>South America</td>\n",
       "      <td>2022-07-10</td>\n",
       "      <td>T00015</td>\n",
       "      <td>P054</td>\n",
       "      <td>2024-01-19 03:12:55</td>\n",
       "      <td>2</td>\n",
       "      <td>114.60</td>\n",
       "      <td>57.30</td>\n",
       "    </tr>\n",
       "    <tr>\n",
       "      <th>1</th>\n",
       "      <td>C0001</td>\n",
       "      <td>Lawrence Carroll</td>\n",
       "      <td>South America</td>\n",
       "      <td>2022-07-10</td>\n",
       "      <td>T00932</td>\n",
       "      <td>P022</td>\n",
       "      <td>2024-09-17 09:01:18</td>\n",
       "      <td>3</td>\n",
       "      <td>412.62</td>\n",
       "      <td>137.54</td>\n",
       "    </tr>\n",
       "    <tr>\n",
       "      <th>2</th>\n",
       "      <td>C0001</td>\n",
       "      <td>Lawrence Carroll</td>\n",
       "      <td>South America</td>\n",
       "      <td>2022-07-10</td>\n",
       "      <td>T00085</td>\n",
       "      <td>P096</td>\n",
       "      <td>2024-04-08 00:01:00</td>\n",
       "      <td>2</td>\n",
       "      <td>614.94</td>\n",
       "      <td>307.47</td>\n",
       "    </tr>\n",
       "    <tr>\n",
       "      <th>3</th>\n",
       "      <td>C0001</td>\n",
       "      <td>Lawrence Carroll</td>\n",
       "      <td>South America</td>\n",
       "      <td>2022-07-10</td>\n",
       "      <td>T00445</td>\n",
       "      <td>P083</td>\n",
       "      <td>2024-05-07 03:11:44</td>\n",
       "      <td>2</td>\n",
       "      <td>911.44</td>\n",
       "      <td>455.72</td>\n",
       "    </tr>\n",
       "    <tr>\n",
       "      <th>4</th>\n",
       "      <td>C0001</td>\n",
       "      <td>Lawrence Carroll</td>\n",
       "      <td>South America</td>\n",
       "      <td>2022-07-10</td>\n",
       "      <td>T00436</td>\n",
       "      <td>P029</td>\n",
       "      <td>2024-11-02 17:04:16</td>\n",
       "      <td>3</td>\n",
       "      <td>1300.92</td>\n",
       "      <td>433.64</td>\n",
       "    </tr>\n",
       "  </tbody>\n",
       "</table>\n",
       "</div>"
      ],
      "text/plain": [
       "  CustomerID      CustomerName         Region  SignupDate TransactionID  \\\n",
       "0      C0001  Lawrence Carroll  South America  2022-07-10        T00015   \n",
       "1      C0001  Lawrence Carroll  South America  2022-07-10        T00932   \n",
       "2      C0001  Lawrence Carroll  South America  2022-07-10        T00085   \n",
       "3      C0001  Lawrence Carroll  South America  2022-07-10        T00445   \n",
       "4      C0001  Lawrence Carroll  South America  2022-07-10        T00436   \n",
       "\n",
       "  ProductID      TransactionDate  Quantity  TotalValue  Transactions_Price  \n",
       "0      P054  2024-01-19 03:12:55         2      114.60               57.30  \n",
       "1      P022  2024-09-17 09:01:18         3      412.62              137.54  \n",
       "2      P096  2024-04-08 00:01:00         2      614.94              307.47  \n",
       "3      P083  2024-05-07 03:11:44         2      911.44              455.72  \n",
       "4      P029  2024-11-02 17:04:16         3     1300.92              433.64  "
      ]
     },
     "execution_count": 27,
     "metadata": {},
     "output_type": "execute_result"
    }
   ],
   "source": [
    "df.head()"
   ]
  },
  {
   "cell_type": "code",
   "execution_count": 28,
   "id": "ded18ff0",
   "metadata": {
    "scrolled": true
   },
   "outputs": [
    {
     "data": {
      "text/html": [
       "<div>\n",
       "<style scoped>\n",
       "    .dataframe tbody tr th:only-of-type {\n",
       "        vertical-align: middle;\n",
       "    }\n",
       "\n",
       "    .dataframe tbody tr th {\n",
       "        vertical-align: top;\n",
       "    }\n",
       "\n",
       "    .dataframe thead th {\n",
       "        text-align: right;\n",
       "    }\n",
       "</style>\n",
       "<table border=\"1\" class=\"dataframe\">\n",
       "  <thead>\n",
       "    <tr style=\"text-align: right;\">\n",
       "      <th></th>\n",
       "      <th>CustomerID</th>\n",
       "      <th>CustomerName</th>\n",
       "      <th>Region</th>\n",
       "      <th>SignupDate</th>\n",
       "      <th>TransactionID</th>\n",
       "      <th>ProductID</th>\n",
       "      <th>TransactionDate</th>\n",
       "      <th>Quantity</th>\n",
       "      <th>TotalValue</th>\n",
       "      <th>Transactions_Price</th>\n",
       "      <th>ProductName</th>\n",
       "      <th>Category</th>\n",
       "      <th>Product_Price</th>\n",
       "    </tr>\n",
       "  </thead>\n",
       "  <tbody>\n",
       "    <tr>\n",
       "      <th>0</th>\n",
       "      <td>C0001</td>\n",
       "      <td>Lawrence Carroll</td>\n",
       "      <td>South America</td>\n",
       "      <td>2022-07-10</td>\n",
       "      <td>T00015</td>\n",
       "      <td>P054</td>\n",
       "      <td>2024-01-19 03:12:55</td>\n",
       "      <td>2</td>\n",
       "      <td>114.6</td>\n",
       "      <td>57.3</td>\n",
       "      <td>SoundWave Cookbook</td>\n",
       "      <td>Books</td>\n",
       "      <td>57.3</td>\n",
       "    </tr>\n",
       "    <tr>\n",
       "      <th>1</th>\n",
       "      <td>C0019</td>\n",
       "      <td>Brandon Rodriguez</td>\n",
       "      <td>Europe</td>\n",
       "      <td>2023-01-12</td>\n",
       "      <td>T00423</td>\n",
       "      <td>P054</td>\n",
       "      <td>2024-11-08 10:22:51</td>\n",
       "      <td>3</td>\n",
       "      <td>171.9</td>\n",
       "      <td>57.3</td>\n",
       "      <td>SoundWave Cookbook</td>\n",
       "      <td>Books</td>\n",
       "      <td>57.3</td>\n",
       "    </tr>\n",
       "    <tr>\n",
       "      <th>2</th>\n",
       "      <td>C0038</td>\n",
       "      <td>Jeffrey Perkins</td>\n",
       "      <td>North America</td>\n",
       "      <td>2022-04-16</td>\n",
       "      <td>T00395</td>\n",
       "      <td>P054</td>\n",
       "      <td>2024-03-14 08:10:08</td>\n",
       "      <td>3</td>\n",
       "      <td>171.9</td>\n",
       "      <td>57.3</td>\n",
       "      <td>SoundWave Cookbook</td>\n",
       "      <td>Books</td>\n",
       "      <td>57.3</td>\n",
       "    </tr>\n",
       "    <tr>\n",
       "      <th>3</th>\n",
       "      <td>C0039</td>\n",
       "      <td>Angela Harris</td>\n",
       "      <td>South America</td>\n",
       "      <td>2024-10-13</td>\n",
       "      <td>T00053</td>\n",
       "      <td>P054</td>\n",
       "      <td>2024-09-30 14:42:16</td>\n",
       "      <td>3</td>\n",
       "      <td>171.9</td>\n",
       "      <td>57.3</td>\n",
       "      <td>SoundWave Cookbook</td>\n",
       "      <td>Books</td>\n",
       "      <td>57.3</td>\n",
       "    </tr>\n",
       "    <tr>\n",
       "      <th>4</th>\n",
       "      <td>C0047</td>\n",
       "      <td>Samantha Frank</td>\n",
       "      <td>North America</td>\n",
       "      <td>2024-03-22</td>\n",
       "      <td>T00784</td>\n",
       "      <td>P054</td>\n",
       "      <td>2024-08-23 09:06:06</td>\n",
       "      <td>3</td>\n",
       "      <td>171.9</td>\n",
       "      <td>57.3</td>\n",
       "      <td>SoundWave Cookbook</td>\n",
       "      <td>Books</td>\n",
       "      <td>57.3</td>\n",
       "    </tr>\n",
       "  </tbody>\n",
       "</table>\n",
       "</div>"
      ],
      "text/plain": [
       "  CustomerID       CustomerName         Region  SignupDate TransactionID  \\\n",
       "0      C0001   Lawrence Carroll  South America  2022-07-10        T00015   \n",
       "1      C0019  Brandon Rodriguez         Europe  2023-01-12        T00423   \n",
       "2      C0038    Jeffrey Perkins  North America  2022-04-16        T00395   \n",
       "3      C0039      Angela Harris  South America  2024-10-13        T00053   \n",
       "4      C0047     Samantha Frank  North America  2024-03-22        T00784   \n",
       "\n",
       "  ProductID      TransactionDate  Quantity  TotalValue  Transactions_Price  \\\n",
       "0      P054  2024-01-19 03:12:55         2       114.6                57.3   \n",
       "1      P054  2024-11-08 10:22:51         3       171.9                57.3   \n",
       "2      P054  2024-03-14 08:10:08         3       171.9                57.3   \n",
       "3      P054  2024-09-30 14:42:16         3       171.9                57.3   \n",
       "4      P054  2024-08-23 09:06:06         3       171.9                57.3   \n",
       "\n",
       "          ProductName Category  Product_Price  \n",
       "0  SoundWave Cookbook    Books           57.3  \n",
       "1  SoundWave Cookbook    Books           57.3  \n",
       "2  SoundWave Cookbook    Books           57.3  \n",
       "3  SoundWave Cookbook    Books           57.3  \n",
       "4  SoundWave Cookbook    Books           57.3  "
      ]
     },
     "execution_count": 28,
     "metadata": {},
     "output_type": "execute_result"
    }
   ],
   "source": [
    "dataset =  pd.merge(df, products, on='ProductID')\n",
    "dataset.head()"
   ]
  },
  {
   "cell_type": "code",
   "execution_count": 119,
   "id": "92f634f8",
   "metadata": {},
   "outputs": [
    {
     "data": {
      "text/plain": [
       "0      True\n",
       "1      True\n",
       "2      True\n",
       "3      True\n",
       "4      True\n",
       "       ... \n",
       "995    True\n",
       "996    True\n",
       "997    True\n",
       "998    True\n",
       "999    True\n",
       "Length: 1000, dtype: bool"
      ]
     },
     "execution_count": 119,
     "metadata": {},
     "output_type": "execute_result"
    }
   ],
   "source": [
    "dataset['Transactions_Price'] == dataset['Product_Price']"
   ]
  },
  {
   "cell_type": "code",
   "execution_count": 42,
   "id": "45c8dc84",
   "metadata": {
    "scrolled": true
   },
   "outputs": [
    {
     "data": {
      "text/html": [
       "<div>\n",
       "<style scoped>\n",
       "    .dataframe tbody tr th:only-of-type {\n",
       "        vertical-align: middle;\n",
       "    }\n",
       "\n",
       "    .dataframe tbody tr th {\n",
       "        vertical-align: top;\n",
       "    }\n",
       "\n",
       "    .dataframe thead th {\n",
       "        text-align: right;\n",
       "    }\n",
       "</style>\n",
       "<table border=\"1\" class=\"dataframe\">\n",
       "  <thead>\n",
       "    <tr style=\"text-align: right;\">\n",
       "      <th></th>\n",
       "      <th>Quantity</th>\n",
       "      <th>TotalValue</th>\n",
       "      <th>Transactions_Price</th>\n",
       "      <th>Product_Price</th>\n",
       "    </tr>\n",
       "  </thead>\n",
       "  <tbody>\n",
       "    <tr>\n",
       "      <th>count</th>\n",
       "      <td>1000.000000</td>\n",
       "      <td>1000.000000</td>\n",
       "      <td>1000.00000</td>\n",
       "      <td>1000.00000</td>\n",
       "    </tr>\n",
       "    <tr>\n",
       "      <th>mean</th>\n",
       "      <td>2.537000</td>\n",
       "      <td>689.995560</td>\n",
       "      <td>272.55407</td>\n",
       "      <td>272.55407</td>\n",
       "    </tr>\n",
       "    <tr>\n",
       "      <th>std</th>\n",
       "      <td>1.117981</td>\n",
       "      <td>493.144478</td>\n",
       "      <td>140.73639</td>\n",
       "      <td>140.73639</td>\n",
       "    </tr>\n",
       "    <tr>\n",
       "      <th>min</th>\n",
       "      <td>1.000000</td>\n",
       "      <td>16.080000</td>\n",
       "      <td>16.08000</td>\n",
       "      <td>16.08000</td>\n",
       "    </tr>\n",
       "    <tr>\n",
       "      <th>25%</th>\n",
       "      <td>2.000000</td>\n",
       "      <td>295.295000</td>\n",
       "      <td>147.95000</td>\n",
       "      <td>147.95000</td>\n",
       "    </tr>\n",
       "    <tr>\n",
       "      <th>50%</th>\n",
       "      <td>3.000000</td>\n",
       "      <td>588.880000</td>\n",
       "      <td>299.93000</td>\n",
       "      <td>299.93000</td>\n",
       "    </tr>\n",
       "    <tr>\n",
       "      <th>75%</th>\n",
       "      <td>4.000000</td>\n",
       "      <td>1011.660000</td>\n",
       "      <td>404.40000</td>\n",
       "      <td>404.40000</td>\n",
       "    </tr>\n",
       "    <tr>\n",
       "      <th>max</th>\n",
       "      <td>4.000000</td>\n",
       "      <td>1991.040000</td>\n",
       "      <td>497.76000</td>\n",
       "      <td>497.76000</td>\n",
       "    </tr>\n",
       "  </tbody>\n",
       "</table>\n",
       "</div>"
      ],
      "text/plain": [
       "          Quantity   TotalValue  Transactions_Price  Product_Price\n",
       "count  1000.000000  1000.000000          1000.00000     1000.00000\n",
       "mean      2.537000   689.995560           272.55407      272.55407\n",
       "std       1.117981   493.144478           140.73639      140.73639\n",
       "min       1.000000    16.080000            16.08000       16.08000\n",
       "25%       2.000000   295.295000           147.95000      147.95000\n",
       "50%       3.000000   588.880000           299.93000      299.93000\n",
       "75%       4.000000  1011.660000           404.40000      404.40000\n",
       "max       4.000000  1991.040000           497.76000      497.76000"
      ]
     },
     "execution_count": 42,
     "metadata": {},
     "output_type": "execute_result"
    }
   ],
   "source": [
    "dataset.describe()"
   ]
  },
  {
   "cell_type": "code",
   "execution_count": 34,
   "id": "fa033c3b",
   "metadata": {},
   "outputs": [
    {
     "data": {
      "text/plain": [
       "199"
      ]
     },
     "execution_count": 34,
     "metadata": {},
     "output_type": "execute_result"
    }
   ],
   "source": [
    "dataset['CustomerName'].nunique()"
   ]
  },
  {
   "cell_type": "code",
   "execution_count": 36,
   "id": "e874cf12",
   "metadata": {
    "scrolled": false
   },
   "outputs": [
    {
     "data": {
      "text/plain": [
       "South America    304\n",
       "North America    244\n",
       "Europe           234\n",
       "Asia             218\n",
       "Name: Region, dtype: int64"
      ]
     },
     "execution_count": 36,
     "metadata": {},
     "output_type": "execute_result"
    }
   ],
   "source": [
    "dataset['Region'].value_counts()"
   ]
  },
  {
   "cell_type": "code",
   "execution_count": 38,
   "id": "b75314ad",
   "metadata": {},
   "outputs": [
    {
     "data": {
      "text/plain": [
       "ActiveWear Smartwatch          40\n",
       "SoundWave Headphones           38\n",
       "BookWorld Biography            30\n",
       "SoundWave Cookbook             29\n",
       "ActiveWear Rug                 29\n",
       "                               ..\n",
       "SoundWave Bluetooth Speaker     7\n",
       "BookWorld Wall Art              7\n",
       "SoundWave Laptop                7\n",
       "BookWorld Cookware Set          7\n",
       "SoundWave Jacket                5\n",
       "Name: ProductName, Length: 66, dtype: int64"
      ]
     },
     "execution_count": 38,
     "metadata": {},
     "output_type": "execute_result"
    }
   ],
   "source": [
    "dataset['ProductName'].value_counts()"
   ]
  },
  {
   "cell_type": "code",
   "execution_count": 40,
   "id": "75a17974",
   "metadata": {},
   "outputs": [
    {
     "data": {
      "text/plain": [
       "Books          270\n",
       "Electronics    254\n",
       "Home Decor     248\n",
       "Clothing       228\n",
       "Name: Category, dtype: int64"
      ]
     },
     "execution_count": 40,
     "metadata": {},
     "output_type": "execute_result"
    }
   ],
   "source": [
    "dataset['Category'].value_counts()"
   ]
  },
  {
   "cell_type": "markdown",
   "id": "bdbf4751",
   "metadata": {},
   "source": [
    "#### Top Selling Products"
   ]
  },
  {
   "cell_type": "code",
   "execution_count": 60,
   "id": "68559c09",
   "metadata": {},
   "outputs": [],
   "source": [
    "total_sales = dataset.groupby(['ProductID','ProductName']).TotalValue.sum().reset_index()"
   ]
  },
  {
   "cell_type": "code",
   "execution_count": 62,
   "id": "8b624992",
   "metadata": {
    "scrolled": true
   },
   "outputs": [],
   "source": [
    "top_10_products = total_sales.sort_values(by='TotalValue', ascending=False).head(10)"
   ]
  },
  {
   "cell_type": "code",
   "execution_count": 63,
   "id": "3197bba2",
   "metadata": {},
   "outputs": [
    {
     "data": {
      "text/html": [
       "<div>\n",
       "<style scoped>\n",
       "    .dataframe tbody tr th:only-of-type {\n",
       "        vertical-align: middle;\n",
       "    }\n",
       "\n",
       "    .dataframe tbody tr th {\n",
       "        vertical-align: top;\n",
       "    }\n",
       "\n",
       "    .dataframe thead th {\n",
       "        text-align: right;\n",
       "    }\n",
       "</style>\n",
       "<table border=\"1\" class=\"dataframe\">\n",
       "  <thead>\n",
       "    <tr style=\"text-align: right;\">\n",
       "      <th></th>\n",
       "      <th>ProductID</th>\n",
       "      <th>ProductName</th>\n",
       "      <th>TotalValue</th>\n",
       "    </tr>\n",
       "  </thead>\n",
       "  <tbody>\n",
       "    <tr>\n",
       "      <th>28</th>\n",
       "      <td>P029</td>\n",
       "      <td>TechPro Headphones</td>\n",
       "      <td>19513.80</td>\n",
       "    </tr>\n",
       "    <tr>\n",
       "      <th>78</th>\n",
       "      <td>P079</td>\n",
       "      <td>ActiveWear Rug</td>\n",
       "      <td>17946.91</td>\n",
       "    </tr>\n",
       "    <tr>\n",
       "      <th>47</th>\n",
       "      <td>P048</td>\n",
       "      <td>TechPro Cookbook</td>\n",
       "      <td>17905.20</td>\n",
       "    </tr>\n",
       "    <tr>\n",
       "      <th>19</th>\n",
       "      <td>P020</td>\n",
       "      <td>ActiveWear Jacket</td>\n",
       "      <td>15060.92</td>\n",
       "    </tr>\n",
       "    <tr>\n",
       "      <th>61</th>\n",
       "      <td>P062</td>\n",
       "      <td>HomeSense Novel</td>\n",
       "      <td>14592.24</td>\n",
       "    </tr>\n",
       "    <tr>\n",
       "      <th>58</th>\n",
       "      <td>P059</td>\n",
       "      <td>SoundWave Jeans</td>\n",
       "      <td>13947.20</td>\n",
       "    </tr>\n",
       "    <tr>\n",
       "      <th>38</th>\n",
       "      <td>P039</td>\n",
       "      <td>TechPro Smartwatch</td>\n",
       "      <td>13778.88</td>\n",
       "    </tr>\n",
       "    <tr>\n",
       "      <th>82</th>\n",
       "      <td>P083</td>\n",
       "      <td>ActiveWear Smartwatch</td>\n",
       "      <td>13671.60</td>\n",
       "    </tr>\n",
       "    <tr>\n",
       "      <th>18</th>\n",
       "      <td>P019</td>\n",
       "      <td>ComfortLiving Sweater</td>\n",
       "      <td>13487.95</td>\n",
       "    </tr>\n",
       "    <tr>\n",
       "      <th>40</th>\n",
       "      <td>P041</td>\n",
       "      <td>ComfortLiving Smartphone</td>\n",
       "      <td>13232.12</td>\n",
       "    </tr>\n",
       "  </tbody>\n",
       "</table>\n",
       "</div>"
      ],
      "text/plain": [
       "   ProductID               ProductName  TotalValue\n",
       "28      P029        TechPro Headphones    19513.80\n",
       "78      P079            ActiveWear Rug    17946.91\n",
       "47      P048          TechPro Cookbook    17905.20\n",
       "19      P020         ActiveWear Jacket    15060.92\n",
       "61      P062           HomeSense Novel    14592.24\n",
       "58      P059           SoundWave Jeans    13947.20\n",
       "38      P039        TechPro Smartwatch    13778.88\n",
       "82      P083     ActiveWear Smartwatch    13671.60\n",
       "18      P019     ComfortLiving Sweater    13487.95\n",
       "40      P041  ComfortLiving Smartphone    13232.12"
      ]
     },
     "execution_count": 63,
     "metadata": {},
     "output_type": "execute_result"
    }
   ],
   "source": [
    "top_10_products"
   ]
  },
  {
   "cell_type": "code",
   "execution_count": 70,
   "id": "8b77d1dd",
   "metadata": {},
   "outputs": [
    {
     "data": {
      "text/plain": [
       "<AxesSubplot:xlabel='ProductName', ylabel='TotalValue'>"
      ]
     },
     "execution_count": 70,
     "metadata": {},
     "output_type": "execute_result"
    },
    {
     "data": {
      "image/png": "[encoded data removed]",
      "text/plain": [
       "<Figure size 1800x432 with 1 Axes>"
      ]
     },
     "metadata": {
      "needs_background": "light"
     },
     "output_type": "display_data"
    }
   ],
   "source": [
    "plt.figure(figsize=(25, 6))\n",
    "sns.barplot(x='ProductName', y='TotalValue', data=top_10_products, palette='viridis')"
   ]
  },
  {
   "cell_type": "markdown",
   "id": "e8723988",
   "metadata": {},
   "source": [
    "#### Toral revenue by category"
   ]
  },
  {
   "cell_type": "code",
   "execution_count": 71,
   "id": "cf665ec7",
   "metadata": {},
   "outputs": [],
   "source": [
    "category_revenue = dataset.groupby('Category')['TotalValue'].sum().reset_index()"
   ]
  },
  {
   "cell_type": "code",
   "execution_count": 72,
   "id": "9fedf59e",
   "metadata": {},
   "outputs": [],
   "source": [
    "cat_rev = category_revenue.sort_values(by='TotalValue', ascending=False).head(10)"
   ]
  },
  {
   "cell_type": "code",
   "execution_count": 73,
   "id": "d5926032",
   "metadata": {
    "scrolled": true
   },
   "outputs": [
    {
     "data": {
      "text/html": [
       "<div>\n",
       "<style scoped>\n",
       "    .dataframe tbody tr th:only-of-type {\n",
       "        vertical-align: middle;\n",
       "    }\n",
       "\n",
       "    .dataframe tbody tr th {\n",
       "        vertical-align: top;\n",
       "    }\n",
       "\n",
       "    .dataframe thead th {\n",
       "        text-align: right;\n",
       "    }\n",
       "</style>\n",
       "<table border=\"1\" class=\"dataframe\">\n",
       "  <thead>\n",
       "    <tr style=\"text-align: right;\">\n",
       "      <th></th>\n",
       "      <th>Category</th>\n",
       "      <th>TotalValue</th>\n",
       "    </tr>\n",
       "  </thead>\n",
       "  <tbody>\n",
       "    <tr>\n",
       "      <th>0</th>\n",
       "      <td>Books</td>\n",
       "      <td>192147.47</td>\n",
       "    </tr>\n",
       "    <tr>\n",
       "      <th>2</th>\n",
       "      <td>Electronics</td>\n",
       "      <td>180783.50</td>\n",
       "    </tr>\n",
       "    <tr>\n",
       "      <th>1</th>\n",
       "      <td>Clothing</td>\n",
       "      <td>166170.66</td>\n",
       "    </tr>\n",
       "    <tr>\n",
       "      <th>3</th>\n",
       "      <td>Home Decor</td>\n",
       "      <td>150893.93</td>\n",
       "    </tr>\n",
       "  </tbody>\n",
       "</table>\n",
       "</div>"
      ],
      "text/plain": [
       "      Category  TotalValue\n",
       "0        Books   192147.47\n",
       "2  Electronics   180783.50\n",
       "1     Clothing   166170.66\n",
       "3   Home Decor   150893.93"
      ]
     },
     "execution_count": 73,
     "metadata": {},
     "output_type": "execute_result"
    }
   ],
   "source": [
    "cat_rev"
   ]
  },
  {
   "cell_type": "code",
   "execution_count": 80,
   "id": "58107fec",
   "metadata": {},
   "outputs": [
    {
     "data": {
      "image/png": "[encoded data removed]",
      "text/plain": [
       "<Figure size 360x360 with 1 Axes>"
      ]
     },
     "metadata": {},
     "output_type": "display_data"
    }
   ],
   "source": [
    "plt.figure(figsize=(5, 5))\n",
    "plt.pie(cat_rev['TotalValue'], labels=cat_rev['Category'], autopct='%1.1f%%' )\n",
    "plt.title('Total Revenue by Category', fontsize=16)\n",
    "plt.show()"
   ]
  },
  {
   "cell_type": "markdown",
   "id": "f85351c9",
   "metadata": {},
   "source": [
    "#### Average Transaction Value (ATV) and transaction count for each customer"
   ]
  },
  {
   "cell_type": "code",
   "execution_count": 89,
   "id": "2387f0b4",
   "metadata": {},
   "outputs": [],
   "source": [
    "customer_summary = dataset.groupby(['CustomerID','CustomerName']).agg(\n",
    "    TotalValue=('TotalValue', 'sum'),\n",
    "    TransactionCount=('TransactionID', 'count')).reset_index()"
   ]
  },
  {
   "cell_type": "code",
   "execution_count": 90,
   "id": "79ef8c54",
   "metadata": {},
   "outputs": [],
   "source": [
    "customer_summary['AvgTransactionValue'] = customer_summary['TotalValue'] / customer_summary['TransactionCount']"
   ]
  },
  {
   "cell_type": "code",
   "execution_count": 92,
   "id": "77880d44",
   "metadata": {},
   "outputs": [
    {
     "data": {
      "text/html": [
       "<div>\n",
       "<style scoped>\n",
       "    .dataframe tbody tr th:only-of-type {\n",
       "        vertical-align: middle;\n",
       "    }\n",
       "\n",
       "    .dataframe tbody tr th {\n",
       "        vertical-align: top;\n",
       "    }\n",
       "\n",
       "    .dataframe thead th {\n",
       "        text-align: right;\n",
       "    }\n",
       "</style>\n",
       "<table border=\"1\" class=\"dataframe\">\n",
       "  <thead>\n",
       "    <tr style=\"text-align: right;\">\n",
       "      <th></th>\n",
       "      <th>CustomerID</th>\n",
       "      <th>CustomerName</th>\n",
       "      <th>TotalValue</th>\n",
       "      <th>TransactionCount</th>\n",
       "      <th>AvgTransactionValue</th>\n",
       "    </tr>\n",
       "  </thead>\n",
       "  <tbody>\n",
       "    <tr>\n",
       "      <th>0</th>\n",
       "      <td>C0001</td>\n",
       "      <td>Lawrence Carroll</td>\n",
       "      <td>3354.52</td>\n",
       "      <td>5</td>\n",
       "      <td>670.904000</td>\n",
       "    </tr>\n",
       "    <tr>\n",
       "      <th>1</th>\n",
       "      <td>C0002</td>\n",
       "      <td>Elizabeth Lutz</td>\n",
       "      <td>1862.74</td>\n",
       "      <td>4</td>\n",
       "      <td>465.685000</td>\n",
       "    </tr>\n",
       "    <tr>\n",
       "      <th>2</th>\n",
       "      <td>C0003</td>\n",
       "      <td>Michael Rivera</td>\n",
       "      <td>2725.38</td>\n",
       "      <td>4</td>\n",
       "      <td>681.345000</td>\n",
       "    </tr>\n",
       "    <tr>\n",
       "      <th>3</th>\n",
       "      <td>C0004</td>\n",
       "      <td>Kathleen Rodriguez</td>\n",
       "      <td>5354.88</td>\n",
       "      <td>8</td>\n",
       "      <td>669.360000</td>\n",
       "    </tr>\n",
       "    <tr>\n",
       "      <th>4</th>\n",
       "      <td>C0005</td>\n",
       "      <td>Laura Weber</td>\n",
       "      <td>2034.24</td>\n",
       "      <td>3</td>\n",
       "      <td>678.080000</td>\n",
       "    </tr>\n",
       "    <tr>\n",
       "      <th>...</th>\n",
       "      <td>...</td>\n",
       "      <td>...</td>\n",
       "      <td>...</td>\n",
       "      <td>...</td>\n",
       "      <td>...</td>\n",
       "    </tr>\n",
       "    <tr>\n",
       "      <th>194</th>\n",
       "      <td>C0196</td>\n",
       "      <td>Laura Watts</td>\n",
       "      <td>4982.88</td>\n",
       "      <td>4</td>\n",
       "      <td>1245.720000</td>\n",
       "    </tr>\n",
       "    <tr>\n",
       "      <th>195</th>\n",
       "      <td>C0197</td>\n",
       "      <td>Christina Harvey</td>\n",
       "      <td>1928.65</td>\n",
       "      <td>3</td>\n",
       "      <td>642.883333</td>\n",
       "    </tr>\n",
       "    <tr>\n",
       "      <th>196</th>\n",
       "      <td>C0198</td>\n",
       "      <td>Rebecca Ray</td>\n",
       "      <td>931.83</td>\n",
       "      <td>2</td>\n",
       "      <td>465.915000</td>\n",
       "    </tr>\n",
       "    <tr>\n",
       "      <th>197</th>\n",
       "      <td>C0199</td>\n",
       "      <td>Andrea Jenkins</td>\n",
       "      <td>1979.28</td>\n",
       "      <td>4</td>\n",
       "      <td>494.820000</td>\n",
       "    </tr>\n",
       "    <tr>\n",
       "      <th>198</th>\n",
       "      <td>C0200</td>\n",
       "      <td>Kelly Cross</td>\n",
       "      <td>4758.60</td>\n",
       "      <td>5</td>\n",
       "      <td>951.720000</td>\n",
       "    </tr>\n",
       "  </tbody>\n",
       "</table>\n",
       "<p>199 rows × 5 columns</p>\n",
       "</div>"
      ],
      "text/plain": [
       "    CustomerID        CustomerName  TotalValue  TransactionCount  \\\n",
       "0        C0001    Lawrence Carroll     3354.52                 5   \n",
       "1        C0002      Elizabeth Lutz     1862.74                 4   \n",
       "2        C0003      Michael Rivera     2725.38                 4   \n",
       "3        C0004  Kathleen Rodriguez     5354.88                 8   \n",
       "4        C0005         Laura Weber     2034.24                 3   \n",
       "..         ...                 ...         ...               ...   \n",
       "194      C0196         Laura Watts     4982.88                 4   \n",
       "195      C0197    Christina Harvey     1928.65                 3   \n",
       "196      C0198         Rebecca Ray      931.83                 2   \n",
       "197      C0199      Andrea Jenkins     1979.28                 4   \n",
       "198      C0200         Kelly Cross     4758.60                 5   \n",
       "\n",
       "     AvgTransactionValue  \n",
       "0             670.904000  \n",
       "1             465.685000  \n",
       "2             681.345000  \n",
       "3             669.360000  \n",
       "4             678.080000  \n",
       "..                   ...  \n",
       "194          1245.720000  \n",
       "195           642.883333  \n",
       "196           465.915000  \n",
       "197           494.820000  \n",
       "198           951.720000  \n",
       "\n",
       "[199 rows x 5 columns]"
      ]
     },
     "execution_count": 92,
     "metadata": {},
     "output_type": "execute_result"
    }
   ],
   "source": [
    "customer_summary"
   ]
  },
  {
   "cell_type": "code",
   "execution_count": 98,
   "id": "058f31b4",
   "metadata": {},
   "outputs": [],
   "source": [
    "trans_count = customer_summary.sort_values(by='TransactionCount', ascending=False).head(10)"
   ]
  },
  {
   "cell_type": "code",
   "execution_count": 106,
   "id": "c2334363",
   "metadata": {},
   "outputs": [
    {
     "data": {
      "text/html": [
       "<div>\n",
       "<style scoped>\n",
       "    .dataframe tbody tr th:only-of-type {\n",
       "        vertical-align: middle;\n",
       "    }\n",
       "\n",
       "    .dataframe tbody tr th {\n",
       "        vertical-align: top;\n",
       "    }\n",
       "\n",
       "    .dataframe thead th {\n",
       "        text-align: right;\n",
       "    }\n",
       "</style>\n",
       "<table border=\"1\" class=\"dataframe\">\n",
       "  <thead>\n",
       "    <tr style=\"text-align: right;\">\n",
       "      <th></th>\n",
       "      <th>CustomerID</th>\n",
       "      <th>CustomerName</th>\n",
       "      <th>TotalValue</th>\n",
       "      <th>TransactionCount</th>\n",
       "      <th>AvgTransactionValue</th>\n",
       "    </tr>\n",
       "  </thead>\n",
       "  <tbody>\n",
       "    <tr>\n",
       "      <th>155</th>\n",
       "      <td>C0156</td>\n",
       "      <td>William Adams</td>\n",
       "      <td>7634.45</td>\n",
       "      <td>11</td>\n",
       "      <td>694.040909</td>\n",
       "    </tr>\n",
       "    <tr>\n",
       "      <th>108</th>\n",
       "      <td>C0109</td>\n",
       "      <td>Abigail Jones</td>\n",
       "      <td>5487.25</td>\n",
       "      <td>11</td>\n",
       "      <td>498.840909</td>\n",
       "    </tr>\n",
       "    <tr>\n",
       "      <th>174</th>\n",
       "      <td>C0175</td>\n",
       "      <td>Matthew Johnson</td>\n",
       "      <td>6210.53</td>\n",
       "      <td>10</td>\n",
       "      <td>621.053000</td>\n",
       "    </tr>\n",
       "    <tr>\n",
       "      <th>140</th>\n",
       "      <td>C0141</td>\n",
       "      <td>Paul Parsons</td>\n",
       "      <td>10673.87</td>\n",
       "      <td>10</td>\n",
       "      <td>1067.387000</td>\n",
       "    </tr>\n",
       "    <tr>\n",
       "      <th>64</th>\n",
       "      <td>C0065</td>\n",
       "      <td>Gerald Hines</td>\n",
       "      <td>7663.70</td>\n",
       "      <td>10</td>\n",
       "      <td>766.370000</td>\n",
       "    </tr>\n",
       "    <tr>\n",
       "      <th>7</th>\n",
       "      <td>C0008</td>\n",
       "      <td>David Li</td>\n",
       "      <td>4271.61</td>\n",
       "      <td>10</td>\n",
       "      <td>427.161000</td>\n",
       "    </tr>\n",
       "    <tr>\n",
       "      <th>83</th>\n",
       "      <td>C0084</td>\n",
       "      <td>Belinda Garner</td>\n",
       "      <td>4441.10</td>\n",
       "      <td>9</td>\n",
       "      <td>493.455556</td>\n",
       "    </tr>\n",
       "    <tr>\n",
       "      <th>74</th>\n",
       "      <td>C0075</td>\n",
       "      <td>Misty Higgins</td>\n",
       "      <td>5848.97</td>\n",
       "      <td>9</td>\n",
       "      <td>649.885556</td>\n",
       "    </tr>\n",
       "    <tr>\n",
       "      <th>164</th>\n",
       "      <td>C0165</td>\n",
       "      <td>Juan Mcdaniel</td>\n",
       "      <td>6708.10</td>\n",
       "      <td>9</td>\n",
       "      <td>745.344444</td>\n",
       "    </tr>\n",
       "    <tr>\n",
       "      <th>146</th>\n",
       "      <td>C0147</td>\n",
       "      <td>Hunter Fuller</td>\n",
       "      <td>2948.44</td>\n",
       "      <td>9</td>\n",
       "      <td>327.604444</td>\n",
       "    </tr>\n",
       "  </tbody>\n",
       "</table>\n",
       "</div>"
      ],
      "text/plain": [
       "    CustomerID     CustomerName  TotalValue  TransactionCount  \\\n",
       "155      C0156    William Adams     7634.45                11   \n",
       "108      C0109    Abigail Jones     5487.25                11   \n",
       "174      C0175  Matthew Johnson     6210.53                10   \n",
       "140      C0141     Paul Parsons    10673.87                10   \n",
       "64       C0065     Gerald Hines     7663.70                10   \n",
       "7        C0008         David Li     4271.61                10   \n",
       "83       C0084   Belinda Garner     4441.10                 9   \n",
       "74       C0075    Misty Higgins     5848.97                 9   \n",
       "164      C0165    Juan Mcdaniel     6708.10                 9   \n",
       "146      C0147    Hunter Fuller     2948.44                 9   \n",
       "\n",
       "     AvgTransactionValue  \n",
       "155           694.040909  \n",
       "108           498.840909  \n",
       "174           621.053000  \n",
       "140          1067.387000  \n",
       "64            766.370000  \n",
       "7             427.161000  \n",
       "83            493.455556  \n",
       "74            649.885556  \n",
       "164           745.344444  \n",
       "146           327.604444  "
      ]
     },
     "execution_count": 106,
     "metadata": {},
     "output_type": "execute_result"
    }
   ],
   "source": [
    "trans_count"
   ]
  },
  {
   "cell_type": "code",
   "execution_count": 105,
   "id": "5227c4ff",
   "metadata": {},
   "outputs": [
    {
     "data": {
      "image/png": "[encoded data removed]",
      "text/plain": [
       "<Figure size 1296x432 with 1 Axes>"
      ]
     },
     "metadata": {
      "needs_background": "light"
     },
     "output_type": "display_data"
    }
   ],
   "source": [
    "plt.figure(figsize=(18, 6))\n",
    "sns.barplot(x='CustomerName', y='TransactionCount', data=trans_count, palette='viridis')\n",
    "plt.title('Top 10 Customers by their transaction count', fontsize=16)\n",
    "plt.xlabel('Customer_Name', fontsize=14)\n",
    "plt.ylabel('Transaction_count', fontsize=14)\n",
    "plt.xticks(fontsize=12)\n",
    "plt.yticks(fontsize=12)\n",
    "plt.show()"
   ]
  },
  {
   "cell_type": "markdown",
   "id": "47828276",
   "metadata": {},
   "source": [
    "#### Least Selling Categories by Region"
   ]
  },
  {
   "cell_type": "code",
   "execution_count": 108,
   "id": "ee4b2fc5",
   "metadata": {},
   "outputs": [],
   "source": [
    "region_category_sales = dataset.groupby(['Region', 'Category'])['TotalValue'].sum().reset_index()"
   ]
  },
  {
   "cell_type": "code",
   "execution_count": 109,
   "id": "cfc20197",
   "metadata": {},
   "outputs": [],
   "source": [
    "least_selling_categories = region_category_sales.loc[\n",
    "    region_category_sales.groupby('Region')['TotalValue'].idxmin()]"
   ]
  },
  {
   "cell_type": "code",
   "execution_count": 110,
   "id": "bb7a3ced",
   "metadata": {},
   "outputs": [
    {
     "data": {
      "text/html": [
       "<div>\n",
       "<style scoped>\n",
       "    .dataframe tbody tr th:only-of-type {\n",
       "        vertical-align: middle;\n",
       "    }\n",
       "\n",
       "    .dataframe tbody tr th {\n",
       "        vertical-align: top;\n",
       "    }\n",
       "\n",
       "    .dataframe thead th {\n",
       "        text-align: right;\n",
       "    }\n",
       "</style>\n",
       "<table border=\"1\" class=\"dataframe\">\n",
       "  <thead>\n",
       "    <tr style=\"text-align: right;\">\n",
       "      <th></th>\n",
       "      <th>Region</th>\n",
       "      <th>Category</th>\n",
       "      <th>TotalValue</th>\n",
       "    </tr>\n",
       "  </thead>\n",
       "  <tbody>\n",
       "    <tr>\n",
       "      <th>0</th>\n",
       "      <td>Asia</td>\n",
       "      <td>Books</td>\n",
       "      <td>33119.03</td>\n",
       "    </tr>\n",
       "    <tr>\n",
       "      <th>5</th>\n",
       "      <td>Europe</td>\n",
       "      <td>Clothing</td>\n",
       "      <td>36335.59</td>\n",
       "    </tr>\n",
       "    <tr>\n",
       "      <th>11</th>\n",
       "      <td>North America</td>\n",
       "      <td>Home Decor</td>\n",
       "      <td>27746.49</td>\n",
       "    </tr>\n",
       "    <tr>\n",
       "      <th>13</th>\n",
       "      <td>South America</td>\n",
       "      <td>Clothing</td>\n",
       "      <td>42443.49</td>\n",
       "    </tr>\n",
       "  </tbody>\n",
       "</table>\n",
       "</div>"
      ],
      "text/plain": [
       "           Region    Category  TotalValue\n",
       "0            Asia       Books    33119.03\n",
       "5          Europe    Clothing    36335.59\n",
       "11  North America  Home Decor    27746.49\n",
       "13  South America    Clothing    42443.49"
      ]
     },
     "execution_count": 110,
     "metadata": {},
     "output_type": "execute_result"
    }
   ],
   "source": [
    "least_selling_categories"
   ]
  },
  {
   "cell_type": "code",
   "execution_count": 116,
   "id": "1a8bba27",
   "metadata": {},
   "outputs": [
    {
     "data": {
      "image/png": "[encoded data removed]",
      "text/plain": [
       "<Figure size 576x432 with 1 Axes>"
      ]
     },
     "metadata": {
      "needs_background": "light"
     },
     "output_type": "display_data"
    }
   ],
   "source": [
    "plt.figure(figsize=(8, 6))\n",
    "sns.barplot(data=least_selling_categories, x='Region', y='TotalValue', hue='Category', palette='pastel')\n",
    "plt.title('Least-Selling Categories by Region', fontsize=16)\n",
    "plt.xlabel('Region', fontsize=14)\n",
    "plt.ylabel('Total Value', fontsize=14)\n",
    "plt.legend(title='Category', fontsize=12)\n",
    "plt.tight_layout()\n",
    "plt.show()"
   ]
  },
  {
   "cell_type": "markdown",
   "id": "2f94c656",
   "metadata": {},
   "source": [
    "#### Customer Lifetime Value (CLTV)"
   ]
  },
  {
   "cell_type": "code",
   "execution_count": 118,
   "id": "27f27073",
   "metadata": {},
   "outputs": [
    {
     "name": "stdout",
     "output_type": "stream",
     "text": [
      "Average Purchase Value (APV): $690.00\n",
      "Purchase Frequency (PF): 5.03 purchases per customer\n",
      "Customer Lifespan (CL): 5 years\n",
      "Customer Lifetime Value (CLTV): $17336.57\n"
     ]
    }
   ],
   "source": [
    "total_sales = df['TotalValue'].sum()\n",
    "total_orders = df['TransactionID'].nunique()\n",
    "average_purchase_value = total_sales / total_orders\n",
    "\n",
    "# Calculate the purchase frequency (PF)\n",
    "customer_frequency = dataset.groupby('CustomerName')['TransactionID'].nunique()\n",
    "purchase_frequency = customer_frequency.mean()\n",
    "\n",
    "# Assume a customer lifespan (CL) in years (this can be adjusted based on your data)\n",
    "customer_lifespan = 5  # Assuming customers stay for 5 years on average\n",
    "\n",
    "# Calculate Customer Lifetime Value (CLTV)\n",
    "cltv = average_purchase_value * purchase_frequency * customer_lifespan\n",
    "\n",
    "print(f\"Average Purchase Value (APV): ${average_purchase_value:.2f}\")\n",
    "print(f\"Purchase Frequency (PF): {purchase_frequency:.2f} purchases per customer\")\n",
    "print(f\"Customer Lifespan (CL): {customer_lifespan} years\")\n",
    "print(f\"Customer Lifetime Value (CLTV): ${cltv:.2f}\")"
   ]
  },
  {
   "cell_type": "markdown",
   "id": "cc666420",
   "metadata": {},
   "source": [
    "#### Top 5 Customers by Orders"
   ]
  },
  {
   "cell_type": "code",
   "execution_count": 125,
   "id": "a4ef7edc",
   "metadata": {},
   "outputs": [
    {
     "data": {
      "text/html": [
       "<div>\n",
       "<style scoped>\n",
       "    .dataframe tbody tr th:only-of-type {\n",
       "        vertical-align: middle;\n",
       "    }\n",
       "\n",
       "    .dataframe tbody tr th {\n",
       "        vertical-align: top;\n",
       "    }\n",
       "\n",
       "    .dataframe thead th {\n",
       "        text-align: right;\n",
       "    }\n",
       "</style>\n",
       "<table border=\"1\" class=\"dataframe\">\n",
       "  <thead>\n",
       "    <tr style=\"text-align: right;\">\n",
       "      <th></th>\n",
       "      <th>Region</th>\n",
       "      <th>CustomerID</th>\n",
       "      <th>CustomerName</th>\n",
       "      <th>OrderCount</th>\n",
       "    </tr>\n",
       "  </thead>\n",
       "  <tbody>\n",
       "    <tr>\n",
       "      <th>38</th>\n",
       "      <td>Asia</td>\n",
       "      <td>C0175</td>\n",
       "      <td>Matthew Johnson</td>\n",
       "      <td>10</td>\n",
       "    </tr>\n",
       "    <tr>\n",
       "      <th>14</th>\n",
       "      <td>Asia</td>\n",
       "      <td>C0084</td>\n",
       "      <td>Belinda Garner</td>\n",
       "      <td>9</td>\n",
       "    </tr>\n",
       "    <tr>\n",
       "      <th>18</th>\n",
       "      <td>Asia</td>\n",
       "      <td>C0093</td>\n",
       "      <td>Nancy Walker</td>\n",
       "      <td>9</td>\n",
       "    </tr>\n",
       "    <tr>\n",
       "      <th>3</th>\n",
       "      <td>Asia</td>\n",
       "      <td>C0021</td>\n",
       "      <td>Robert Blanchard</td>\n",
       "      <td>8</td>\n",
       "    </tr>\n",
       "    <tr>\n",
       "      <th>6</th>\n",
       "      <td>Asia</td>\n",
       "      <td>C0028</td>\n",
       "      <td>Jennifer Pena</td>\n",
       "      <td>8</td>\n",
       "    </tr>\n",
       "    <tr>\n",
       "      <th>81</th>\n",
       "      <td>Europe</td>\n",
       "      <td>C0141</td>\n",
       "      <td>Paul Parsons</td>\n",
       "      <td>10</td>\n",
       "    </tr>\n",
       "    <tr>\n",
       "      <th>66</th>\n",
       "      <td>Europe</td>\n",
       "      <td>C0075</td>\n",
       "      <td>Misty Higgins</td>\n",
       "      <td>9</td>\n",
       "    </tr>\n",
       "    <tr>\n",
       "      <th>47</th>\n",
       "      <td>Europe</td>\n",
       "      <td>C0017</td>\n",
       "      <td>Jennifer King</td>\n",
       "      <td>8</td>\n",
       "    </tr>\n",
       "    <tr>\n",
       "      <th>51</th>\n",
       "      <td>Europe</td>\n",
       "      <td>C0041</td>\n",
       "      <td>Lindsey Deleon</td>\n",
       "      <td>7</td>\n",
       "    </tr>\n",
       "    <tr>\n",
       "      <th>53</th>\n",
       "      <td>Europe</td>\n",
       "      <td>C0051</td>\n",
       "      <td>Nicholas Ellis</td>\n",
       "      <td>7</td>\n",
       "    </tr>\n",
       "    <tr>\n",
       "      <th>123</th>\n",
       "      <td>North America</td>\n",
       "      <td>C0109</td>\n",
       "      <td>Abigail Jones</td>\n",
       "      <td>11</td>\n",
       "    </tr>\n",
       "    <tr>\n",
       "      <th>132</th>\n",
       "      <td>North America</td>\n",
       "      <td>C0156</td>\n",
       "      <td>William Adams</td>\n",
       "      <td>11</td>\n",
       "    </tr>\n",
       "    <tr>\n",
       "      <th>94</th>\n",
       "      <td>North America</td>\n",
       "      <td>C0008</td>\n",
       "      <td>David Li</td>\n",
       "      <td>10</td>\n",
       "    </tr>\n",
       "    <tr>\n",
       "      <th>116</th>\n",
       "      <td>North America</td>\n",
       "      <td>C0065</td>\n",
       "      <td>Gerald Hines</td>\n",
       "      <td>10</td>\n",
       "    </tr>\n",
       "    <tr>\n",
       "      <th>111</th>\n",
       "      <td>North America</td>\n",
       "      <td>C0049</td>\n",
       "      <td>Jason Yates</td>\n",
       "      <td>8</td>\n",
       "    </tr>\n",
       "    <tr>\n",
       "      <th>177</th>\n",
       "      <td>South America</td>\n",
       "      <td>C0147</td>\n",
       "      <td>Hunter Fuller</td>\n",
       "      <td>9</td>\n",
       "    </tr>\n",
       "    <tr>\n",
       "      <th>186</th>\n",
       "      <td>South America</td>\n",
       "      <td>C0165</td>\n",
       "      <td>Juan Mcdaniel</td>\n",
       "      <td>9</td>\n",
       "    </tr>\n",
       "    <tr>\n",
       "      <th>142</th>\n",
       "      <td>South America</td>\n",
       "      <td>C0004</td>\n",
       "      <td>Kathleen Rodriguez</td>\n",
       "      <td>8</td>\n",
       "    </tr>\n",
       "    <tr>\n",
       "      <th>163</th>\n",
       "      <td>South America</td>\n",
       "      <td>C0099</td>\n",
       "      <td>Rodney Eaton</td>\n",
       "      <td>8</td>\n",
       "    </tr>\n",
       "    <tr>\n",
       "      <th>164</th>\n",
       "      <td>South America</td>\n",
       "      <td>C0102</td>\n",
       "      <td>Michael Atkinson</td>\n",
       "      <td>8</td>\n",
       "    </tr>\n",
       "  </tbody>\n",
       "</table>\n",
       "</div>"
      ],
      "text/plain": [
       "            Region CustomerID        CustomerName  OrderCount\n",
       "38            Asia      C0175     Matthew Johnson          10\n",
       "14            Asia      C0084      Belinda Garner           9\n",
       "18            Asia      C0093        Nancy Walker           9\n",
       "3             Asia      C0021    Robert Blanchard           8\n",
       "6             Asia      C0028       Jennifer Pena           8\n",
       "81          Europe      C0141        Paul Parsons          10\n",
       "66          Europe      C0075       Misty Higgins           9\n",
       "47          Europe      C0017       Jennifer King           8\n",
       "51          Europe      C0041      Lindsey Deleon           7\n",
       "53          Europe      C0051      Nicholas Ellis           7\n",
       "123  North America      C0109       Abigail Jones          11\n",
       "132  North America      C0156       William Adams          11\n",
       "94   North America      C0008            David Li          10\n",
       "116  North America      C0065        Gerald Hines          10\n",
       "111  North America      C0049         Jason Yates           8\n",
       "177  South America      C0147       Hunter Fuller           9\n",
       "186  South America      C0165       Juan Mcdaniel           9\n",
       "142  South America      C0004  Kathleen Rodriguez           8\n",
       "163  South America      C0099        Rodney Eaton           8\n",
       "164  South America      C0102    Michael Atkinson           8"
      ]
     },
     "execution_count": 125,
     "metadata": {},
     "output_type": "execute_result"
    }
   ],
   "source": [
    "customer_order_counts = dataset.groupby(['Region', 'CustomerID','CustomerName'])['TransactionID'].count().reset_index(name='OrderCount')\n",
    "\n",
    "\n",
    "customer_order_counts = customer_order_counts.sort_values(by=['Region', 'OrderCount'], ascending=[True, False])\n",
    "\n",
    "\n",
    "top_5_customers_by_region = customer_order_counts.groupby('Region').head(5)\n",
    "\n",
    "\n",
    "top_5_customers_by_region"
   ]
  },
  {
   "cell_type": "markdown",
   "id": "a020da09",
   "metadata": {},
   "source": [
    "#### Monthly sales trend"
   ]
  },
  {
   "cell_type": "code",
   "execution_count": 127,
   "id": "82f2d4c7",
   "metadata": {},
   "outputs": [],
   "source": [
    "import datetime as dt"
   ]
  },
  {
   "cell_type": "code",
   "execution_count": 130,
   "id": "8ac7334c",
   "metadata": {},
   "outputs": [],
   "source": [
    "dataset['TransactionDate'] = pd.to_datetime(dataset['TransactionDate'], errors='coerce')"
   ]
  },
  {
   "cell_type": "code",
   "execution_count": 131,
   "id": "8f7329aa",
   "metadata": {},
   "outputs": [
    {
     "data": {
      "text/plain": [
       "<AxesSubplot:title={'center':'Monthly Sales Trend'}, xlabel='MonthYear'>"
      ]
     },
     "execution_count": 131,
     "metadata": {},
     "output_type": "execute_result"
    },
    {
     "data": {
      "image/png": "[encoded data removed]",
      "text/plain": [
       "<Figure size 432x288 with 1 Axes>"
      ]
     },
     "metadata": {
      "needs_background": "light"
     },
     "output_type": "display_data"
    }
   ],
   "source": [
    "dataset['MonthYear'] = dataset['TransactionDate'].dt.to_period('M')\n",
    "monthly_sales = dataset.groupby('MonthYear')['TotalValue'].sum()\n",
    "monthly_sales.plot(title='Monthly Sales Trend')"
   ]
  },
  {
   "cell_type": "code",
   "execution_count": null,
   "id": "00ff0cc4",
   "metadata": {},
   "outputs": [],
   "source": []
  }
 ],
 "metadata": {
  "kernelspec": {
   "display_name": "Python 3 (ipykernel)",
   "language": "python",
   "name": "python3"
  },
  "language_info": {
   "codemirror_mode": {
    "name": "ipython",
    "version": 3
   },
   "file_extension": ".py",
   "mimetype": "text/x-python",
   "name": "python",
   "nbconvert_exporter": "python",
   "pygments_lexer": "ipython3",
   "version": "3.9.12"
  }
 },
 "nbformat": 4,
 "nbformat_minor": 5
}
